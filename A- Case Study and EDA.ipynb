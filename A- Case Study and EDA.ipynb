{
 "cells": [
  {
   "cell_type": "markdown",
   "metadata": {},
   "source": [
    "# Data Analysis"
   ]
  },
  {
   "cell_type": "markdown",
   "metadata": {},
   "source": [
    "## Libs & Helper Functions"
   ]
  },
  {
   "cell_type": "code",
   "execution_count": 20,
   "metadata": {},
   "outputs": [],
   "source": [
    "import pandas as pd\n",
    "from pandasql import sqldf\n",
    "import plotly.express as px\n",
    "import matplotlib.pyplot as plt\n",
    "import numpy as np\n",
    "import plotly.graph_objects as go"
   ]
  },
  {
   "cell_type": "code",
   "execution_count": 21,
   "metadata": {},
   "outputs": [],
   "source": [
    "def query_table(query_text):\n",
    "    result = sqldf(query_text, globals())\n",
    "    return result"
   ]
  },
  {
   "cell_type": "markdown",
   "metadata": {},
   "source": [
    "## Datasets"
   ]
  },
  {
   "cell_type": "code",
   "execution_count": 22,
   "metadata": {},
   "outputs": [],
   "source": [
    "df_user = pd.read_csv('business_data_analyst_tech_challenge_2023_h2_user_data.csv')\n",
    "df_transactions = pd.read_csv('business_data_analyst_tech_challenge_2023_h2_transaction_data.csv')"
   ]
  },
  {
   "cell_type": "code",
   "execution_count": 23,
   "metadata": {},
   "outputs": [],
   "source": [
    "dim_user = query_table('SELECT * FROM df_user')\n",
    "\n",
    "fct_transactions = query_table('SELECT * FROM df_transactions')\n",
    "\n",
    "dim_age_bin = query_table('''\n",
    "WITH age_groups AS \n",
    "(\n",
    "   SELECT\n",
    "      age,\n",
    "      NTILE(5) OVER (\n",
    "   ORDER BY\n",
    "      age) AS age_bin \n",
    "   FROM\n",
    "      dim_user \n",
    "   WHERE\n",
    "      age BETWEEN 17 AND 98 \t\t--There are some users with age over 100 years, we are considering as typo\n",
    ")\n",
    "SELECT\n",
    "   age_bin,\n",
    "   COUNT(*) AS unique_users,\n",
    "   CAST(MIN(age) AS INT) AS vl_age_bin_min,\n",
    "   CAST(MAX(age) AS INT) AS vl_age_bin_max,\n",
    "   CAST(MIN(age) AS INT) || '-' || CAST(MAX(age) AS INT) AS nm_age_bin \n",
    "FROM\n",
    "   age_groups \n",
    "GROUP BY\n",
    "   1\n",
    "''')"
   ]
  },
  {
   "cell_type": "code",
   "execution_count": 26,
   "metadata": {},
   "outputs": [
    {
     "data": {
      "text/html": [
       "<div>\n",
       "<style scoped>\n",
       "    .dataframe tbody tr th:only-of-type {\n",
       "        vertical-align: middle;\n",
       "    }\n",
       "\n",
       "    .dataframe tbody tr th {\n",
       "        vertical-align: top;\n",
       "    }\n",
       "\n",
       "    .dataframe thead th {\n",
       "        text-align: right;\n",
       "    }\n",
       "</style>\n",
       "<table border=\"1\" class=\"dataframe\">\n",
       "  <thead>\n",
       "    <tr style=\"text-align: right;\">\n",
       "      <th></th>\n",
       "      <th>user_id</th>\n",
       "      <th>timestamp</th>\n",
       "      <th>deposit_usd</th>\n",
       "      <th>withdrawal_usd</th>\n",
       "      <th>spot_trade_volume_usd</th>\n",
       "      <th>web3_thematic_purchase_usd</th>\n",
       "      <th>golden_thematic_purchase_usd</th>\n",
       "      <th>web3_thematic_sell_usd</th>\n",
       "      <th>golden_thematic_sell_usd</th>\n",
       "      <th>country_code</th>\n",
       "      <th>total_claimed_wealth_usd</th>\n",
       "      <th>age</th>\n",
       "      <th>nm_age_bin</th>\n",
       "    </tr>\n",
       "  </thead>\n",
       "  <tbody>\n",
       "    <tr>\n",
       "      <th>0</th>\n",
       "      <td>af0cbfcbc797f44ae08bdcb9ad1e3365</td>\n",
       "      <td>2023-01-01</td>\n",
       "      <td>240.806465</td>\n",
       "      <td>266.091144</td>\n",
       "      <td>12.653927</td>\n",
       "      <td>NaN</td>\n",
       "      <td>NaN</td>\n",
       "      <td>NaN</td>\n",
       "      <td>NaN</td>\n",
       "      <td>GB</td>\n",
       "      <td>0_to_50k</td>\n",
       "      <td>41.0</td>\n",
       "      <td>35-45</td>\n",
       "    </tr>\n",
       "    <tr>\n",
       "      <th>1</th>\n",
       "      <td>c926e100b218db893d93032071c4409a</td>\n",
       "      <td>2023-01-01</td>\n",
       "      <td>129.224881</td>\n",
       "      <td>136.608073</td>\n",
       "      <td>3.691596</td>\n",
       "      <td>NaN</td>\n",
       "      <td>NaN</td>\n",
       "      <td>NaN</td>\n",
       "      <td>NaN</td>\n",
       "      <td>PL</td>\n",
       "      <td>0_to_50k</td>\n",
       "      <td>21.0</td>\n",
       "      <td>17-22</td>\n",
       "    </tr>\n",
       "    <tr>\n",
       "      <th>2</th>\n",
       "      <td>f2d1f504e16b5da35577da027ee77730</td>\n",
       "      <td>2023-01-01</td>\n",
       "      <td>50.655233</td>\n",
       "      <td>56.014557</td>\n",
       "      <td>2.684015</td>\n",
       "      <td>NaN</td>\n",
       "      <td>NaN</td>\n",
       "      <td>NaN</td>\n",
       "      <td>NaN</td>\n",
       "      <td>GB</td>\n",
       "      <td>50k_to_200k</td>\n",
       "      <td>37.0</td>\n",
       "      <td>35-45</td>\n",
       "    </tr>\n",
       "    <tr>\n",
       "      <th>3</th>\n",
       "      <td>1a8eee8df2bf99e5a018891c2958ef41</td>\n",
       "      <td>2023-01-01</td>\n",
       "      <td>30.791152</td>\n",
       "      <td>NaN</td>\n",
       "      <td>30.479976</td>\n",
       "      <td>NaN</td>\n",
       "      <td>NaN</td>\n",
       "      <td>NaN</td>\n",
       "      <td>NaN</td>\n",
       "      <td>FR</td>\n",
       "      <td>0_to_50k</td>\n",
       "      <td>25.0</td>\n",
       "      <td>22-28</td>\n",
       "    </tr>\n",
       "    <tr>\n",
       "      <th>4</th>\n",
       "      <td>e3619093914742a6c0ddbb34e9bc9729</td>\n",
       "      <td>2023-01-01</td>\n",
       "      <td>5666.924522</td>\n",
       "      <td>NaN</td>\n",
       "      <td>248.595810</td>\n",
       "      <td>NaN</td>\n",
       "      <td>NaN</td>\n",
       "      <td>NaN</td>\n",
       "      <td>NaN</td>\n",
       "      <td>FR</td>\n",
       "      <td>50k_to_200k</td>\n",
       "      <td>31.0</td>\n",
       "      <td>28-35</td>\n",
       "    </tr>\n",
       "    <tr>\n",
       "      <th>...</th>\n",
       "      <td>...</td>\n",
       "      <td>...</td>\n",
       "      <td>...</td>\n",
       "      <td>...</td>\n",
       "      <td>...</td>\n",
       "      <td>...</td>\n",
       "      <td>...</td>\n",
       "      <td>...</td>\n",
       "      <td>...</td>\n",
       "      <td>...</td>\n",
       "      <td>...</td>\n",
       "      <td>...</td>\n",
       "      <td>...</td>\n",
       "    </tr>\n",
       "    <tr>\n",
       "      <th>77572</th>\n",
       "      <td>c254c3852fcbb89b7a6e0fe98a3c36c0</td>\n",
       "      <td>2023-08-14</td>\n",
       "      <td>48.720828</td>\n",
       "      <td>NaN</td>\n",
       "      <td>3094.448141</td>\n",
       "      <td>NaN</td>\n",
       "      <td>NaN</td>\n",
       "      <td>NaN</td>\n",
       "      <td>NaN</td>\n",
       "      <td>CH</td>\n",
       "      <td>0_to_50k</td>\n",
       "      <td>36.0</td>\n",
       "      <td>35-45</td>\n",
       "    </tr>\n",
       "    <tr>\n",
       "      <th>77573</th>\n",
       "      <td>7046a3dfe1b887489bf3af27faab2c5c</td>\n",
       "      <td>2023-08-14</td>\n",
       "      <td>882.744358</td>\n",
       "      <td>NaN</td>\n",
       "      <td>NaN</td>\n",
       "      <td>NaN</td>\n",
       "      <td>NaN</td>\n",
       "      <td>NaN</td>\n",
       "      <td>NaN</td>\n",
       "      <td>MT</td>\n",
       "      <td>200k_to_1m</td>\n",
       "      <td>28.0</td>\n",
       "      <td>28-35</td>\n",
       "    </tr>\n",
       "    <tr>\n",
       "      <th>77574</th>\n",
       "      <td>5b89d8fca257bf9734ea442ab8206c4e</td>\n",
       "      <td>2023-08-14</td>\n",
       "      <td>NaN</td>\n",
       "      <td>72.711829</td>\n",
       "      <td>NaN</td>\n",
       "      <td>NaN</td>\n",
       "      <td>NaN</td>\n",
       "      <td>NaN</td>\n",
       "      <td>NaN</td>\n",
       "      <td>DE</td>\n",
       "      <td>0_to_50k</td>\n",
       "      <td>55.0</td>\n",
       "      <td>45-97</td>\n",
       "    </tr>\n",
       "    <tr>\n",
       "      <th>77575</th>\n",
       "      <td>1e964c782583686e9efed8caa41bf51b</td>\n",
       "      <td>2023-08-14</td>\n",
       "      <td>353.232435</td>\n",
       "      <td>NaN</td>\n",
       "      <td>NaN</td>\n",
       "      <td>NaN</td>\n",
       "      <td>NaN</td>\n",
       "      <td>NaN</td>\n",
       "      <td>NaN</td>\n",
       "      <td>CH</td>\n",
       "      <td>0_to_50k</td>\n",
       "      <td>24.0</td>\n",
       "      <td>22-28</td>\n",
       "    </tr>\n",
       "    <tr>\n",
       "      <th>77576</th>\n",
       "      <td>36d44d12c92f21db0e78eea6178c61fd</td>\n",
       "      <td>2023-08-14</td>\n",
       "      <td>656.473803</td>\n",
       "      <td>NaN</td>\n",
       "      <td>NaN</td>\n",
       "      <td>NaN</td>\n",
       "      <td>NaN</td>\n",
       "      <td>NaN</td>\n",
       "      <td>NaN</td>\n",
       "      <td>FR</td>\n",
       "      <td>200k_to_1m</td>\n",
       "      <td>40.0</td>\n",
       "      <td>35-45</td>\n",
       "    </tr>\n",
       "  </tbody>\n",
       "</table>\n",
       "<p>77577 rows × 13 columns</p>\n",
       "</div>"
      ],
      "text/plain": [
       "                                user_id   timestamp  deposit_usd  \\\n",
       "0      af0cbfcbc797f44ae08bdcb9ad1e3365  2023-01-01   240.806465   \n",
       "1      c926e100b218db893d93032071c4409a  2023-01-01   129.224881   \n",
       "2      f2d1f504e16b5da35577da027ee77730  2023-01-01    50.655233   \n",
       "3      1a8eee8df2bf99e5a018891c2958ef41  2023-01-01    30.791152   \n",
       "4      e3619093914742a6c0ddbb34e9bc9729  2023-01-01  5666.924522   \n",
       "...                                 ...         ...          ...   \n",
       "77572  c254c3852fcbb89b7a6e0fe98a3c36c0  2023-08-14    48.720828   \n",
       "77573  7046a3dfe1b887489bf3af27faab2c5c  2023-08-14   882.744358   \n",
       "77574  5b89d8fca257bf9734ea442ab8206c4e  2023-08-14          NaN   \n",
       "77575  1e964c782583686e9efed8caa41bf51b  2023-08-14   353.232435   \n",
       "77576  36d44d12c92f21db0e78eea6178c61fd  2023-08-14   656.473803   \n",
       "\n",
       "       withdrawal_usd  spot_trade_volume_usd  web3_thematic_purchase_usd  \\\n",
       "0          266.091144              12.653927                         NaN   \n",
       "1          136.608073               3.691596                         NaN   \n",
       "2           56.014557               2.684015                         NaN   \n",
       "3                 NaN              30.479976                         NaN   \n",
       "4                 NaN             248.595810                         NaN   \n",
       "...               ...                    ...                         ...   \n",
       "77572             NaN            3094.448141                         NaN   \n",
       "77573             NaN                    NaN                         NaN   \n",
       "77574       72.711829                    NaN                         NaN   \n",
       "77575             NaN                    NaN                         NaN   \n",
       "77576             NaN                    NaN                         NaN   \n",
       "\n",
       "       golden_thematic_purchase_usd  web3_thematic_sell_usd  \\\n",
       "0                               NaN                     NaN   \n",
       "1                               NaN                     NaN   \n",
       "2                               NaN                     NaN   \n",
       "3                               NaN                     NaN   \n",
       "4                               NaN                     NaN   \n",
       "...                             ...                     ...   \n",
       "77572                           NaN                     NaN   \n",
       "77573                           NaN                     NaN   \n",
       "77574                           NaN                     NaN   \n",
       "77575                           NaN                     NaN   \n",
       "77576                           NaN                     NaN   \n",
       "\n",
       "       golden_thematic_sell_usd country_code total_claimed_wealth_usd   age  \\\n",
       "0                           NaN           GB                 0_to_50k  41.0   \n",
       "1                           NaN           PL                 0_to_50k  21.0   \n",
       "2                           NaN           GB              50k_to_200k  37.0   \n",
       "3                           NaN           FR                 0_to_50k  25.0   \n",
       "4                           NaN           FR              50k_to_200k  31.0   \n",
       "...                         ...          ...                      ...   ...   \n",
       "77572                       NaN           CH                 0_to_50k  36.0   \n",
       "77573                       NaN           MT               200k_to_1m  28.0   \n",
       "77574                       NaN           DE                 0_to_50k  55.0   \n",
       "77575                       NaN           CH                 0_to_50k  24.0   \n",
       "77576                       NaN           FR               200k_to_1m  40.0   \n",
       "\n",
       "      nm_age_bin  \n",
       "0          35-45  \n",
       "1          17-22  \n",
       "2          35-45  \n",
       "3          22-28  \n",
       "4          28-35  \n",
       "...          ...  \n",
       "77572      35-45  \n",
       "77573      28-35  \n",
       "77574      45-97  \n",
       "77575      22-28  \n",
       "77576      35-45  \n",
       "\n",
       "[77577 rows x 13 columns]"
      ]
     },
     "execution_count": 26,
     "metadata": {},
     "output_type": "execute_result"
    }
   ],
   "source": [
    "obt_transactions = query_table('''\n",
    "    SELECT\n",
    "        f.*,\n",
    "        u.country_code,\n",
    "        u.total_claimed_wealth_usd,\n",
    "        u.age,\n",
    "        a.nm_age_bin\n",
    "    FROM \n",
    "        fct_transactions AS f\n",
    "    LEFT JOIN\n",
    "        dim_user AS u\n",
    "        ON f.user_id = u.user_id \n",
    "    LEFT JOIN\n",
    "        dim_age_bin AS a\n",
    "        ON u.age >= a.vl_age_bin_min \n",
    "        AND u.age < a.vl_age_bin_max \n",
    "''')"
   ]
  },
  {
   "cell_type": "markdown",
   "metadata": {},
   "source": [
    "## EDA"
   ]
  },
  {
   "cell_type": "code",
   "execution_count": 27,
   "metadata": {},
   "outputs": [
    {
     "data": {
      "text/plain": [
       "user_id                             0\n",
       "timestamp                           0\n",
       "deposit_usd                     35351\n",
       "withdrawal_usd                  55834\n",
       "spot_trade_volume_usd           18300\n",
       "web3_thematic_purchase_usd      73873\n",
       "golden_thematic_purchase_usd    76887\n",
       "web3_thematic_sell_usd          76446\n",
       "golden_thematic_sell_usd        77471\n",
       "country_code                        0\n",
       "total_claimed_wealth_usd            0\n",
       "age                                 0\n",
       "nm_age_bin                          3\n",
       "dtype: int64"
      ]
     },
     "execution_count": 27,
     "metadata": {},
     "output_type": "execute_result"
    }
   ],
   "source": [
    "obt_transactions.isnull().sum()"
   ]
  },
  {
   "cell_type": "markdown",
   "metadata": {},
   "source": [
    "#### Splitting Variables"
   ]
  },
  {
   "cell_type": "code",
   "execution_count": 28,
   "metadata": {},
   "outputs": [],
   "source": [
    "# Split dataset in numerics or categorical columns\n",
    "num_attributes = obt_transactions.select_dtypes(include=['int64','float64'])\n",
    "cat_attributes = obt_transactions.select_dtypes(exclude=['int64','float64','datetime64[ns]'])"
   ]
  },
  {
   "cell_type": "code",
   "execution_count": 29,
   "metadata": {},
   "outputs": [
    {
     "data": {
      "text/html": [
       "<div>\n",
       "<style scoped>\n",
       "    .dataframe tbody tr th:only-of-type {\n",
       "        vertical-align: middle;\n",
       "    }\n",
       "\n",
       "    .dataframe tbody tr th {\n",
       "        vertical-align: top;\n",
       "    }\n",
       "\n",
       "    .dataframe thead th {\n",
       "        text-align: right;\n",
       "    }\n",
       "</style>\n",
       "<table border=\"1\" class=\"dataframe\">\n",
       "  <thead>\n",
       "    <tr style=\"text-align: right;\">\n",
       "      <th></th>\n",
       "      <th>count</th>\n",
       "      <th>mean</th>\n",
       "      <th>std</th>\n",
       "      <th>min</th>\n",
       "      <th>25%</th>\n",
       "      <th>50%</th>\n",
       "      <th>75%</th>\n",
       "      <th>max</th>\n",
       "    </tr>\n",
       "  </thead>\n",
       "  <tbody>\n",
       "    <tr>\n",
       "      <th>deposit_usd</th>\n",
       "      <td>42226.0</td>\n",
       "      <td>4894.192345</td>\n",
       "      <td>27289.209158</td>\n",
       "      <td>0.000212</td>\n",
       "      <td>159.698758</td>\n",
       "      <td>552.301750</td>\n",
       "      <td>2336.372531</td>\n",
       "      <td>2.277356e+06</td>\n",
       "    </tr>\n",
       "    <tr>\n",
       "      <th>withdrawal_usd</th>\n",
       "      <td>21743.0</td>\n",
       "      <td>6334.320714</td>\n",
       "      <td>33904.203987</td>\n",
       "      <td>0.335861</td>\n",
       "      <td>182.111741</td>\n",
       "      <td>681.398460</td>\n",
       "      <td>3304.629653</td>\n",
       "      <td>2.284186e+06</td>\n",
       "    </tr>\n",
       "    <tr>\n",
       "      <th>spot_trade_volume_usd</th>\n",
       "      <td>59277.0</td>\n",
       "      <td>2025.010009</td>\n",
       "      <td>13018.526454</td>\n",
       "      <td>0.458010</td>\n",
       "      <td>56.140027</td>\n",
       "      <td>199.743963</td>\n",
       "      <td>790.966804</td>\n",
       "      <td>1.125254e+06</td>\n",
       "    </tr>\n",
       "    <tr>\n",
       "      <th>web3_thematic_purchase_usd</th>\n",
       "      <td>3704.0</td>\n",
       "      <td>378.935744</td>\n",
       "      <td>1186.277520</td>\n",
       "      <td>1.123460</td>\n",
       "      <td>32.161914</td>\n",
       "      <td>95.923625</td>\n",
       "      <td>242.340818</td>\n",
       "      <td>1.999156e+04</td>\n",
       "    </tr>\n",
       "    <tr>\n",
       "      <th>golden_thematic_purchase_usd</th>\n",
       "      <td>690.0</td>\n",
       "      <td>868.287149</td>\n",
       "      <td>3723.412282</td>\n",
       "      <td>9.859683</td>\n",
       "      <td>95.746582</td>\n",
       "      <td>182.442220</td>\n",
       "      <td>392.547715</td>\n",
       "      <td>4.459276e+04</td>\n",
       "    </tr>\n",
       "    <tr>\n",
       "      <th>web3_thematic_sell_usd</th>\n",
       "      <td>1131.0</td>\n",
       "      <td>501.569055</td>\n",
       "      <td>2022.388425</td>\n",
       "      <td>0.897963</td>\n",
       "      <td>31.767485</td>\n",
       "      <td>95.587679</td>\n",
       "      <td>289.430834</td>\n",
       "      <td>5.195406e+04</td>\n",
       "    </tr>\n",
       "    <tr>\n",
       "      <th>golden_thematic_sell_usd</th>\n",
       "      <td>106.0</td>\n",
       "      <td>1711.154838</td>\n",
       "      <td>12946.040305</td>\n",
       "      <td>11.303134</td>\n",
       "      <td>105.738116</td>\n",
       "      <td>173.424097</td>\n",
       "      <td>373.444531</td>\n",
       "      <td>1.334545e+05</td>\n",
       "    </tr>\n",
       "    <tr>\n",
       "      <th>age</th>\n",
       "      <td>77577.0</td>\n",
       "      <td>37.039174</td>\n",
       "      <td>13.314612</td>\n",
       "      <td>18.000000</td>\n",
       "      <td>26.000000</td>\n",
       "      <td>35.000000</td>\n",
       "      <td>46.000000</td>\n",
       "      <td>9.700000e+01</td>\n",
       "    </tr>\n",
       "  </tbody>\n",
       "</table>\n",
       "</div>"
      ],
      "text/plain": [
       "                                count         mean           std        min  \\\n",
       "deposit_usd                   42226.0  4894.192345  27289.209158   0.000212   \n",
       "withdrawal_usd                21743.0  6334.320714  33904.203987   0.335861   \n",
       "spot_trade_volume_usd         59277.0  2025.010009  13018.526454   0.458010   \n",
       "web3_thematic_purchase_usd     3704.0   378.935744   1186.277520   1.123460   \n",
       "golden_thematic_purchase_usd    690.0   868.287149   3723.412282   9.859683   \n",
       "web3_thematic_sell_usd         1131.0   501.569055   2022.388425   0.897963   \n",
       "golden_thematic_sell_usd        106.0  1711.154838  12946.040305  11.303134   \n",
       "age                           77577.0    37.039174     13.314612  18.000000   \n",
       "\n",
       "                                     25%         50%          75%  \\\n",
       "deposit_usd                   159.698758  552.301750  2336.372531   \n",
       "withdrawal_usd                182.111741  681.398460  3304.629653   \n",
       "spot_trade_volume_usd          56.140027  199.743963   790.966804   \n",
       "web3_thematic_purchase_usd     32.161914   95.923625   242.340818   \n",
       "golden_thematic_purchase_usd   95.746582  182.442220   392.547715   \n",
       "web3_thematic_sell_usd         31.767485   95.587679   289.430834   \n",
       "golden_thematic_sell_usd      105.738116  173.424097   373.444531   \n",
       "age                            26.000000   35.000000    46.000000   \n",
       "\n",
       "                                       max  \n",
       "deposit_usd                   2.277356e+06  \n",
       "withdrawal_usd                2.284186e+06  \n",
       "spot_trade_volume_usd         1.125254e+06  \n",
       "web3_thematic_purchase_usd    1.999156e+04  \n",
       "golden_thematic_purchase_usd  4.459276e+04  \n",
       "web3_thematic_sell_usd        5.195406e+04  \n",
       "golden_thematic_sell_usd      1.334545e+05  \n",
       "age                           9.700000e+01  "
      ]
     },
     "execution_count": 29,
     "metadata": {},
     "output_type": "execute_result"
    }
   ],
   "source": [
    "num_attributes.describe().T"
   ]
  },
  {
   "cell_type": "code",
   "execution_count": 30,
   "metadata": {},
   "outputs": [
    {
     "data": {
      "text/html": [
       "<div>\n",
       "<style scoped>\n",
       "    .dataframe tbody tr th:only-of-type {\n",
       "        vertical-align: middle;\n",
       "    }\n",
       "\n",
       "    .dataframe tbody tr th {\n",
       "        vertical-align: top;\n",
       "    }\n",
       "\n",
       "    .dataframe thead th {\n",
       "        text-align: right;\n",
       "    }\n",
       "</style>\n",
       "<table border=\"1\" class=\"dataframe\">\n",
       "  <thead>\n",
       "    <tr style=\"text-align: right;\">\n",
       "      <th></th>\n",
       "      <th>count</th>\n",
       "      <th>unique</th>\n",
       "      <th>top</th>\n",
       "      <th>freq</th>\n",
       "    </tr>\n",
       "  </thead>\n",
       "  <tbody>\n",
       "    <tr>\n",
       "      <th>user_id</th>\n",
       "      <td>77577</td>\n",
       "      <td>13766</td>\n",
       "      <td>d5bf6d0e4f0a9521d2a63ba316dab161</td>\n",
       "      <td>189</td>\n",
       "    </tr>\n",
       "    <tr>\n",
       "      <th>timestamp</th>\n",
       "      <td>77577</td>\n",
       "      <td>226</td>\n",
       "      <td>2023-07-13</td>\n",
       "      <td>697</td>\n",
       "    </tr>\n",
       "    <tr>\n",
       "      <th>country_code</th>\n",
       "      <td>77577</td>\n",
       "      <td>65</td>\n",
       "      <td>FR</td>\n",
       "      <td>20319</td>\n",
       "    </tr>\n",
       "    <tr>\n",
       "      <th>total_claimed_wealth_usd</th>\n",
       "      <td>77577</td>\n",
       "      <td>5</td>\n",
       "      <td>0_to_50k</td>\n",
       "      <td>54090</td>\n",
       "    </tr>\n",
       "    <tr>\n",
       "      <th>nm_age_bin</th>\n",
       "      <td>77574</td>\n",
       "      <td>5</td>\n",
       "      <td>45-97</td>\n",
       "      <td>21148</td>\n",
       "    </tr>\n",
       "  </tbody>\n",
       "</table>\n",
       "</div>"
      ],
      "text/plain": [
       "                          count unique                               top  \\\n",
       "user_id                   77577  13766  d5bf6d0e4f0a9521d2a63ba316dab161   \n",
       "timestamp                 77577    226                        2023-07-13   \n",
       "country_code              77577     65                                FR   \n",
       "total_claimed_wealth_usd  77577      5                          0_to_50k   \n",
       "nm_age_bin                77574      5                             45-97   \n",
       "\n",
       "                           freq  \n",
       "user_id                     189  \n",
       "timestamp                   697  \n",
       "country_code              20319  \n",
       "total_claimed_wealth_usd  54090  \n",
       "nm_age_bin                21148  "
      ]
     },
     "execution_count": 30,
     "metadata": {},
     "output_type": "execute_result"
    }
   ],
   "source": [
    "cat_attributes.describe().T"
   ]
  },
  {
   "cell_type": "code",
   "execution_count": 32,
   "metadata": {},
   "outputs": [
    {
     "data": {
      "application/vnd.plotly.v1+json": {
       "config": {
        "plotlyServerURL": "https://plot.ly"
       },
       "data": [
        {
         "colorbar": {
          "title": {
           "text": "Pearson Correlation"
          }
         },
         "colorscale": [
          [
           0,
           "rgb(214, 249, 207)"
          ],
          [
           0.09090909090909091,
           "rgb(186, 228, 174)"
          ],
          [
           0.18181818181818182,
           "rgb(156, 209, 143)"
          ],
          [
           0.2727272727272727,
           "rgb(124, 191, 115)"
          ],
          [
           0.36363636363636365,
           "rgb(85, 174, 91)"
          ],
          [
           0.45454545454545453,
           "rgb(37, 157, 81)"
          ],
          [
           0.5454545454545454,
           "rgb(7, 138, 78)"
          ],
          [
           0.6363636363636364,
           "rgb(13, 117, 71)"
          ],
          [
           0.7272727272727273,
           "rgb(23, 95, 61)"
          ],
          [
           0.8181818181818182,
           "rgb(25, 75, 49)"
          ],
          [
           0.9090909090909091,
           "rgb(23, 55, 35)"
          ],
          [
           1,
           "rgb(17, 36, 20)"
          ]
         ],
         "type": "heatmap",
         "x": [
          "deposit_usd",
          "withdrawal_usd",
          "spot_trade_volume_usd",
          "web3_thematic_purchase_usd",
          "golden_thematic_purchase_usd",
          "web3_thematic_sell_usd",
          "golden_thematic_sell_usd",
          "age"
         ],
         "y": [
          "deposit_usd",
          "withdrawal_usd",
          "spot_trade_volume_usd",
          "web3_thematic_purchase_usd",
          "golden_thematic_purchase_usd",
          "web3_thematic_sell_usd",
          "golden_thematic_sell_usd",
          "age"
         ],
         "z": [
          [
           null,
           null,
           null,
           null,
           null,
           null,
           null,
           null
          ],
          [
           0.8886301435106978,
           null,
           null,
           null,
           null,
           null,
           null,
           null
          ],
          [
           0.8862818247456344,
           0.8707695323712529,
           null,
           null,
           null,
           null,
           null,
           null
          ],
          [
           0.5537118909244362,
           0.8209055389124884,
           0.31198020635422374,
           null,
           null,
           null,
           null,
           null
          ],
          [
           0.8215017877171676,
           -0.08842895851664946,
           0.6995534558729554,
           0.8534445025022769,
           null,
           null,
           null,
           null
          ],
          [
           0.2589322704235232,
           0.2770915075244586,
           0.29107577838773324,
           0.9005562204167423,
           0.7453229514177381,
           null,
           null,
           null
          ],
          [
           0.5487674100196447,
           0.9471158987636946,
           0.9135094991165081,
           0.7284300152971261,
           0.9983855870423429,
           0.6652132918489686,
           null,
           null
          ],
          [
           0.1135319449388014,
           0.1361184872539663,
           0.10597784188880403,
           0.13585324124015968,
           0.12735259841093652,
           0.16480382897734822,
           0.19360305147030513,
           null
          ]
         ]
        }
       ],
       "layout": {
        "annotations": [
         {
          "font": {
           "color": "white"
          },
          "showarrow": false,
          "text": "nan",
          "x": "deposit_usd",
          "y": "deposit_usd"
         },
         {
          "font": {
           "color": "white"
          },
          "showarrow": false,
          "text": "nan",
          "x": "withdrawal_usd",
          "y": "deposit_usd"
         },
         {
          "font": {
           "color": "white"
          },
          "showarrow": false,
          "text": "nan",
          "x": "spot_trade_volume_usd",
          "y": "deposit_usd"
         },
         {
          "font": {
           "color": "white"
          },
          "showarrow": false,
          "text": "nan",
          "x": "web3_thematic_purchase_usd",
          "y": "deposit_usd"
         },
         {
          "font": {
           "color": "white"
          },
          "showarrow": false,
          "text": "nan",
          "x": "golden_thematic_purchase_usd",
          "y": "deposit_usd"
         },
         {
          "font": {
           "color": "white"
          },
          "showarrow": false,
          "text": "nan",
          "x": "web3_thematic_sell_usd",
          "y": "deposit_usd"
         },
         {
          "font": {
           "color": "white"
          },
          "showarrow": false,
          "text": "nan",
          "x": "golden_thematic_sell_usd",
          "y": "deposit_usd"
         },
         {
          "font": {
           "color": "white"
          },
          "showarrow": false,
          "text": "nan",
          "x": "age",
          "y": "deposit_usd"
         },
         {
          "font": {
           "color": "white"
          },
          "showarrow": false,
          "text": "0.89",
          "x": "deposit_usd",
          "y": "withdrawal_usd"
         },
         {
          "font": {
           "color": "white"
          },
          "showarrow": false,
          "text": "nan",
          "x": "withdrawal_usd",
          "y": "withdrawal_usd"
         },
         {
          "font": {
           "color": "white"
          },
          "showarrow": false,
          "text": "nan",
          "x": "spot_trade_volume_usd",
          "y": "withdrawal_usd"
         },
         {
          "font": {
           "color": "white"
          },
          "showarrow": false,
          "text": "nan",
          "x": "web3_thematic_purchase_usd",
          "y": "withdrawal_usd"
         },
         {
          "font": {
           "color": "white"
          },
          "showarrow": false,
          "text": "nan",
          "x": "golden_thematic_purchase_usd",
          "y": "withdrawal_usd"
         },
         {
          "font": {
           "color": "white"
          },
          "showarrow": false,
          "text": "nan",
          "x": "web3_thematic_sell_usd",
          "y": "withdrawal_usd"
         },
         {
          "font": {
           "color": "white"
          },
          "showarrow": false,
          "text": "nan",
          "x": "golden_thematic_sell_usd",
          "y": "withdrawal_usd"
         },
         {
          "font": {
           "color": "white"
          },
          "showarrow": false,
          "text": "nan",
          "x": "age",
          "y": "withdrawal_usd"
         },
         {
          "font": {
           "color": "white"
          },
          "showarrow": false,
          "text": "0.89",
          "x": "deposit_usd",
          "y": "spot_trade_volume_usd"
         },
         {
          "font": {
           "color": "white"
          },
          "showarrow": false,
          "text": "0.87",
          "x": "withdrawal_usd",
          "y": "spot_trade_volume_usd"
         },
         {
          "font": {
           "color": "white"
          },
          "showarrow": false,
          "text": "nan",
          "x": "spot_trade_volume_usd",
          "y": "spot_trade_volume_usd"
         },
         {
          "font": {
           "color": "white"
          },
          "showarrow": false,
          "text": "nan",
          "x": "web3_thematic_purchase_usd",
          "y": "spot_trade_volume_usd"
         },
         {
          "font": {
           "color": "white"
          },
          "showarrow": false,
          "text": "nan",
          "x": "golden_thematic_purchase_usd",
          "y": "spot_trade_volume_usd"
         },
         {
          "font": {
           "color": "white"
          },
          "showarrow": false,
          "text": "nan",
          "x": "web3_thematic_sell_usd",
          "y": "spot_trade_volume_usd"
         },
         {
          "font": {
           "color": "white"
          },
          "showarrow": false,
          "text": "nan",
          "x": "golden_thematic_sell_usd",
          "y": "spot_trade_volume_usd"
         },
         {
          "font": {
           "color": "white"
          },
          "showarrow": false,
          "text": "nan",
          "x": "age",
          "y": "spot_trade_volume_usd"
         },
         {
          "font": {
           "color": "white"
          },
          "showarrow": false,
          "text": "0.55",
          "x": "deposit_usd",
          "y": "web3_thematic_purchase_usd"
         },
         {
          "font": {
           "color": "white"
          },
          "showarrow": false,
          "text": "0.82",
          "x": "withdrawal_usd",
          "y": "web3_thematic_purchase_usd"
         },
         {
          "font": {
           "color": "white"
          },
          "showarrow": false,
          "text": "0.31",
          "x": "spot_trade_volume_usd",
          "y": "web3_thematic_purchase_usd"
         },
         {
          "font": {
           "color": "white"
          },
          "showarrow": false,
          "text": "nan",
          "x": "web3_thematic_purchase_usd",
          "y": "web3_thematic_purchase_usd"
         },
         {
          "font": {
           "color": "white"
          },
          "showarrow": false,
          "text": "nan",
          "x": "golden_thematic_purchase_usd",
          "y": "web3_thematic_purchase_usd"
         },
         {
          "font": {
           "color": "white"
          },
          "showarrow": false,
          "text": "nan",
          "x": "web3_thematic_sell_usd",
          "y": "web3_thematic_purchase_usd"
         },
         {
          "font": {
           "color": "white"
          },
          "showarrow": false,
          "text": "nan",
          "x": "golden_thematic_sell_usd",
          "y": "web3_thematic_purchase_usd"
         },
         {
          "font": {
           "color": "white"
          },
          "showarrow": false,
          "text": "nan",
          "x": "age",
          "y": "web3_thematic_purchase_usd"
         },
         {
          "font": {
           "color": "white"
          },
          "showarrow": false,
          "text": "0.82",
          "x": "deposit_usd",
          "y": "golden_thematic_purchase_usd"
         },
         {
          "font": {
           "color": "white"
          },
          "showarrow": false,
          "text": "-0.09",
          "x": "withdrawal_usd",
          "y": "golden_thematic_purchase_usd"
         },
         {
          "font": {
           "color": "white"
          },
          "showarrow": false,
          "text": "0.7",
          "x": "spot_trade_volume_usd",
          "y": "golden_thematic_purchase_usd"
         },
         {
          "font": {
           "color": "white"
          },
          "showarrow": false,
          "text": "0.85",
          "x": "web3_thematic_purchase_usd",
          "y": "golden_thematic_purchase_usd"
         },
         {
          "font": {
           "color": "white"
          },
          "showarrow": false,
          "text": "nan",
          "x": "golden_thematic_purchase_usd",
          "y": "golden_thematic_purchase_usd"
         },
         {
          "font": {
           "color": "white"
          },
          "showarrow": false,
          "text": "nan",
          "x": "web3_thematic_sell_usd",
          "y": "golden_thematic_purchase_usd"
         },
         {
          "font": {
           "color": "white"
          },
          "showarrow": false,
          "text": "nan",
          "x": "golden_thematic_sell_usd",
          "y": "golden_thematic_purchase_usd"
         },
         {
          "font": {
           "color": "white"
          },
          "showarrow": false,
          "text": "nan",
          "x": "age",
          "y": "golden_thematic_purchase_usd"
         },
         {
          "font": {
           "color": "white"
          },
          "showarrow": false,
          "text": "0.26",
          "x": "deposit_usd",
          "y": "web3_thematic_sell_usd"
         },
         {
          "font": {
           "color": "white"
          },
          "showarrow": false,
          "text": "0.28",
          "x": "withdrawal_usd",
          "y": "web3_thematic_sell_usd"
         },
         {
          "font": {
           "color": "white"
          },
          "showarrow": false,
          "text": "0.29",
          "x": "spot_trade_volume_usd",
          "y": "web3_thematic_sell_usd"
         },
         {
          "font": {
           "color": "white"
          },
          "showarrow": false,
          "text": "0.9",
          "x": "web3_thematic_purchase_usd",
          "y": "web3_thematic_sell_usd"
         },
         {
          "font": {
           "color": "white"
          },
          "showarrow": false,
          "text": "0.75",
          "x": "golden_thematic_purchase_usd",
          "y": "web3_thematic_sell_usd"
         },
         {
          "font": {
           "color": "white"
          },
          "showarrow": false,
          "text": "nan",
          "x": "web3_thematic_sell_usd",
          "y": "web3_thematic_sell_usd"
         },
         {
          "font": {
           "color": "white"
          },
          "showarrow": false,
          "text": "nan",
          "x": "golden_thematic_sell_usd",
          "y": "web3_thematic_sell_usd"
         },
         {
          "font": {
           "color": "white"
          },
          "showarrow": false,
          "text": "nan",
          "x": "age",
          "y": "web3_thematic_sell_usd"
         },
         {
          "font": {
           "color": "white"
          },
          "showarrow": false,
          "text": "0.55",
          "x": "deposit_usd",
          "y": "golden_thematic_sell_usd"
         },
         {
          "font": {
           "color": "white"
          },
          "showarrow": false,
          "text": "0.95",
          "x": "withdrawal_usd",
          "y": "golden_thematic_sell_usd"
         },
         {
          "font": {
           "color": "white"
          },
          "showarrow": false,
          "text": "0.91",
          "x": "spot_trade_volume_usd",
          "y": "golden_thematic_sell_usd"
         },
         {
          "font": {
           "color": "white"
          },
          "showarrow": false,
          "text": "0.73",
          "x": "web3_thematic_purchase_usd",
          "y": "golden_thematic_sell_usd"
         },
         {
          "font": {
           "color": "white"
          },
          "showarrow": false,
          "text": "1.0",
          "x": "golden_thematic_purchase_usd",
          "y": "golden_thematic_sell_usd"
         },
         {
          "font": {
           "color": "white"
          },
          "showarrow": false,
          "text": "0.67",
          "x": "web3_thematic_sell_usd",
          "y": "golden_thematic_sell_usd"
         },
         {
          "font": {
           "color": "white"
          },
          "showarrow": false,
          "text": "nan",
          "x": "golden_thematic_sell_usd",
          "y": "golden_thematic_sell_usd"
         },
         {
          "font": {
           "color": "white"
          },
          "showarrow": false,
          "text": "nan",
          "x": "age",
          "y": "golden_thematic_sell_usd"
         },
         {
          "font": {
           "color": "white"
          },
          "showarrow": false,
          "text": "0.11",
          "x": "deposit_usd",
          "y": "age"
         },
         {
          "font": {
           "color": "white"
          },
          "showarrow": false,
          "text": "0.14",
          "x": "withdrawal_usd",
          "y": "age"
         },
         {
          "font": {
           "color": "white"
          },
          "showarrow": false,
          "text": "0.11",
          "x": "spot_trade_volume_usd",
          "y": "age"
         },
         {
          "font": {
           "color": "white"
          },
          "showarrow": false,
          "text": "0.14",
          "x": "web3_thematic_purchase_usd",
          "y": "age"
         },
         {
          "font": {
           "color": "white"
          },
          "showarrow": false,
          "text": "0.13",
          "x": "golden_thematic_purchase_usd",
          "y": "age"
         },
         {
          "font": {
           "color": "white"
          },
          "showarrow": false,
          "text": "0.16",
          "x": "web3_thematic_sell_usd",
          "y": "age"
         },
         {
          "font": {
           "color": "white"
          },
          "showarrow": false,
          "text": "0.19",
          "x": "golden_thematic_sell_usd",
          "y": "age"
         },
         {
          "font": {
           "color": "white"
          },
          "showarrow": false,
          "text": "nan",
          "x": "age",
          "y": "age"
         }
        ],
        "template": {
         "data": {
          "bar": [
           {
            "error_x": {
             "color": "#2a3f5f"
            },
            "error_y": {
             "color": "#2a3f5f"
            },
            "marker": {
             "line": {
              "color": "#E5ECF6",
              "width": 0.5
             },
             "pattern": {
              "fillmode": "overlay",
              "size": 10,
              "solidity": 0.2
             }
            },
            "type": "bar"
           }
          ],
          "barpolar": [
           {
            "marker": {
             "line": {
              "color": "#E5ECF6",
              "width": 0.5
             },
             "pattern": {
              "fillmode": "overlay",
              "size": 10,
              "solidity": 0.2
             }
            },
            "type": "barpolar"
           }
          ],
          "carpet": [
           {
            "aaxis": {
             "endlinecolor": "#2a3f5f",
             "gridcolor": "white",
             "linecolor": "white",
             "minorgridcolor": "white",
             "startlinecolor": "#2a3f5f"
            },
            "baxis": {
             "endlinecolor": "#2a3f5f",
             "gridcolor": "white",
             "linecolor": "white",
             "minorgridcolor": "white",
             "startlinecolor": "#2a3f5f"
            },
            "type": "carpet"
           }
          ],
          "choropleth": [
           {
            "colorbar": {
             "outlinewidth": 0,
             "ticks": ""
            },
            "type": "choropleth"
           }
          ],
          "contour": [
           {
            "colorbar": {
             "outlinewidth": 0,
             "ticks": ""
            },
            "colorscale": [
             [
              0,
              "#0d0887"
             ],
             [
              0.1111111111111111,
              "#46039f"
             ],
             [
              0.2222222222222222,
              "#7201a8"
             ],
             [
              0.3333333333333333,
              "#9c179e"
             ],
             [
              0.4444444444444444,
              "#bd3786"
             ],
             [
              0.5555555555555556,
              "#d8576b"
             ],
             [
              0.6666666666666666,
              "#ed7953"
             ],
             [
              0.7777777777777778,
              "#fb9f3a"
             ],
             [
              0.8888888888888888,
              "#fdca26"
             ],
             [
              1,
              "#f0f921"
             ]
            ],
            "type": "contour"
           }
          ],
          "contourcarpet": [
           {
            "colorbar": {
             "outlinewidth": 0,
             "ticks": ""
            },
            "type": "contourcarpet"
           }
          ],
          "heatmap": [
           {
            "colorbar": {
             "outlinewidth": 0,
             "ticks": ""
            },
            "colorscale": [
             [
              0,
              "#0d0887"
             ],
             [
              0.1111111111111111,
              "#46039f"
             ],
             [
              0.2222222222222222,
              "#7201a8"
             ],
             [
              0.3333333333333333,
              "#9c179e"
             ],
             [
              0.4444444444444444,
              "#bd3786"
             ],
             [
              0.5555555555555556,
              "#d8576b"
             ],
             [
              0.6666666666666666,
              "#ed7953"
             ],
             [
              0.7777777777777778,
              "#fb9f3a"
             ],
             [
              0.8888888888888888,
              "#fdca26"
             ],
             [
              1,
              "#f0f921"
             ]
            ],
            "type": "heatmap"
           }
          ],
          "heatmapgl": [
           {
            "colorbar": {
             "outlinewidth": 0,
             "ticks": ""
            },
            "colorscale": [
             [
              0,
              "#0d0887"
             ],
             [
              0.1111111111111111,
              "#46039f"
             ],
             [
              0.2222222222222222,
              "#7201a8"
             ],
             [
              0.3333333333333333,
              "#9c179e"
             ],
             [
              0.4444444444444444,
              "#bd3786"
             ],
             [
              0.5555555555555556,
              "#d8576b"
             ],
             [
              0.6666666666666666,
              "#ed7953"
             ],
             [
              0.7777777777777778,
              "#fb9f3a"
             ],
             [
              0.8888888888888888,
              "#fdca26"
             ],
             [
              1,
              "#f0f921"
             ]
            ],
            "type": "heatmapgl"
           }
          ],
          "histogram": [
           {
            "marker": {
             "pattern": {
              "fillmode": "overlay",
              "size": 10,
              "solidity": 0.2
             }
            },
            "type": "histogram"
           }
          ],
          "histogram2d": [
           {
            "colorbar": {
             "outlinewidth": 0,
             "ticks": ""
            },
            "colorscale": [
             [
              0,
              "#0d0887"
             ],
             [
              0.1111111111111111,
              "#46039f"
             ],
             [
              0.2222222222222222,
              "#7201a8"
             ],
             [
              0.3333333333333333,
              "#9c179e"
             ],
             [
              0.4444444444444444,
              "#bd3786"
             ],
             [
              0.5555555555555556,
              "#d8576b"
             ],
             [
              0.6666666666666666,
              "#ed7953"
             ],
             [
              0.7777777777777778,
              "#fb9f3a"
             ],
             [
              0.8888888888888888,
              "#fdca26"
             ],
             [
              1,
              "#f0f921"
             ]
            ],
            "type": "histogram2d"
           }
          ],
          "histogram2dcontour": [
           {
            "colorbar": {
             "outlinewidth": 0,
             "ticks": ""
            },
            "colorscale": [
             [
              0,
              "#0d0887"
             ],
             [
              0.1111111111111111,
              "#46039f"
             ],
             [
              0.2222222222222222,
              "#7201a8"
             ],
             [
              0.3333333333333333,
              "#9c179e"
             ],
             [
              0.4444444444444444,
              "#bd3786"
             ],
             [
              0.5555555555555556,
              "#d8576b"
             ],
             [
              0.6666666666666666,
              "#ed7953"
             ],
             [
              0.7777777777777778,
              "#fb9f3a"
             ],
             [
              0.8888888888888888,
              "#fdca26"
             ],
             [
              1,
              "#f0f921"
             ]
            ],
            "type": "histogram2dcontour"
           }
          ],
          "mesh3d": [
           {
            "colorbar": {
             "outlinewidth": 0,
             "ticks": ""
            },
            "type": "mesh3d"
           }
          ],
          "parcoords": [
           {
            "line": {
             "colorbar": {
              "outlinewidth": 0,
              "ticks": ""
             }
            },
            "type": "parcoords"
           }
          ],
          "pie": [
           {
            "automargin": true,
            "type": "pie"
           }
          ],
          "scatter": [
           {
            "fillpattern": {
             "fillmode": "overlay",
             "size": 10,
             "solidity": 0.2
            },
            "type": "scatter"
           }
          ],
          "scatter3d": [
           {
            "line": {
             "colorbar": {
              "outlinewidth": 0,
              "ticks": ""
             }
            },
            "marker": {
             "colorbar": {
              "outlinewidth": 0,
              "ticks": ""
             }
            },
            "type": "scatter3d"
           }
          ],
          "scattercarpet": [
           {
            "marker": {
             "colorbar": {
              "outlinewidth": 0,
              "ticks": ""
             }
            },
            "type": "scattercarpet"
           }
          ],
          "scattergeo": [
           {
            "marker": {
             "colorbar": {
              "outlinewidth": 0,
              "ticks": ""
             }
            },
            "type": "scattergeo"
           }
          ],
          "scattergl": [
           {
            "marker": {
             "colorbar": {
              "outlinewidth": 0,
              "ticks": ""
             }
            },
            "type": "scattergl"
           }
          ],
          "scattermapbox": [
           {
            "marker": {
             "colorbar": {
              "outlinewidth": 0,
              "ticks": ""
             }
            },
            "type": "scattermapbox"
           }
          ],
          "scatterpolar": [
           {
            "marker": {
             "colorbar": {
              "outlinewidth": 0,
              "ticks": ""
             }
            },
            "type": "scatterpolar"
           }
          ],
          "scatterpolargl": [
           {
            "marker": {
             "colorbar": {
              "outlinewidth": 0,
              "ticks": ""
             }
            },
            "type": "scatterpolargl"
           }
          ],
          "scatterternary": [
           {
            "marker": {
             "colorbar": {
              "outlinewidth": 0,
              "ticks": ""
             }
            },
            "type": "scatterternary"
           }
          ],
          "surface": [
           {
            "colorbar": {
             "outlinewidth": 0,
             "ticks": ""
            },
            "colorscale": [
             [
              0,
              "#0d0887"
             ],
             [
              0.1111111111111111,
              "#46039f"
             ],
             [
              0.2222222222222222,
              "#7201a8"
             ],
             [
              0.3333333333333333,
              "#9c179e"
             ],
             [
              0.4444444444444444,
              "#bd3786"
             ],
             [
              0.5555555555555556,
              "#d8576b"
             ],
             [
              0.6666666666666666,
              "#ed7953"
             ],
             [
              0.7777777777777778,
              "#fb9f3a"
             ],
             [
              0.8888888888888888,
              "#fdca26"
             ],
             [
              1,
              "#f0f921"
             ]
            ],
            "type": "surface"
           }
          ],
          "table": [
           {
            "cells": {
             "fill": {
              "color": "#EBF0F8"
             },
             "line": {
              "color": "white"
             }
            },
            "header": {
             "fill": {
              "color": "#C8D4E3"
             },
             "line": {
              "color": "white"
             }
            },
            "type": "table"
           }
          ]
         },
         "layout": {
          "annotationdefaults": {
           "arrowcolor": "#2a3f5f",
           "arrowhead": 0,
           "arrowwidth": 1
          },
          "autotypenumbers": "strict",
          "coloraxis": {
           "colorbar": {
            "outlinewidth": 0,
            "ticks": ""
           }
          },
          "colorscale": {
           "diverging": [
            [
             0,
             "#8e0152"
            ],
            [
             0.1,
             "#c51b7d"
            ],
            [
             0.2,
             "#de77ae"
            ],
            [
             0.3,
             "#f1b6da"
            ],
            [
             0.4,
             "#fde0ef"
            ],
            [
             0.5,
             "#f7f7f7"
            ],
            [
             0.6,
             "#e6f5d0"
            ],
            [
             0.7,
             "#b8e186"
            ],
            [
             0.8,
             "#7fbc41"
            ],
            [
             0.9,
             "#4d9221"
            ],
            [
             1,
             "#276419"
            ]
           ],
           "sequential": [
            [
             0,
             "#0d0887"
            ],
            [
             0.1111111111111111,
             "#46039f"
            ],
            [
             0.2222222222222222,
             "#7201a8"
            ],
            [
             0.3333333333333333,
             "#9c179e"
            ],
            [
             0.4444444444444444,
             "#bd3786"
            ],
            [
             0.5555555555555556,
             "#d8576b"
            ],
            [
             0.6666666666666666,
             "#ed7953"
            ],
            [
             0.7777777777777778,
             "#fb9f3a"
            ],
            [
             0.8888888888888888,
             "#fdca26"
            ],
            [
             1,
             "#f0f921"
            ]
           ],
           "sequentialminus": [
            [
             0,
             "#0d0887"
            ],
            [
             0.1111111111111111,
             "#46039f"
            ],
            [
             0.2222222222222222,
             "#7201a8"
            ],
            [
             0.3333333333333333,
             "#9c179e"
            ],
            [
             0.4444444444444444,
             "#bd3786"
            ],
            [
             0.5555555555555556,
             "#d8576b"
            ],
            [
             0.6666666666666666,
             "#ed7953"
            ],
            [
             0.7777777777777778,
             "#fb9f3a"
            ],
            [
             0.8888888888888888,
             "#fdca26"
            ],
            [
             1,
             "#f0f921"
            ]
           ]
          },
          "colorway": [
           "#636efa",
           "#EF553B",
           "#00cc96",
           "#ab63fa",
           "#FFA15A",
           "#19d3f3",
           "#FF6692",
           "#B6E880",
           "#FF97FF",
           "#FECB52"
          ],
          "font": {
           "color": "#2a3f5f"
          },
          "geo": {
           "bgcolor": "white",
           "lakecolor": "white",
           "landcolor": "#E5ECF6",
           "showlakes": true,
           "showland": true,
           "subunitcolor": "white"
          },
          "hoverlabel": {
           "align": "left"
          },
          "hovermode": "closest",
          "mapbox": {
           "style": "light"
          },
          "paper_bgcolor": "white",
          "plot_bgcolor": "#E5ECF6",
          "polar": {
           "angularaxis": {
            "gridcolor": "white",
            "linecolor": "white",
            "ticks": ""
           },
           "bgcolor": "#E5ECF6",
           "radialaxis": {
            "gridcolor": "white",
            "linecolor": "white",
            "ticks": ""
           }
          },
          "scene": {
           "xaxis": {
            "backgroundcolor": "#E5ECF6",
            "gridcolor": "white",
            "gridwidth": 2,
            "linecolor": "white",
            "showbackground": true,
            "ticks": "",
            "zerolinecolor": "white"
           },
           "yaxis": {
            "backgroundcolor": "#E5ECF6",
            "gridcolor": "white",
            "gridwidth": 2,
            "linecolor": "white",
            "showbackground": true,
            "ticks": "",
            "zerolinecolor": "white"
           },
           "zaxis": {
            "backgroundcolor": "#E5ECF6",
            "gridcolor": "white",
            "gridwidth": 2,
            "linecolor": "white",
            "showbackground": true,
            "ticks": "",
            "zerolinecolor": "white"
           }
          },
          "shapedefaults": {
           "line": {
            "color": "#2a3f5f"
           }
          },
          "ternary": {
           "aaxis": {
            "gridcolor": "white",
            "linecolor": "white",
            "ticks": ""
           },
           "baxis": {
            "gridcolor": "white",
            "linecolor": "white",
            "ticks": ""
           },
           "bgcolor": "#E5ECF6",
           "caxis": {
            "gridcolor": "white",
            "linecolor": "white",
            "ticks": ""
           }
          },
          "title": {
           "x": 0.05
          },
          "xaxis": {
           "automargin": true,
           "gridcolor": "white",
           "linecolor": "white",
           "ticks": "",
           "title": {
            "standoff": 15
           },
           "zerolinecolor": "white",
           "zerolinewidth": 2
          },
          "yaxis": {
           "automargin": true,
           "gridcolor": "white",
           "linecolor": "white",
           "ticks": "",
           "title": {
            "standoff": 15
           },
           "zerolinecolor": "white",
           "zerolinewidth": 2
          }
         }
        },
        "title": {
         "text": "Pearson Correlation Heatmap"
        },
        "xaxis": {
         "title": {
          "text": "Attributes"
         }
        },
        "yaxis": {
         "title": {
          "text": "Attributes"
         }
        }
       }
      }
     },
     "metadata": {},
     "output_type": "display_data"
    }
   ],
   "source": [
    "correlation = num_attributes.corr(method='pearson')\n",
    "\n",
    "mask = np.triu(np.ones_like(correlation, dtype=bool))\n",
    "\n",
    "correlation = correlation.mask(mask)\n",
    "\n",
    "fig = go.Figure(data=go.Heatmap(\n",
    "        z=correlation.values,\n",
    "        x=correlation.columns,\n",
    "        y=correlation.index,\n",
    "        colorscale='algae', \n",
    "        colorbar=dict(title='Pearson Correlation')\n",
    "))\n",
    "\n",
    "for i in range(len(correlation.index)):\n",
    "    for j in range(len(correlation.columns)):\n",
    "        fig.add_annotation(x=correlation.columns[j], y=correlation.index[i],\n",
    "                           text=str(round(correlation.values[i, j], 2)),\n",
    "                           showarrow=False, font=dict(color='white'))\n",
    "\n",
    "fig.update_layout(title='Pearson Correlation Heatmap', xaxis_title='Attributes', yaxis_title='Attributes')\n",
    "\n",
    "fig.show()"
   ]
  },
  {
   "cell_type": "markdown",
   "metadata": {},
   "source": [
    "# A. Case study"
   ]
  },
  {
   "cell_type": "markdown",
   "metadata": {},
   "source": [
    "## Task 1"
   ]
  },
  {
   "cell_type": "markdown",
   "metadata": {},
   "source": [
    "#### Q: Two weeks before the public release of the golden thematic, the responsible product manager reaches out to ask for an assessment on what they can expect in terms of adoption for this new product. Propose a set of metrics that you believe to be relevant, and create a business report that you could present to the product manager and the executive team that evaluates the possible business impact of the new feature. How would you define pessimistic/realistic/optimistic targets for the most relevant proposed metrics?\n",
    "\n",
    "#### A: The answer to this question is available on file **_A1-Assessment of Adoption and Business Impact for Golden Thematic Product_** within this folder."
   ]
  },
  {
   "cell_type": "markdown",
   "metadata": {},
   "source": [
    "## Task 2"
   ]
  },
  {
   "cell_type": "markdown",
   "metadata": {},
   "source": [
    "#### Q: During your initial discussion the product manager mentions several times that some user segmentation would be great, but they don’t have any clear ideas in mind. Take this into account during your exploration and in your presentation.\n",
    "\n",
    "#### A: The current details available, such as Country, Age, and Claimed Wealth provide a initial step on identifying a cohort. However, additional information such as Gender, Education Level, Occupation, and Referral Source can improve our analysis, allowing deeper insights into user behavior and preferences."
   ]
  },
  {
   "cell_type": "markdown",
   "metadata": {},
   "source": [
    "## Task 3"
   ]
  },
  {
   "cell_type": "markdown",
   "metadata": {},
   "source": [
    "#### Q: A week after the launch of the new golden thematic, the product manager comes back to you asking to evaluate the success of the release, as he finds it somewhat underwhelming. He also asks what can be done to increase adoption, and once again mentions a cohort analysis to identify better/worse performing user groups. Can you find any patterns that could help improve overall adoption? If yes, what actions can you propose? What (if any) additional support would you need to deliver on those?\n",
    "\n",
    "#### A: The answer is available on file **_A3-First Week Adoption Analysis_**. The data used to create the file can be found below\n"
   ]
  },
  {
   "cell_type": "markdown",
   "metadata": {},
   "source": [
    "### Data from First Week After Release"
   ]
  },
  {
   "cell_type": "code",
   "execution_count": 33,
   "metadata": {},
   "outputs": [
    {
     "data": {
      "text/html": [
       "<div>\n",
       "<style scoped>\n",
       "    .dataframe tbody tr th:only-of-type {\n",
       "        vertical-align: middle;\n",
       "    }\n",
       "\n",
       "    .dataframe tbody tr th {\n",
       "        vertical-align: top;\n",
       "    }\n",
       "\n",
       "    .dataframe thead th {\n",
       "        text-align: right;\n",
       "    }\n",
       "</style>\n",
       "<table border=\"1\" class=\"dataframe\">\n",
       "  <thead>\n",
       "    <tr style=\"text-align: right;\">\n",
       "      <th></th>\n",
       "      <th>user_id</th>\n",
       "      <th>timestamp</th>\n",
       "      <th>deposit_usd</th>\n",
       "      <th>withdrawal_usd</th>\n",
       "      <th>spot_trade_volume_usd</th>\n",
       "      <th>web3_thematic_purchase_usd</th>\n",
       "      <th>golden_thematic_purchase_usd</th>\n",
       "      <th>web3_thematic_sell_usd</th>\n",
       "      <th>golden_thematic_sell_usd</th>\n",
       "      <th>country_code</th>\n",
       "      <th>total_claimed_wealth_usd</th>\n",
       "      <th>age</th>\n",
       "      <th>nm_age_bin</th>\n",
       "    </tr>\n",
       "  </thead>\n",
       "  <tbody>\n",
       "    <tr>\n",
       "      <th>0</th>\n",
       "      <td>ba335e2c58434dc9ba00f975b8746eb2</td>\n",
       "      <td>2023-07-18</td>\n",
       "      <td>417.151560</td>\n",
       "      <td>NaN</td>\n",
       "      <td>NaN</td>\n",
       "      <td>NaN</td>\n",
       "      <td>103.294787</td>\n",
       "      <td>NaN</td>\n",
       "      <td>NaN</td>\n",
       "      <td>RE</td>\n",
       "      <td>0_to_50k</td>\n",
       "      <td>38.0</td>\n",
       "      <td>35-45</td>\n",
       "    </tr>\n",
       "    <tr>\n",
       "      <th>1</th>\n",
       "      <td>b6d7ae84f86c6aedaa57024eeab8d109</td>\n",
       "      <td>2023-07-18</td>\n",
       "      <td>NaN</td>\n",
       "      <td>1268.315253</td>\n",
       "      <td>1251.825302</td>\n",
       "      <td>NaN</td>\n",
       "      <td>94.050153</td>\n",
       "      <td>NaN</td>\n",
       "      <td>NaN</td>\n",
       "      <td>CH</td>\n",
       "      <td>0_to_50k</td>\n",
       "      <td>34.0</td>\n",
       "      <td>28-35</td>\n",
       "    </tr>\n",
       "    <tr>\n",
       "      <th>2</th>\n",
       "      <td>9803493d0fa9149ce058e5c89f0c36e5</td>\n",
       "      <td>2023-07-18</td>\n",
       "      <td>NaN</td>\n",
       "      <td>NaN</td>\n",
       "      <td>119.684639</td>\n",
       "      <td>NaN</td>\n",
       "      <td>NaN</td>\n",
       "      <td>NaN</td>\n",
       "      <td>NaN</td>\n",
       "      <td>CH</td>\n",
       "      <td>0_to_50k</td>\n",
       "      <td>18.0</td>\n",
       "      <td>17-22</td>\n",
       "    </tr>\n",
       "    <tr>\n",
       "      <th>3</th>\n",
       "      <td>8f1ebb02908d869dfe549632a01f6a00</td>\n",
       "      <td>2023-07-18</td>\n",
       "      <td>NaN</td>\n",
       "      <td>NaN</td>\n",
       "      <td>NaN</td>\n",
       "      <td>NaN</td>\n",
       "      <td>664.944570</td>\n",
       "      <td>NaN</td>\n",
       "      <td>NaN</td>\n",
       "      <td>CA</td>\n",
       "      <td>0_to_50k</td>\n",
       "      <td>40.0</td>\n",
       "      <td>35-45</td>\n",
       "    </tr>\n",
       "    <tr>\n",
       "      <th>4</th>\n",
       "      <td>2b4bb079ac236da9fee73f8717b3a1d2</td>\n",
       "      <td>2023-07-18</td>\n",
       "      <td>14306.165719</td>\n",
       "      <td>NaN</td>\n",
       "      <td>7115.548663</td>\n",
       "      <td>NaN</td>\n",
       "      <td>NaN</td>\n",
       "      <td>NaN</td>\n",
       "      <td>NaN</td>\n",
       "      <td>PL</td>\n",
       "      <td>200k_to_1m</td>\n",
       "      <td>81.0</td>\n",
       "      <td>45-97</td>\n",
       "    </tr>\n",
       "  </tbody>\n",
       "</table>\n",
       "</div>"
      ],
      "text/plain": [
       "                            user_id   timestamp   deposit_usd  withdrawal_usd  \\\n",
       "0  ba335e2c58434dc9ba00f975b8746eb2  2023-07-18    417.151560             NaN   \n",
       "1  b6d7ae84f86c6aedaa57024eeab8d109  2023-07-18           NaN     1268.315253   \n",
       "2  9803493d0fa9149ce058e5c89f0c36e5  2023-07-18           NaN             NaN   \n",
       "3  8f1ebb02908d869dfe549632a01f6a00  2023-07-18           NaN             NaN   \n",
       "4  2b4bb079ac236da9fee73f8717b3a1d2  2023-07-18  14306.165719             NaN   \n",
       "\n",
       "   spot_trade_volume_usd  web3_thematic_purchase_usd  \\\n",
       "0                    NaN                         NaN   \n",
       "1            1251.825302                         NaN   \n",
       "2             119.684639                         NaN   \n",
       "3                    NaN                         NaN   \n",
       "4            7115.548663                         NaN   \n",
       "\n",
       "   golden_thematic_purchase_usd  web3_thematic_sell_usd  \\\n",
       "0                    103.294787                     NaN   \n",
       "1                     94.050153                     NaN   \n",
       "2                           NaN                     NaN   \n",
       "3                    664.944570                     NaN   \n",
       "4                           NaN                     NaN   \n",
       "\n",
       "   golden_thematic_sell_usd country_code total_claimed_wealth_usd   age  \\\n",
       "0                       NaN           RE                 0_to_50k  38.0   \n",
       "1                       NaN           CH                 0_to_50k  34.0   \n",
       "2                       NaN           CH                 0_to_50k  18.0   \n",
       "3                       NaN           CA                 0_to_50k  40.0   \n",
       "4                       NaN           PL               200k_to_1m  81.0   \n",
       "\n",
       "  nm_age_bin  \n",
       "0      35-45  \n",
       "1      28-35  \n",
       "2      17-22  \n",
       "3      35-45  \n",
       "4      45-97  "
      ]
     },
     "execution_count": 33,
     "metadata": {},
     "output_type": "execute_result"
    }
   ],
   "source": [
    "first_week_result_general = query_table('''\n",
    "SELECT\n",
    "   *\n",
    "FROM\n",
    "   obt_transactions\n",
    "WHERE\n",
    "   DATE(timestamp) BETWEEN '2023-07-18' AND '2023-07-25'\n",
    "''')\n",
    "first_week_result_general.head()"
   ]
  },
  {
   "cell_type": "code",
   "execution_count": 34,
   "metadata": {},
   "outputs": [
    {
     "data": {
      "text/html": [
       "<div>\n",
       "<style scoped>\n",
       "    .dataframe tbody tr th:only-of-type {\n",
       "        vertical-align: middle;\n",
       "    }\n",
       "\n",
       "    .dataframe tbody tr th {\n",
       "        vertical-align: top;\n",
       "    }\n",
       "\n",
       "    .dataframe thead th {\n",
       "        text-align: right;\n",
       "    }\n",
       "</style>\n",
       "<table border=\"1\" class=\"dataframe\">\n",
       "  <thead>\n",
       "    <tr style=\"text-align: right;\">\n",
       "      <th></th>\n",
       "      <th>deposit_usd</th>\n",
       "      <th>withdrawal_usd</th>\n",
       "      <th>spot_trade_volume_usd</th>\n",
       "      <th>web3_thematic_purchase_usd</th>\n",
       "      <th>golden_thematic_purchase_usd</th>\n",
       "      <th>web3_thematic_sell_usd</th>\n",
       "      <th>golden_thematic_sell_usd</th>\n",
       "      <th>age</th>\n",
       "    </tr>\n",
       "  </thead>\n",
       "  <tbody>\n",
       "    <tr>\n",
       "      <th>count</th>\n",
       "      <td>1427.000000</td>\n",
       "      <td>933.000000</td>\n",
       "      <td>2421.000000</td>\n",
       "      <td>59.000000</td>\n",
       "      <td>455.000000</td>\n",
       "      <td>50.000000</td>\n",
       "      <td>41.000000</td>\n",
       "      <td>3271.000000</td>\n",
       "    </tr>\n",
       "    <tr>\n",
       "      <th>mean</th>\n",
       "      <td>3552.355660</td>\n",
       "      <td>4486.913263</td>\n",
       "      <td>1401.667347</td>\n",
       "      <td>294.187455</td>\n",
       "      <td>982.353017</td>\n",
       "      <td>274.974657</td>\n",
       "      <td>3628.615119</td>\n",
       "      <td>37.991440</td>\n",
       "    </tr>\n",
       "    <tr>\n",
       "      <th>std</th>\n",
       "      <td>9410.369388</td>\n",
       "      <td>15094.337737</td>\n",
       "      <td>5359.359551</td>\n",
       "      <td>1026.038180</td>\n",
       "      <td>4128.443092</td>\n",
       "      <td>552.219619</td>\n",
       "      <td>20791.721436</td>\n",
       "      <td>13.219272</td>\n",
       "    </tr>\n",
       "    <tr>\n",
       "      <th>min</th>\n",
       "      <td>0.124222</td>\n",
       "      <td>1.192684</td>\n",
       "      <td>1.747763</td>\n",
       "      <td>5.283260</td>\n",
       "      <td>13.307541</td>\n",
       "      <td>4.800224</td>\n",
       "      <td>11.303134</td>\n",
       "      <td>18.000000</td>\n",
       "    </tr>\n",
       "    <tr>\n",
       "      <th>25%</th>\n",
       "      <td>233.477336</td>\n",
       "      <td>170.550166</td>\n",
       "      <td>46.750026</td>\n",
       "      <td>23.821083</td>\n",
       "      <td>103.525473</td>\n",
       "      <td>33.035178</td>\n",
       "      <td>125.114561</td>\n",
       "      <td>27.000000</td>\n",
       "    </tr>\n",
       "    <tr>\n",
       "      <th>50%</th>\n",
       "      <td>702.217050</td>\n",
       "      <td>689.546334</td>\n",
       "      <td>165.789237</td>\n",
       "      <td>63.524706</td>\n",
       "      <td>192.569382</td>\n",
       "      <td>153.612799</td>\n",
       "      <td>180.610087</td>\n",
       "      <td>37.000000</td>\n",
       "    </tr>\n",
       "    <tr>\n",
       "      <th>75%</th>\n",
       "      <td>2537.830792</td>\n",
       "      <td>2744.183128</td>\n",
       "      <td>713.090202</td>\n",
       "      <td>171.980618</td>\n",
       "      <td>451.579324</td>\n",
       "      <td>287.316841</td>\n",
       "      <td>313.472169</td>\n",
       "      <td>47.000000</td>\n",
       "    </tr>\n",
       "    <tr>\n",
       "      <th>max</th>\n",
       "      <td>117911.446572</td>\n",
       "      <td>303426.240437</td>\n",
       "      <td>139884.620144</td>\n",
       "      <td>7781.793296</td>\n",
       "      <td>44592.758992</td>\n",
       "      <td>3772.185100</td>\n",
       "      <td>133454.527312</td>\n",
       "      <td>91.000000</td>\n",
       "    </tr>\n",
       "  </tbody>\n",
       "</table>\n",
       "</div>"
      ],
      "text/plain": [
       "         deposit_usd  withdrawal_usd  spot_trade_volume_usd  \\\n",
       "count    1427.000000      933.000000            2421.000000   \n",
       "mean     3552.355660     4486.913263            1401.667347   \n",
       "std      9410.369388    15094.337737            5359.359551   \n",
       "min         0.124222        1.192684               1.747763   \n",
       "25%       233.477336      170.550166              46.750026   \n",
       "50%       702.217050      689.546334             165.789237   \n",
       "75%      2537.830792     2744.183128             713.090202   \n",
       "max    117911.446572   303426.240437          139884.620144   \n",
       "\n",
       "       web3_thematic_purchase_usd  golden_thematic_purchase_usd  \\\n",
       "count                   59.000000                    455.000000   \n",
       "mean                   294.187455                    982.353017   \n",
       "std                   1026.038180                   4128.443092   \n",
       "min                      5.283260                     13.307541   \n",
       "25%                     23.821083                    103.525473   \n",
       "50%                     63.524706                    192.569382   \n",
       "75%                    171.980618                    451.579324   \n",
       "max                   7781.793296                  44592.758992   \n",
       "\n",
       "       web3_thematic_sell_usd  golden_thematic_sell_usd          age  \n",
       "count               50.000000                 41.000000  3271.000000  \n",
       "mean               274.974657               3628.615119    37.991440  \n",
       "std                552.219619              20791.721436    13.219272  \n",
       "min                  4.800224                 11.303134    18.000000  \n",
       "25%                 33.035178                125.114561    27.000000  \n",
       "50%                153.612799                180.610087    37.000000  \n",
       "75%                287.316841                313.472169    47.000000  \n",
       "max               3772.185100             133454.527312    91.000000  "
      ]
     },
     "execution_count": 34,
     "metadata": {},
     "output_type": "execute_result"
    }
   ],
   "source": [
    "first_week_result_general.describe()"
   ]
  },
  {
   "cell_type": "code",
   "execution_count": 35,
   "metadata": {},
   "outputs": [
    {
     "data": {
      "text/html": [
       "<div>\n",
       "<style scoped>\n",
       "    .dataframe tbody tr th:only-of-type {\n",
       "        vertical-align: middle;\n",
       "    }\n",
       "\n",
       "    .dataframe tbody tr th {\n",
       "        vertical-align: top;\n",
       "    }\n",
       "\n",
       "    .dataframe thead th {\n",
       "        text-align: right;\n",
       "    }\n",
       "</style>\n",
       "<table border=\"1\" class=\"dataframe\">\n",
       "  <thead>\n",
       "    <tr style=\"text-align: right;\">\n",
       "      <th></th>\n",
       "      <th>user_id</th>\n",
       "      <th>timestamp</th>\n",
       "      <th>deposit_usd</th>\n",
       "      <th>withdrawal_usd</th>\n",
       "      <th>spot_trade_volume_usd</th>\n",
       "      <th>web3_thematic_purchase_usd</th>\n",
       "      <th>golden_thematic_purchase_usd</th>\n",
       "      <th>web3_thematic_sell_usd</th>\n",
       "      <th>golden_thematic_sell_usd</th>\n",
       "      <th>country_code</th>\n",
       "      <th>total_claimed_wealth_usd</th>\n",
       "      <th>age</th>\n",
       "      <th>nm_age_bin</th>\n",
       "    </tr>\n",
       "  </thead>\n",
       "  <tbody>\n",
       "    <tr>\n",
       "      <th>0</th>\n",
       "      <td>ba335e2c58434dc9ba00f975b8746eb2</td>\n",
       "      <td>2023-07-18</td>\n",
       "      <td>417.151560</td>\n",
       "      <td>NaN</td>\n",
       "      <td>NaN</td>\n",
       "      <td>NaN</td>\n",
       "      <td>103.294787</td>\n",
       "      <td>NaN</td>\n",
       "      <td>NaN</td>\n",
       "      <td>RE</td>\n",
       "      <td>0_to_50k</td>\n",
       "      <td>38.0</td>\n",
       "      <td>35-45</td>\n",
       "    </tr>\n",
       "    <tr>\n",
       "      <th>1</th>\n",
       "      <td>b6d7ae84f86c6aedaa57024eeab8d109</td>\n",
       "      <td>2023-07-18</td>\n",
       "      <td>NaN</td>\n",
       "      <td>1268.315253</td>\n",
       "      <td>1251.825302</td>\n",
       "      <td>NaN</td>\n",
       "      <td>94.050153</td>\n",
       "      <td>NaN</td>\n",
       "      <td>NaN</td>\n",
       "      <td>CH</td>\n",
       "      <td>0_to_50k</td>\n",
       "      <td>34.0</td>\n",
       "      <td>28-35</td>\n",
       "    </tr>\n",
       "    <tr>\n",
       "      <th>2</th>\n",
       "      <td>8f1ebb02908d869dfe549632a01f6a00</td>\n",
       "      <td>2023-07-18</td>\n",
       "      <td>NaN</td>\n",
       "      <td>NaN</td>\n",
       "      <td>NaN</td>\n",
       "      <td>NaN</td>\n",
       "      <td>664.944570</td>\n",
       "      <td>NaN</td>\n",
       "      <td>NaN</td>\n",
       "      <td>CA</td>\n",
       "      <td>0_to_50k</td>\n",
       "      <td>40.0</td>\n",
       "      <td>35-45</td>\n",
       "    </tr>\n",
       "    <tr>\n",
       "      <th>3</th>\n",
       "      <td>75adf154758d62a8d1e5f311250d946a</td>\n",
       "      <td>2023-07-18</td>\n",
       "      <td>639.968277</td>\n",
       "      <td>NaN</td>\n",
       "      <td>NaN</td>\n",
       "      <td>NaN</td>\n",
       "      <td>315.843463</td>\n",
       "      <td>NaN</td>\n",
       "      <td>NaN</td>\n",
       "      <td>FR</td>\n",
       "      <td>200k_to_1m</td>\n",
       "      <td>49.0</td>\n",
       "      <td>45-97</td>\n",
       "    </tr>\n",
       "    <tr>\n",
       "      <th>4</th>\n",
       "      <td>2f5073d2680db3e8b616350cb925cb8a</td>\n",
       "      <td>2023-07-18</td>\n",
       "      <td>NaN</td>\n",
       "      <td>NaN</td>\n",
       "      <td>235.598513</td>\n",
       "      <td>NaN</td>\n",
       "      <td>195.592855</td>\n",
       "      <td>NaN</td>\n",
       "      <td>NaN</td>\n",
       "      <td>FR</td>\n",
       "      <td>0_to_50k</td>\n",
       "      <td>29.0</td>\n",
       "      <td>28-35</td>\n",
       "    </tr>\n",
       "  </tbody>\n",
       "</table>\n",
       "</div>"
      ],
      "text/plain": [
       "                            user_id   timestamp  deposit_usd  withdrawal_usd  \\\n",
       "0  ba335e2c58434dc9ba00f975b8746eb2  2023-07-18   417.151560             NaN   \n",
       "1  b6d7ae84f86c6aedaa57024eeab8d109  2023-07-18          NaN     1268.315253   \n",
       "2  8f1ebb02908d869dfe549632a01f6a00  2023-07-18          NaN             NaN   \n",
       "3  75adf154758d62a8d1e5f311250d946a  2023-07-18   639.968277             NaN   \n",
       "4  2f5073d2680db3e8b616350cb925cb8a  2023-07-18          NaN             NaN   \n",
       "\n",
       "   spot_trade_volume_usd  web3_thematic_purchase_usd  \\\n",
       "0                    NaN                         NaN   \n",
       "1            1251.825302                         NaN   \n",
       "2                    NaN                         NaN   \n",
       "3                    NaN                         NaN   \n",
       "4             235.598513                         NaN   \n",
       "\n",
       "   golden_thematic_purchase_usd  web3_thematic_sell_usd  \\\n",
       "0                    103.294787                     NaN   \n",
       "1                     94.050153                     NaN   \n",
       "2                    664.944570                     NaN   \n",
       "3                    315.843463                     NaN   \n",
       "4                    195.592855                     NaN   \n",
       "\n",
       "   golden_thematic_sell_usd country_code total_claimed_wealth_usd   age  \\\n",
       "0                       NaN           RE                 0_to_50k  38.0   \n",
       "1                       NaN           CH                 0_to_50k  34.0   \n",
       "2                       NaN           CA                 0_to_50k  40.0   \n",
       "3                       NaN           FR               200k_to_1m  49.0   \n",
       "4                       NaN           FR                 0_to_50k  29.0   \n",
       "\n",
       "  nm_age_bin  \n",
       "0      35-45  \n",
       "1      28-35  \n",
       "2      35-45  \n",
       "3      45-97  \n",
       "4      28-35  "
      ]
     },
     "execution_count": 35,
     "metadata": {},
     "output_type": "execute_result"
    }
   ],
   "source": [
    "first_week_result_golden_users = query_table('''\n",
    "SELECT\n",
    "   * \n",
    "FROM\n",
    "   obt_transactions \n",
    "WHERE\n",
    "   DATE(timestamp) BETWEEN '2023-07-18' AND '2023-07-25'\n",
    "   AND (golden_thematic_purchase_usd IS NOT NULL \n",
    "   OR golden_thematic_sell_usd IS NOT NULL)\n",
    "''')\n",
    "first_week_result_golden_users.head()"
   ]
  },
  {
   "cell_type": "code",
   "execution_count": 36,
   "metadata": {},
   "outputs": [
    {
     "data": {
      "text/html": [
       "<div>\n",
       "<style scoped>\n",
       "    .dataframe tbody tr th:only-of-type {\n",
       "        vertical-align: middle;\n",
       "    }\n",
       "\n",
       "    .dataframe tbody tr th {\n",
       "        vertical-align: top;\n",
       "    }\n",
       "\n",
       "    .dataframe thead th {\n",
       "        text-align: right;\n",
       "    }\n",
       "</style>\n",
       "<table border=\"1\" class=\"dataframe\">\n",
       "  <thead>\n",
       "    <tr style=\"text-align: right;\">\n",
       "      <th></th>\n",
       "      <th>deposit_usd</th>\n",
       "      <th>withdrawal_usd</th>\n",
       "      <th>spot_trade_volume_usd</th>\n",
       "      <th>web3_thematic_purchase_usd</th>\n",
       "      <th>golden_thematic_purchase_usd</th>\n",
       "      <th>web3_thematic_sell_usd</th>\n",
       "      <th>golden_thematic_sell_usd</th>\n",
       "      <th>age</th>\n",
       "    </tr>\n",
       "  </thead>\n",
       "  <tbody>\n",
       "    <tr>\n",
       "      <th>count</th>\n",
       "      <td>173.000000</td>\n",
       "      <td>18.000000</td>\n",
       "      <td>154.000000</td>\n",
       "      <td>22.000000</td>\n",
       "      <td>455.000000</td>\n",
       "      <td>20.000000</td>\n",
       "      <td>41.000000</td>\n",
       "      <td>483.000000</td>\n",
       "    </tr>\n",
       "    <tr>\n",
       "      <th>mean</th>\n",
       "      <td>2497.204864</td>\n",
       "      <td>1210.523912</td>\n",
       "      <td>661.080829</td>\n",
       "      <td>168.775609</td>\n",
       "      <td>982.353017</td>\n",
       "      <td>432.117628</td>\n",
       "      <td>3628.615119</td>\n",
       "      <td>39.788820</td>\n",
       "    </tr>\n",
       "    <tr>\n",
       "      <th>std</th>\n",
       "      <td>7168.197074</td>\n",
       "      <td>2501.881538</td>\n",
       "      <td>2081.491345</td>\n",
       "      <td>273.701513</td>\n",
       "      <td>4128.443092</td>\n",
       "      <td>823.730202</td>\n",
       "      <td>20791.721436</td>\n",
       "      <td>13.127405</td>\n",
       "    </tr>\n",
       "    <tr>\n",
       "      <th>min</th>\n",
       "      <td>6.916558</td>\n",
       "      <td>31.719201</td>\n",
       "      <td>2.246668</td>\n",
       "      <td>5.283260</td>\n",
       "      <td>13.307541</td>\n",
       "      <td>4.800224</td>\n",
       "      <td>11.303134</td>\n",
       "      <td>18.000000</td>\n",
       "    </tr>\n",
       "    <tr>\n",
       "      <th>25%</th>\n",
       "      <td>290.116842</td>\n",
       "      <td>167.698905</td>\n",
       "      <td>34.533019</td>\n",
       "      <td>26.306605</td>\n",
       "      <td>103.525473</td>\n",
       "      <td>99.298830</td>\n",
       "      <td>125.114561</td>\n",
       "      <td>29.000000</td>\n",
       "    </tr>\n",
       "    <tr>\n",
       "      <th>50%</th>\n",
       "      <td>559.364395</td>\n",
       "      <td>324.380749</td>\n",
       "      <td>111.399543</td>\n",
       "      <td>77.446040</td>\n",
       "      <td>192.569382</td>\n",
       "      <td>180.948882</td>\n",
       "      <td>180.610087</td>\n",
       "      <td>39.000000</td>\n",
       "    </tr>\n",
       "    <tr>\n",
       "      <th>75%</th>\n",
       "      <td>1504.011582</td>\n",
       "      <td>801.535111</td>\n",
       "      <td>277.466763</td>\n",
       "      <td>142.019495</td>\n",
       "      <td>451.579324</td>\n",
       "      <td>437.975918</td>\n",
       "      <td>313.472169</td>\n",
       "      <td>49.000000</td>\n",
       "    </tr>\n",
       "    <tr>\n",
       "      <th>max</th>\n",
       "      <td>54793.296063</td>\n",
       "      <td>10624.347293</td>\n",
       "      <td>17630.752043</td>\n",
       "      <td>1219.863777</td>\n",
       "      <td>44592.758992</td>\n",
       "      <td>3772.185100</td>\n",
       "      <td>133454.527312</td>\n",
       "      <td>78.000000</td>\n",
       "    </tr>\n",
       "  </tbody>\n",
       "</table>\n",
       "</div>"
      ],
      "text/plain": [
       "        deposit_usd  withdrawal_usd  spot_trade_volume_usd  \\\n",
       "count    173.000000       18.000000             154.000000   \n",
       "mean    2497.204864     1210.523912             661.080829   \n",
       "std     7168.197074     2501.881538            2081.491345   \n",
       "min        6.916558       31.719201               2.246668   \n",
       "25%      290.116842      167.698905              34.533019   \n",
       "50%      559.364395      324.380749             111.399543   \n",
       "75%     1504.011582      801.535111             277.466763   \n",
       "max    54793.296063    10624.347293           17630.752043   \n",
       "\n",
       "       web3_thematic_purchase_usd  golden_thematic_purchase_usd  \\\n",
       "count                   22.000000                    455.000000   \n",
       "mean                   168.775609                    982.353017   \n",
       "std                    273.701513                   4128.443092   \n",
       "min                      5.283260                     13.307541   \n",
       "25%                     26.306605                    103.525473   \n",
       "50%                     77.446040                    192.569382   \n",
       "75%                    142.019495                    451.579324   \n",
       "max                   1219.863777                  44592.758992   \n",
       "\n",
       "       web3_thematic_sell_usd  golden_thematic_sell_usd         age  \n",
       "count               20.000000                 41.000000  483.000000  \n",
       "mean               432.117628               3628.615119   39.788820  \n",
       "std                823.730202              20791.721436   13.127405  \n",
       "min                  4.800224                 11.303134   18.000000  \n",
       "25%                 99.298830                125.114561   29.000000  \n",
       "50%                180.948882                180.610087   39.000000  \n",
       "75%                437.975918                313.472169   49.000000  \n",
       "max               3772.185100             133454.527312   78.000000  "
      ]
     },
     "execution_count": 36,
     "metadata": {},
     "output_type": "execute_result"
    }
   ],
   "source": [
    "first_week_result_golden_users.describe()"
   ]
  },
  {
   "cell_type": "markdown",
   "metadata": {},
   "source": [
    "### KPI"
   ]
  },
  {
   "cell_type": "markdown",
   "metadata": {},
   "source": [
    "#### Users Engagement"
   ]
  },
  {
   "cell_type": "code",
   "execution_count": 37,
   "metadata": {},
   "outputs": [
    {
     "data": {
      "text/html": [
       "<div>\n",
       "<style scoped>\n",
       "    .dataframe tbody tr th:only-of-type {\n",
       "        vertical-align: middle;\n",
       "    }\n",
       "\n",
       "    .dataframe tbody tr th {\n",
       "        vertical-align: top;\n",
       "    }\n",
       "\n",
       "    .dataframe thead th {\n",
       "        text-align: right;\n",
       "    }\n",
       "</style>\n",
       "<table border=\"1\" class=\"dataframe\">\n",
       "  <thead>\n",
       "    <tr style=\"text-align: right;\">\n",
       "      <th></th>\n",
       "      <th>all_users</th>\n",
       "      <th>golden_thematic_users</th>\n",
       "      <th>engagement_rate</th>\n",
       "    </tr>\n",
       "  </thead>\n",
       "  <tbody>\n",
       "    <tr>\n",
       "      <th>0</th>\n",
       "      <td>1811</td>\n",
       "      <td>386</td>\n",
       "      <td>0.213</td>\n",
       "    </tr>\n",
       "  </tbody>\n",
       "</table>\n",
       "</div>"
      ],
      "text/plain": [
       "   all_users  golden_thematic_users  engagement_rate\n",
       "0       1811                    386            0.213"
      ]
     },
     "execution_count": 37,
     "metadata": {},
     "output_type": "execute_result"
    }
   ],
   "source": [
    "users_engagement = query_table('''\n",
    "WITH all_users AS \n",
    "(\n",
    "   SELECT\n",
    "      COUNT(DISTINCT user_id) AS all_users \n",
    "   FROM\n",
    "      first_week_result_general \n",
    ")\n",
    ",\n",
    "golden_thematic_users AS \n",
    "(\n",
    "   SELECT\n",
    "      COUNT(DISTINCT user_id) AS gt_users \n",
    "   FROM\n",
    "      first_week_result_golden_users\n",
    ")\n",
    "SELECT\n",
    "   t.all_users AS all_users,\n",
    "   g.gt_users AS golden_thematic_users,\n",
    "   ROUND((CAST(g.gt_users AS float) / t.all_users), 3) AS engagement_rate \n",
    "FROM\n",
    "   all_users t \n",
    "   CROSS JOIN\n",
    "      golden_thematic_users g\n",
    "''')\n",
    "\n",
    "users_engagement"
   ]
  },
  {
   "cell_type": "markdown",
   "metadata": {},
   "source": [
    "#### Users Transactions Frequency"
   ]
  },
  {
   "cell_type": "code",
   "execution_count": 55,
   "metadata": {},
   "outputs": [
    {
     "data": {
      "text/html": [
       "<div>\n",
       "<style scoped>\n",
       "    .dataframe tbody tr th:only-of-type {\n",
       "        vertical-align: middle;\n",
       "    }\n",
       "\n",
       "    .dataframe tbody tr th {\n",
       "        vertical-align: top;\n",
       "    }\n",
       "\n",
       "    .dataframe thead th {\n",
       "        text-align: right;\n",
       "    }\n",
       "</style>\n",
       "<table border=\"1\" class=\"dataframe\">\n",
       "  <thead>\n",
       "    <tr style=\"text-align: right;\">\n",
       "      <th></th>\n",
       "      <th>qt_users_transaction_frequency</th>\n",
       "    </tr>\n",
       "  </thead>\n",
       "  <tbody>\n",
       "    <tr>\n",
       "      <th>0</th>\n",
       "      <td>1.251</td>\n",
       "    </tr>\n",
       "  </tbody>\n",
       "</table>\n",
       "</div>"
      ],
      "text/plain": [
       "   qt_users_transaction_frequency\n",
       "0                           1.251"
      ]
     },
     "execution_count": 55,
     "metadata": {},
     "output_type": "execute_result"
    }
   ],
   "source": [
    "frq_thematic_gold_users_transactions = query_table('''\n",
    "SELECT\n",
    "   ROUND(CAST(COUNT(user_id) AS float) / COUNT(DISTINCT user_id), 3) AS qt_users_transaction_frequency \n",
    "FROM\n",
    "   first_week_result_golden_users \n",
    "''')\n",
    "frq_thematic_gold_users_transactions"
   ]
  },
  {
   "cell_type": "markdown",
   "metadata": {},
   "source": [
    "#### Total Transaction Volume"
   ]
  },
  {
   "cell_type": "code",
   "execution_count": 54,
   "metadata": {},
   "outputs": [
    {
     "data": {
      "text/html": [
       "<div>\n",
       "<style scoped>\n",
       "    .dataframe tbody tr th:only-of-type {\n",
       "        vertical-align: middle;\n",
       "    }\n",
       "\n",
       "    .dataframe tbody tr th {\n",
       "        vertical-align: top;\n",
       "    }\n",
       "\n",
       "    .dataframe thead th {\n",
       "        text-align: right;\n",
       "    }\n",
       "</style>\n",
       "<table border=\"1\" class=\"dataframe\">\n",
       "  <thead>\n",
       "    <tr style=\"text-align: right;\">\n",
       "      <th></th>\n",
       "      <th>vl_total_golden_thematic_purchase_usd</th>\n",
       "    </tr>\n",
       "  </thead>\n",
       "  <tbody>\n",
       "    <tr>\n",
       "      <th>0</th>\n",
       "      <td>446970.622735</td>\n",
       "    </tr>\n",
       "  </tbody>\n",
       "</table>\n",
       "</div>"
      ],
      "text/plain": [
       "   vl_total_golden_thematic_purchase_usd\n",
       "0                          446970.622735"
      ]
     },
     "execution_count": 54,
     "metadata": {},
     "output_type": "execute_result"
    }
   ],
   "source": [
    "total_transaction_volume = query_table('''\n",
    "SELECT\n",
    "   SUM(golden_thematic_purchase_usd) AS vl_total_golden_thematic_purchase_usd \n",
    "FROM\n",
    "   first_week_result_golden_users\n",
    "''')\n",
    "\n",
    "total_transaction_volume"
   ]
  },
  {
   "cell_type": "markdown",
   "metadata": {},
   "source": [
    "#### Average Transaction Volume"
   ]
  },
  {
   "cell_type": "code",
   "execution_count": 50,
   "metadata": {},
   "outputs": [
    {
     "data": {
      "text/html": [
       "<div>\n",
       "<style scoped>\n",
       "    .dataframe tbody tr th:only-of-type {\n",
       "        vertical-align: middle;\n",
       "    }\n",
       "\n",
       "    .dataframe tbody tr th {\n",
       "        vertical-align: top;\n",
       "    }\n",
       "\n",
       "    .dataframe thead th {\n",
       "        text-align: right;\n",
       "    }\n",
       "</style>\n",
       "<table border=\"1\" class=\"dataframe\">\n",
       "  <thead>\n",
       "    <tr style=\"text-align: right;\">\n",
       "      <th></th>\n",
       "      <th>vl_average_golden_thematic_purchase_usd</th>\n",
       "    </tr>\n",
       "  </thead>\n",
       "  <tbody>\n",
       "    <tr>\n",
       "      <th>0</th>\n",
       "      <td>982.353017</td>\n",
       "    </tr>\n",
       "  </tbody>\n",
       "</table>\n",
       "</div>"
      ],
      "text/plain": [
       "   vl_average_golden_thematic_purchase_usd\n",
       "0                               982.353017"
      ]
     },
     "execution_count": 50,
     "metadata": {},
     "output_type": "execute_result"
    }
   ],
   "source": [
    "average_transaction_volume = query_table('''\n",
    "SELECT\n",
    "   AVG(golden_thematic_purchase_usd) AS vl_average_golden_thematic_purchase_usd \n",
    "FROM\n",
    "   first_week_result_golden_users\n",
    "''')\n",
    "\n",
    "average_transaction_volume"
   ]
  },
  {
   "cell_type": "markdown",
   "metadata": {},
   "source": [
    "### Univariate Analysis"
   ]
  },
  {
   "cell_type": "markdown",
   "metadata": {},
   "source": [
    "#### Country Metrics Table"
   ]
  },
  {
   "cell_type": "code",
   "execution_count": 40,
   "metadata": {},
   "outputs": [
    {
     "data": {
      "text/html": [
       "<div>\n",
       "<style scoped>\n",
       "    .dataframe tbody tr th:only-of-type {\n",
       "        vertical-align: middle;\n",
       "    }\n",
       "\n",
       "    .dataframe tbody tr th {\n",
       "        vertical-align: top;\n",
       "    }\n",
       "\n",
       "    .dataframe thead th {\n",
       "        text-align: right;\n",
       "    }\n",
       "</style>\n",
       "<table border=\"1\" class=\"dataframe\">\n",
       "  <thead>\n",
       "    <tr style=\"text-align: right;\">\n",
       "      <th></th>\n",
       "      <th>country_code</th>\n",
       "      <th>total_gt_users</th>\n",
       "      <th>unique_gt_users</th>\n",
       "      <th>total_golden_thematic_purchase_usd</th>\n",
       "      <th>avg_golden_thematic_purchase_usd</th>\n",
       "      <th>total_golden_thematic_sell_usd</th>\n",
       "      <th>retention_rate</th>\n",
       "      <th>engagement_rate</th>\n",
       "    </tr>\n",
       "  </thead>\n",
       "  <tbody>\n",
       "    <tr>\n",
       "      <th>0</th>\n",
       "      <td>FR</td>\n",
       "      <td>176</td>\n",
       "      <td>145</td>\n",
       "      <td>89524.581066</td>\n",
       "      <td>549.230559</td>\n",
       "      <td>9499.552519</td>\n",
       "      <td>1.214</td>\n",
       "      <td>0.321</td>\n",
       "    </tr>\n",
       "    <tr>\n",
       "      <th>1</th>\n",
       "      <td>CH</td>\n",
       "      <td>144</td>\n",
       "      <td>108</td>\n",
       "      <td>70993.004939</td>\n",
       "      <td>518.197116</td>\n",
       "      <td>3180.564019</td>\n",
       "      <td>1.333</td>\n",
       "      <td>0.261</td>\n",
       "    </tr>\n",
       "    <tr>\n",
       "      <th>2</th>\n",
       "      <td>GB</td>\n",
       "      <td>64</td>\n",
       "      <td>53</td>\n",
       "      <td>37679.799079</td>\n",
       "      <td>607.738695</td>\n",
       "      <td>829.766965</td>\n",
       "      <td>1.208</td>\n",
       "      <td>0.102</td>\n",
       "    </tr>\n",
       "    <tr>\n",
       "      <th>3</th>\n",
       "      <td>DE</td>\n",
       "      <td>22</td>\n",
       "      <td>19</td>\n",
       "      <td>144946.449410</td>\n",
       "      <td>6588.474973</td>\n",
       "      <td>133644.658388</td>\n",
       "      <td>1.158</td>\n",
       "      <td>0.190</td>\n",
       "    </tr>\n",
       "    <tr>\n",
       "      <th>4</th>\n",
       "      <td>BE</td>\n",
       "      <td>14</td>\n",
       "      <td>13</td>\n",
       "      <td>6611.083037</td>\n",
       "      <td>508.544849</td>\n",
       "      <td>186.895827</td>\n",
       "      <td>1.077</td>\n",
       "      <td>0.213</td>\n",
       "    </tr>\n",
       "    <tr>\n",
       "      <th>5</th>\n",
       "      <td>CA</td>\n",
       "      <td>13</td>\n",
       "      <td>9</td>\n",
       "      <td>9900.368949</td>\n",
       "      <td>825.030746</td>\n",
       "      <td>677.832282</td>\n",
       "      <td>1.444</td>\n",
       "      <td>0.529</td>\n",
       "    </tr>\n",
       "    <tr>\n",
       "      <th>6</th>\n",
       "      <td>ES</td>\n",
       "      <td>8</td>\n",
       "      <td>7</td>\n",
       "      <td>7851.212647</td>\n",
       "      <td>981.401581</td>\n",
       "      <td>51.803377</td>\n",
       "      <td>1.143</td>\n",
       "      <td>0.233</td>\n",
       "    </tr>\n",
       "    <tr>\n",
       "      <th>7</th>\n",
       "      <td>AT</td>\n",
       "      <td>4</td>\n",
       "      <td>4</td>\n",
       "      <td>1980.843628</td>\n",
       "      <td>495.210907</td>\n",
       "      <td>NaN</td>\n",
       "      <td>1.000</td>\n",
       "      <td>0.308</td>\n",
       "    </tr>\n",
       "    <tr>\n",
       "      <th>8</th>\n",
       "      <td>IT</td>\n",
       "      <td>4</td>\n",
       "      <td>4</td>\n",
       "      <td>589.174580</td>\n",
       "      <td>147.293645</td>\n",
       "      <td>NaN</td>\n",
       "      <td>1.000</td>\n",
       "      <td>0.267</td>\n",
       "    </tr>\n",
       "    <tr>\n",
       "      <th>9</th>\n",
       "      <td>LU</td>\n",
       "      <td>5</td>\n",
       "      <td>4</td>\n",
       "      <td>38953.766679</td>\n",
       "      <td>7790.753336</td>\n",
       "      <td>NaN</td>\n",
       "      <td>1.250</td>\n",
       "      <td>0.444</td>\n",
       "    </tr>\n",
       "    <tr>\n",
       "      <th>10</th>\n",
       "      <td>PL</td>\n",
       "      <td>4</td>\n",
       "      <td>4</td>\n",
       "      <td>743.109057</td>\n",
       "      <td>185.777264</td>\n",
       "      <td>NaN</td>\n",
       "      <td>1.000</td>\n",
       "      <td>0.154</td>\n",
       "    </tr>\n",
       "    <tr>\n",
       "      <th>11</th>\n",
       "      <td>LT</td>\n",
       "      <td>2</td>\n",
       "      <td>2</td>\n",
       "      <td>598.431793</td>\n",
       "      <td>299.215896</td>\n",
       "      <td>NaN</td>\n",
       "      <td>1.000</td>\n",
       "      <td>0.667</td>\n",
       "    </tr>\n",
       "    <tr>\n",
       "      <th>12</th>\n",
       "      <td>RO</td>\n",
       "      <td>6</td>\n",
       "      <td>2</td>\n",
       "      <td>5622.528069</td>\n",
       "      <td>1124.505614</td>\n",
       "      <td>250.610567</td>\n",
       "      <td>3.000</td>\n",
       "      <td>0.222</td>\n",
       "    </tr>\n",
       "    <tr>\n",
       "      <th>13</th>\n",
       "      <td>SI</td>\n",
       "      <td>4</td>\n",
       "      <td>2</td>\n",
       "      <td>1769.188150</td>\n",
       "      <td>589.729383</td>\n",
       "      <td>117.781007</td>\n",
       "      <td>2.000</td>\n",
       "      <td>0.333</td>\n",
       "    </tr>\n",
       "    <tr>\n",
       "      <th>14</th>\n",
       "      <td>EE</td>\n",
       "      <td>2</td>\n",
       "      <td>1</td>\n",
       "      <td>165.394465</td>\n",
       "      <td>165.394465</td>\n",
       "      <td>163.336069</td>\n",
       "      <td>2.000</td>\n",
       "      <td>0.333</td>\n",
       "    </tr>\n",
       "    <tr>\n",
       "      <th>15</th>\n",
       "      <td>GR</td>\n",
       "      <td>2</td>\n",
       "      <td>1</td>\n",
       "      <td>173.532703</td>\n",
       "      <td>173.532703</td>\n",
       "      <td>170.418870</td>\n",
       "      <td>2.000</td>\n",
       "      <td>0.333</td>\n",
       "    </tr>\n",
       "    <tr>\n",
       "      <th>16</th>\n",
       "      <td>IE</td>\n",
       "      <td>1</td>\n",
       "      <td>1</td>\n",
       "      <td>449.094335</td>\n",
       "      <td>449.094335</td>\n",
       "      <td>NaN</td>\n",
       "      <td>1.000</td>\n",
       "      <td>0.067</td>\n",
       "    </tr>\n",
       "    <tr>\n",
       "      <th>17</th>\n",
       "      <td>JP</td>\n",
       "      <td>1</td>\n",
       "      <td>1</td>\n",
       "      <td>389.173215</td>\n",
       "      <td>389.173215</td>\n",
       "      <td>NaN</td>\n",
       "      <td>1.000</td>\n",
       "      <td>0.200</td>\n",
       "    </tr>\n",
       "    <tr>\n",
       "      <th>18</th>\n",
       "      <td>MX</td>\n",
       "      <td>1</td>\n",
       "      <td>1</td>\n",
       "      <td>26001.501493</td>\n",
       "      <td>26001.501493</td>\n",
       "      <td>NaN</td>\n",
       "      <td>1.000</td>\n",
       "      <td>1.000</td>\n",
       "    </tr>\n",
       "    <tr>\n",
       "      <th>19</th>\n",
       "      <td>NL</td>\n",
       "      <td>1</td>\n",
       "      <td>1</td>\n",
       "      <td>32.677105</td>\n",
       "      <td>32.677105</td>\n",
       "      <td>NaN</td>\n",
       "      <td>1.000</td>\n",
       "      <td>0.027</td>\n",
       "    </tr>\n",
       "    <tr>\n",
       "      <th>20</th>\n",
       "      <td>PF</td>\n",
       "      <td>1</td>\n",
       "      <td>1</td>\n",
       "      <td>204.680171</td>\n",
       "      <td>204.680171</td>\n",
       "      <td>NaN</td>\n",
       "      <td>1.000</td>\n",
       "      <td>0.333</td>\n",
       "    </tr>\n",
       "    <tr>\n",
       "      <th>21</th>\n",
       "      <td>PT</td>\n",
       "      <td>1</td>\n",
       "      <td>1</td>\n",
       "      <td>880.769127</td>\n",
       "      <td>880.769127</td>\n",
       "      <td>NaN</td>\n",
       "      <td>1.000</td>\n",
       "      <td>0.091</td>\n",
       "    </tr>\n",
       "    <tr>\n",
       "      <th>22</th>\n",
       "      <td>RE</td>\n",
       "      <td>1</td>\n",
       "      <td>1</td>\n",
       "      <td>103.294787</td>\n",
       "      <td>103.294787</td>\n",
       "      <td>NaN</td>\n",
       "      <td>1.000</td>\n",
       "      <td>0.167</td>\n",
       "    </tr>\n",
       "    <tr>\n",
       "      <th>23</th>\n",
       "      <td>SE</td>\n",
       "      <td>2</td>\n",
       "      <td>1</td>\n",
       "      <td>806.964249</td>\n",
       "      <td>403.482125</td>\n",
       "      <td>NaN</td>\n",
       "      <td>2.000</td>\n",
       "      <td>0.167</td>\n",
       "    </tr>\n",
       "  </tbody>\n",
       "</table>\n",
       "</div>"
      ],
      "text/plain": [
       "   country_code  total_gt_users  unique_gt_users  \\\n",
       "0            FR             176              145   \n",
       "1            CH             144              108   \n",
       "2            GB              64               53   \n",
       "3            DE              22               19   \n",
       "4            BE              14               13   \n",
       "5            CA              13                9   \n",
       "6            ES               8                7   \n",
       "7            AT               4                4   \n",
       "8            IT               4                4   \n",
       "9            LU               5                4   \n",
       "10           PL               4                4   \n",
       "11           LT               2                2   \n",
       "12           RO               6                2   \n",
       "13           SI               4                2   \n",
       "14           EE               2                1   \n",
       "15           GR               2                1   \n",
       "16           IE               1                1   \n",
       "17           JP               1                1   \n",
       "18           MX               1                1   \n",
       "19           NL               1                1   \n",
       "20           PF               1                1   \n",
       "21           PT               1                1   \n",
       "22           RE               1                1   \n",
       "23           SE               2                1   \n",
       "\n",
       "    total_golden_thematic_purchase_usd  avg_golden_thematic_purchase_usd  \\\n",
       "0                         89524.581066                        549.230559   \n",
       "1                         70993.004939                        518.197116   \n",
       "2                         37679.799079                        607.738695   \n",
       "3                        144946.449410                       6588.474973   \n",
       "4                          6611.083037                        508.544849   \n",
       "5                          9900.368949                        825.030746   \n",
       "6                          7851.212647                        981.401581   \n",
       "7                          1980.843628                        495.210907   \n",
       "8                           589.174580                        147.293645   \n",
       "9                         38953.766679                       7790.753336   \n",
       "10                          743.109057                        185.777264   \n",
       "11                          598.431793                        299.215896   \n",
       "12                         5622.528069                       1124.505614   \n",
       "13                         1769.188150                        589.729383   \n",
       "14                          165.394465                        165.394465   \n",
       "15                          173.532703                        173.532703   \n",
       "16                          449.094335                        449.094335   \n",
       "17                          389.173215                        389.173215   \n",
       "18                        26001.501493                      26001.501493   \n",
       "19                           32.677105                         32.677105   \n",
       "20                          204.680171                        204.680171   \n",
       "21                          880.769127                        880.769127   \n",
       "22                          103.294787                        103.294787   \n",
       "23                          806.964249                        403.482125   \n",
       "\n",
       "    total_golden_thematic_sell_usd  retention_rate  engagement_rate  \n",
       "0                      9499.552519           1.214            0.321  \n",
       "1                      3180.564019           1.333            0.261  \n",
       "2                       829.766965           1.208            0.102  \n",
       "3                    133644.658388           1.158            0.190  \n",
       "4                       186.895827           1.077            0.213  \n",
       "5                       677.832282           1.444            0.529  \n",
       "6                        51.803377           1.143            0.233  \n",
       "7                              NaN           1.000            0.308  \n",
       "8                              NaN           1.000            0.267  \n",
       "9                              NaN           1.250            0.444  \n",
       "10                             NaN           1.000            0.154  \n",
       "11                             NaN           1.000            0.667  \n",
       "12                      250.610567           3.000            0.222  \n",
       "13                      117.781007           2.000            0.333  \n",
       "14                      163.336069           2.000            0.333  \n",
       "15                      170.418870           2.000            0.333  \n",
       "16                             NaN           1.000            0.067  \n",
       "17                             NaN           1.000            0.200  \n",
       "18                             NaN           1.000            1.000  \n",
       "19                             NaN           1.000            0.027  \n",
       "20                             NaN           1.000            0.333  \n",
       "21                             NaN           1.000            0.091  \n",
       "22                             NaN           1.000            0.167  \n",
       "23                             NaN           2.000            0.167  "
      ]
     },
     "execution_count": 40,
     "metadata": {},
     "output_type": "execute_result"
    }
   ],
   "source": [
    "users_metrics_by_country = query_table(\n",
    "    '''\n",
    "WITH all_users AS \n",
    "(\n",
    "   SELECT\n",
    "      country_code,\n",
    "      COUNT(DISTINCT user_id) AS vl_all_users \n",
    "   FROM\n",
    "      first_week_result_general \n",
    "   GROUP BY\n",
    "      1 \n",
    ")\n",
    ",\n",
    "golden_users AS \n",
    "(\n",
    "   SELECT\n",
    "      country_code,\n",
    "      COUNT(user_id) AS total_gt_users,\n",
    "      COUNT(DISTINCT user_id) AS unique_gt_users,\n",
    "      SUM(golden_thematic_purchase_usd) AS total_golden_thematic_purchase_usd,\n",
    "      AVG(golden_thematic_purchase_usd) AS avg_golden_thematic_purchase_usd,\n",
    "      SUM(golden_thematic_sell_usd) AS total_golden_thematic_sell_usd,\n",
    "      ROUND(CAST(COUNT(user_id) AS float) / COUNT(DISTINCT user_id), 3) AS retention_rate \n",
    "   FROM\n",
    "      first_week_result_golden_users \n",
    "   GROUP BY\n",
    "      1\n",
    ")\n",
    "SELECT\n",
    "   g.*,\n",
    "   ROUND(CAST(g.unique_gt_users AS float) / vl_all_users, 3) AS engagement_rate \n",
    "FROM\n",
    "   golden_users AS g \n",
    "   LEFT JOIN\n",
    "      all_users AS a \n",
    "      ON g.country_code = a.country_code\n",
    "   ORDER BY 3 DESC\n",
    "''')  \n",
    "\n",
    "users_metrics_by_country"
   ]
  },
  {
   "cell_type": "markdown",
   "metadata": {},
   "source": [
    "#### Country Metrics Chart"
   ]
  },
  {
   "cell_type": "code",
   "execution_count": 41,
   "metadata": {},
   "outputs": [
    {
     "data": {
      "application/vnd.plotly.v1+json": {
       "config": {
        "plotlyServerURL": "https://plot.ly"
       },
       "data": [
        {
         "alignmentgroup": "True",
         "hovertemplate": "Country Code=%{x}<br>Total Users=%{text}<extra></extra>",
         "legendgroup": "",
         "marker": {
          "color": "green",
          "pattern": {
           "shape": ""
          }
         },
         "name": "",
         "offsetgroup": "",
         "orientation": "v",
         "showlegend": false,
         "text": [
          176,
          144,
          64,
          22,
          14,
          13,
          8,
          4,
          4,
          5,
          4,
          4,
          6,
          2,
          2,
          2,
          1,
          1,
          1,
          1,
          1,
          1,
          1,
          2
         ],
         "textposition": "auto",
         "type": "bar",
         "x": [
          "FR",
          "CH",
          "GB",
          "DE",
          "BE",
          "CA",
          "ES",
          "AT",
          "IT",
          "LU",
          "PL",
          "SI",
          "RO",
          "LT",
          "EE",
          "GR",
          "IE",
          "JP",
          "MX",
          "NL",
          "PF",
          "PT",
          "RE",
          "SE"
         ],
         "xaxis": "x",
         "y": [
          176,
          144,
          64,
          22,
          14,
          13,
          8,
          4,
          4,
          5,
          4,
          4,
          6,
          2,
          2,
          2,
          1,
          1,
          1,
          1,
          1,
          1,
          1,
          2
         ],
         "yaxis": "y"
        },
        {
         "hovertemplate": "country_code=%{x}<br>cumulative_percentage=%{y}<extra></extra>",
         "legendgroup": "",
         "line": {
          "color": "#636efa",
          "dash": "solid"
         },
         "marker": {
          "symbol": "circle"
         },
         "mode": "lines",
         "name": "",
         "orientation": "v",
         "showlegend": false,
         "type": "scatter",
         "x": [
          "FR",
          "CH",
          "GB",
          "DE",
          "BE",
          "CA",
          "ES",
          "AT",
          "IT",
          "LU",
          "PL",
          "SI",
          "RO",
          "LT",
          "EE",
          "GR",
          "IE",
          "JP",
          "MX",
          "NL",
          "PF",
          "PT",
          "RE",
          "SE"
         ],
         "xaxis": "x",
         "y": [
          36.43892339544513,
          66.25258799171843,
          79.5031055900621,
          84.05797101449275,
          86.95652173913044,
          89.648033126294,
          91.30434782608695,
          92.13250517598344,
          92.96066252587993,
          93.99585921325053,
          94.824016563147,
          95.65217391304348,
          96.8944099378882,
          97.30848861283644,
          97.72256728778468,
          98.13664596273291,
          98.34368530020704,
          98.55072463768117,
          98.75776397515527,
          98.9648033126294,
          99.17184265010351,
          99.37888198757764,
          99.58592132505176,
          100
         ],
         "yaxis": "y2"
        }
       ],
       "layout": {
        "barmode": "relative",
        "legend": {
         "tracegroupgap": 0
        },
        "template": {
         "data": {
          "bar": [
           {
            "error_x": {
             "color": "#2a3f5f"
            },
            "error_y": {
             "color": "#2a3f5f"
            },
            "marker": {
             "line": {
              "color": "#E5ECF6",
              "width": 0.5
             },
             "pattern": {
              "fillmode": "overlay",
              "size": 10,
              "solidity": 0.2
             }
            },
            "type": "bar"
           }
          ],
          "barpolar": [
           {
            "marker": {
             "line": {
              "color": "#E5ECF6",
              "width": 0.5
             },
             "pattern": {
              "fillmode": "overlay",
              "size": 10,
              "solidity": 0.2
             }
            },
            "type": "barpolar"
           }
          ],
          "carpet": [
           {
            "aaxis": {
             "endlinecolor": "#2a3f5f",
             "gridcolor": "white",
             "linecolor": "white",
             "minorgridcolor": "white",
             "startlinecolor": "#2a3f5f"
            },
            "baxis": {
             "endlinecolor": "#2a3f5f",
             "gridcolor": "white",
             "linecolor": "white",
             "minorgridcolor": "white",
             "startlinecolor": "#2a3f5f"
            },
            "type": "carpet"
           }
          ],
          "choropleth": [
           {
            "colorbar": {
             "outlinewidth": 0,
             "ticks": ""
            },
            "type": "choropleth"
           }
          ],
          "contour": [
           {
            "colorbar": {
             "outlinewidth": 0,
             "ticks": ""
            },
            "colorscale": [
             [
              0,
              "#0d0887"
             ],
             [
              0.1111111111111111,
              "#46039f"
             ],
             [
              0.2222222222222222,
              "#7201a8"
             ],
             [
              0.3333333333333333,
              "#9c179e"
             ],
             [
              0.4444444444444444,
              "#bd3786"
             ],
             [
              0.5555555555555556,
              "#d8576b"
             ],
             [
              0.6666666666666666,
              "#ed7953"
             ],
             [
              0.7777777777777778,
              "#fb9f3a"
             ],
             [
              0.8888888888888888,
              "#fdca26"
             ],
             [
              1,
              "#f0f921"
             ]
            ],
            "type": "contour"
           }
          ],
          "contourcarpet": [
           {
            "colorbar": {
             "outlinewidth": 0,
             "ticks": ""
            },
            "type": "contourcarpet"
           }
          ],
          "heatmap": [
           {
            "colorbar": {
             "outlinewidth": 0,
             "ticks": ""
            },
            "colorscale": [
             [
              0,
              "#0d0887"
             ],
             [
              0.1111111111111111,
              "#46039f"
             ],
             [
              0.2222222222222222,
              "#7201a8"
             ],
             [
              0.3333333333333333,
              "#9c179e"
             ],
             [
              0.4444444444444444,
              "#bd3786"
             ],
             [
              0.5555555555555556,
              "#d8576b"
             ],
             [
              0.6666666666666666,
              "#ed7953"
             ],
             [
              0.7777777777777778,
              "#fb9f3a"
             ],
             [
              0.8888888888888888,
              "#fdca26"
             ],
             [
              1,
              "#f0f921"
             ]
            ],
            "type": "heatmap"
           }
          ],
          "heatmapgl": [
           {
            "colorbar": {
             "outlinewidth": 0,
             "ticks": ""
            },
            "colorscale": [
             [
              0,
              "#0d0887"
             ],
             [
              0.1111111111111111,
              "#46039f"
             ],
             [
              0.2222222222222222,
              "#7201a8"
             ],
             [
              0.3333333333333333,
              "#9c179e"
             ],
             [
              0.4444444444444444,
              "#bd3786"
             ],
             [
              0.5555555555555556,
              "#d8576b"
             ],
             [
              0.6666666666666666,
              "#ed7953"
             ],
             [
              0.7777777777777778,
              "#fb9f3a"
             ],
             [
              0.8888888888888888,
              "#fdca26"
             ],
             [
              1,
              "#f0f921"
             ]
            ],
            "type": "heatmapgl"
           }
          ],
          "histogram": [
           {
            "marker": {
             "pattern": {
              "fillmode": "overlay",
              "size": 10,
              "solidity": 0.2
             }
            },
            "type": "histogram"
           }
          ],
          "histogram2d": [
           {
            "colorbar": {
             "outlinewidth": 0,
             "ticks": ""
            },
            "colorscale": [
             [
              0,
              "#0d0887"
             ],
             [
              0.1111111111111111,
              "#46039f"
             ],
             [
              0.2222222222222222,
              "#7201a8"
             ],
             [
              0.3333333333333333,
              "#9c179e"
             ],
             [
              0.4444444444444444,
              "#bd3786"
             ],
             [
              0.5555555555555556,
              "#d8576b"
             ],
             [
              0.6666666666666666,
              "#ed7953"
             ],
             [
              0.7777777777777778,
              "#fb9f3a"
             ],
             [
              0.8888888888888888,
              "#fdca26"
             ],
             [
              1,
              "#f0f921"
             ]
            ],
            "type": "histogram2d"
           }
          ],
          "histogram2dcontour": [
           {
            "colorbar": {
             "outlinewidth": 0,
             "ticks": ""
            },
            "colorscale": [
             [
              0,
              "#0d0887"
             ],
             [
              0.1111111111111111,
              "#46039f"
             ],
             [
              0.2222222222222222,
              "#7201a8"
             ],
             [
              0.3333333333333333,
              "#9c179e"
             ],
             [
              0.4444444444444444,
              "#bd3786"
             ],
             [
              0.5555555555555556,
              "#d8576b"
             ],
             [
              0.6666666666666666,
              "#ed7953"
             ],
             [
              0.7777777777777778,
              "#fb9f3a"
             ],
             [
              0.8888888888888888,
              "#fdca26"
             ],
             [
              1,
              "#f0f921"
             ]
            ],
            "type": "histogram2dcontour"
           }
          ],
          "mesh3d": [
           {
            "colorbar": {
             "outlinewidth": 0,
             "ticks": ""
            },
            "type": "mesh3d"
           }
          ],
          "parcoords": [
           {
            "line": {
             "colorbar": {
              "outlinewidth": 0,
              "ticks": ""
             }
            },
            "type": "parcoords"
           }
          ],
          "pie": [
           {
            "automargin": true,
            "type": "pie"
           }
          ],
          "scatter": [
           {
            "fillpattern": {
             "fillmode": "overlay",
             "size": 10,
             "solidity": 0.2
            },
            "type": "scatter"
           }
          ],
          "scatter3d": [
           {
            "line": {
             "colorbar": {
              "outlinewidth": 0,
              "ticks": ""
             }
            },
            "marker": {
             "colorbar": {
              "outlinewidth": 0,
              "ticks": ""
             }
            },
            "type": "scatter3d"
           }
          ],
          "scattercarpet": [
           {
            "marker": {
             "colorbar": {
              "outlinewidth": 0,
              "ticks": ""
             }
            },
            "type": "scattercarpet"
           }
          ],
          "scattergeo": [
           {
            "marker": {
             "colorbar": {
              "outlinewidth": 0,
              "ticks": ""
             }
            },
            "type": "scattergeo"
           }
          ],
          "scattergl": [
           {
            "marker": {
             "colorbar": {
              "outlinewidth": 0,
              "ticks": ""
             }
            },
            "type": "scattergl"
           }
          ],
          "scattermapbox": [
           {
            "marker": {
             "colorbar": {
              "outlinewidth": 0,
              "ticks": ""
             }
            },
            "type": "scattermapbox"
           }
          ],
          "scatterpolar": [
           {
            "marker": {
             "colorbar": {
              "outlinewidth": 0,
              "ticks": ""
             }
            },
            "type": "scatterpolar"
           }
          ],
          "scatterpolargl": [
           {
            "marker": {
             "colorbar": {
              "outlinewidth": 0,
              "ticks": ""
             }
            },
            "type": "scatterpolargl"
           }
          ],
          "scatterternary": [
           {
            "marker": {
             "colorbar": {
              "outlinewidth": 0,
              "ticks": ""
             }
            },
            "type": "scatterternary"
           }
          ],
          "surface": [
           {
            "colorbar": {
             "outlinewidth": 0,
             "ticks": ""
            },
            "colorscale": [
             [
              0,
              "#0d0887"
             ],
             [
              0.1111111111111111,
              "#46039f"
             ],
             [
              0.2222222222222222,
              "#7201a8"
             ],
             [
              0.3333333333333333,
              "#9c179e"
             ],
             [
              0.4444444444444444,
              "#bd3786"
             ],
             [
              0.5555555555555556,
              "#d8576b"
             ],
             [
              0.6666666666666666,
              "#ed7953"
             ],
             [
              0.7777777777777778,
              "#fb9f3a"
             ],
             [
              0.8888888888888888,
              "#fdca26"
             ],
             [
              1,
              "#f0f921"
             ]
            ],
            "type": "surface"
           }
          ],
          "table": [
           {
            "cells": {
             "fill": {
              "color": "#EBF0F8"
             },
             "line": {
              "color": "white"
             }
            },
            "header": {
             "fill": {
              "color": "#C8D4E3"
             },
             "line": {
              "color": "white"
             }
            },
            "type": "table"
           }
          ]
         },
         "layout": {
          "annotationdefaults": {
           "arrowcolor": "#2a3f5f",
           "arrowhead": 0,
           "arrowwidth": 1
          },
          "autotypenumbers": "strict",
          "coloraxis": {
           "colorbar": {
            "outlinewidth": 0,
            "ticks": ""
           }
          },
          "colorscale": {
           "diverging": [
            [
             0,
             "#8e0152"
            ],
            [
             0.1,
             "#c51b7d"
            ],
            [
             0.2,
             "#de77ae"
            ],
            [
             0.3,
             "#f1b6da"
            ],
            [
             0.4,
             "#fde0ef"
            ],
            [
             0.5,
             "#f7f7f7"
            ],
            [
             0.6,
             "#e6f5d0"
            ],
            [
             0.7,
             "#b8e186"
            ],
            [
             0.8,
             "#7fbc41"
            ],
            [
             0.9,
             "#4d9221"
            ],
            [
             1,
             "#276419"
            ]
           ],
           "sequential": [
            [
             0,
             "#0d0887"
            ],
            [
             0.1111111111111111,
             "#46039f"
            ],
            [
             0.2222222222222222,
             "#7201a8"
            ],
            [
             0.3333333333333333,
             "#9c179e"
            ],
            [
             0.4444444444444444,
             "#bd3786"
            ],
            [
             0.5555555555555556,
             "#d8576b"
            ],
            [
             0.6666666666666666,
             "#ed7953"
            ],
            [
             0.7777777777777778,
             "#fb9f3a"
            ],
            [
             0.8888888888888888,
             "#fdca26"
            ],
            [
             1,
             "#f0f921"
            ]
           ],
           "sequentialminus": [
            [
             0,
             "#0d0887"
            ],
            [
             0.1111111111111111,
             "#46039f"
            ],
            [
             0.2222222222222222,
             "#7201a8"
            ],
            [
             0.3333333333333333,
             "#9c179e"
            ],
            [
             0.4444444444444444,
             "#bd3786"
            ],
            [
             0.5555555555555556,
             "#d8576b"
            ],
            [
             0.6666666666666666,
             "#ed7953"
            ],
            [
             0.7777777777777778,
             "#fb9f3a"
            ],
            [
             0.8888888888888888,
             "#fdca26"
            ],
            [
             1,
             "#f0f921"
            ]
           ]
          },
          "colorway": [
           "#636efa",
           "#EF553B",
           "#00cc96",
           "#ab63fa",
           "#FFA15A",
           "#19d3f3",
           "#FF6692",
           "#B6E880",
           "#FF97FF",
           "#FECB52"
          ],
          "font": {
           "color": "#2a3f5f"
          },
          "geo": {
           "bgcolor": "white",
           "lakecolor": "white",
           "landcolor": "#E5ECF6",
           "showlakes": true,
           "showland": true,
           "subunitcolor": "white"
          },
          "hoverlabel": {
           "align": "left"
          },
          "hovermode": "closest",
          "mapbox": {
           "style": "light"
          },
          "paper_bgcolor": "white",
          "plot_bgcolor": "#E5ECF6",
          "polar": {
           "angularaxis": {
            "gridcolor": "white",
            "linecolor": "white",
            "ticks": ""
           },
           "bgcolor": "#E5ECF6",
           "radialaxis": {
            "gridcolor": "white",
            "linecolor": "white",
            "ticks": ""
           }
          },
          "scene": {
           "xaxis": {
            "backgroundcolor": "#E5ECF6",
            "gridcolor": "white",
            "gridwidth": 2,
            "linecolor": "white",
            "showbackground": true,
            "ticks": "",
            "zerolinecolor": "white"
           },
           "yaxis": {
            "backgroundcolor": "#E5ECF6",
            "gridcolor": "white",
            "gridwidth": 2,
            "linecolor": "white",
            "showbackground": true,
            "ticks": "",
            "zerolinecolor": "white"
           },
           "zaxis": {
            "backgroundcolor": "#E5ECF6",
            "gridcolor": "white",
            "gridwidth": 2,
            "linecolor": "white",
            "showbackground": true,
            "ticks": "",
            "zerolinecolor": "white"
           }
          },
          "shapedefaults": {
           "line": {
            "color": "#2a3f5f"
           }
          },
          "ternary": {
           "aaxis": {
            "gridcolor": "white",
            "linecolor": "white",
            "ticks": ""
           },
           "baxis": {
            "gridcolor": "white",
            "linecolor": "white",
            "ticks": ""
           },
           "bgcolor": "#E5ECF6",
           "caxis": {
            "gridcolor": "white",
            "linecolor": "white",
            "ticks": ""
           }
          },
          "title": {
           "x": 0.05
          },
          "xaxis": {
           "automargin": true,
           "gridcolor": "white",
           "linecolor": "white",
           "ticks": "",
           "title": {
            "standoff": 15
           },
           "zerolinecolor": "white",
           "zerolinewidth": 2
          },
          "yaxis": {
           "automargin": true,
           "gridcolor": "white",
           "linecolor": "white",
           "ticks": "",
           "title": {
            "standoff": 15
           },
           "zerolinecolor": "white",
           "zerolinewidth": 2
          }
         }
        },
        "title": {
         "text": "Total Users per Country and Cumulative Percentage"
        },
        "xaxis": {
         "anchor": "y",
         "domain": [
          0,
          1
         ],
         "title": {
          "text": "Country Code"
         }
        },
        "yaxis": {
         "anchor": "x",
         "domain": [
          0,
          1
         ],
         "showgrid": false,
         "side": "left",
         "title": {
          "text": "Total Users"
         }
        },
        "yaxis2": {
         "overlaying": "y",
         "showgrid": false,
         "side": "right",
         "title": {
          "text": "Cumulative Percentage"
         }
        }
       }
      }
     },
     "metadata": {},
     "output_type": "display_data"
    }
   ],
   "source": [
    "users_metrics_by_country = users_metrics_by_country.sort_values(by='unique_gt_users', ascending=False)\n",
    "\n",
    "users_metrics_by_country['cumulative_users'] = users_metrics_by_country['total_gt_users'].cumsum()\n",
    "\n",
    "users_metrics_by_country['cumulative_percentage'] = (users_metrics_by_country['cumulative_users'] / users_metrics_by_country['total_gt_users'].sum()) * 100\n",
    "\n",
    "fig = px.bar(users_metrics_by_country, x='country_code', y='total_gt_users', \n",
    "             title='Total Users per Country and Cumulative Percentage',\n",
    "             labels={'country_code': 'Country Code', 'total_gt_users': 'Total Users'},\n",
    "             text='total_gt_users', # Show labels on bars\n",
    "             color_discrete_sequence=['green'])\n",
    "\n",
    "fig.add_trace(px.line(users_metrics_by_country, x='country_code', y='cumulative_percentage').data[0])\n",
    "\n",
    "fig.update_traces(yaxis='y', selector=dict(type='bar'))\n",
    "fig.update_traces(yaxis='y2', selector=dict(type='scatter'))\n",
    "\n",
    "fig.update_layout(yaxis=dict(title='Total Users', side='left', showgrid=False),\n",
    "                  yaxis2=dict(title='Cumulative Percentage', side='right', overlaying='y', showgrid=False))\n",
    "\n",
    "fig.show()"
   ]
  },
  {
   "cell_type": "markdown",
   "metadata": {},
   "source": [
    "####  Claimed Wealth Metrics Table"
   ]
  },
  {
   "cell_type": "code",
   "execution_count": 42,
   "metadata": {},
   "outputs": [
    {
     "data": {
      "text/html": [
       "<div>\n",
       "<style scoped>\n",
       "    .dataframe tbody tr th:only-of-type {\n",
       "        vertical-align: middle;\n",
       "    }\n",
       "\n",
       "    .dataframe tbody tr th {\n",
       "        vertical-align: top;\n",
       "    }\n",
       "\n",
       "    .dataframe thead th {\n",
       "        text-align: right;\n",
       "    }\n",
       "</style>\n",
       "<table border=\"1\" class=\"dataframe\">\n",
       "  <thead>\n",
       "    <tr style=\"text-align: right;\">\n",
       "      <th></th>\n",
       "      <th>total_claimed_wealth_usd</th>\n",
       "      <th>total_gt_users</th>\n",
       "      <th>unique_gt_users</th>\n",
       "      <th>total_golden_thematic_purchase_usd</th>\n",
       "      <th>avg_golden_thematic_purchase_usd</th>\n",
       "      <th>total_golden_thematic_sell_usd</th>\n",
       "      <th>retention_rate</th>\n",
       "      <th>engagement_rate</th>\n",
       "    </tr>\n",
       "  </thead>\n",
       "  <tbody>\n",
       "    <tr>\n",
       "      <th>0</th>\n",
       "      <td>0_to_50k</td>\n",
       "      <td>309</td>\n",
       "      <td>248</td>\n",
       "      <td>106913.787951</td>\n",
       "      <td>368.668234</td>\n",
       "      <td>8442.350923</td>\n",
       "      <td>1.246</td>\n",
       "      <td>0.203</td>\n",
       "    </tr>\n",
       "    <tr>\n",
       "      <th>1</th>\n",
       "      <td>1m_to_5m</td>\n",
       "      <td>16</td>\n",
       "      <td>10</td>\n",
       "      <td>72265.301926</td>\n",
       "      <td>4817.686795</td>\n",
       "      <td>553.648586</td>\n",
       "      <td>1.600</td>\n",
       "      <td>0.333</td>\n",
       "    </tr>\n",
       "    <tr>\n",
       "      <th>2</th>\n",
       "      <td>200k_to_1m</td>\n",
       "      <td>60</td>\n",
       "      <td>48</td>\n",
       "      <td>56699.446291</td>\n",
       "      <td>1012.490112</td>\n",
       "      <td>851.145269</td>\n",
       "      <td>1.250</td>\n",
       "      <td>0.261</td>\n",
       "    </tr>\n",
       "    <tr>\n",
       "      <th>3</th>\n",
       "      <td>50k_to_200k</td>\n",
       "      <td>97</td>\n",
       "      <td>79</td>\n",
       "      <td>198829.519484</td>\n",
       "      <td>2137.951822</td>\n",
       "      <td>138926.075113</td>\n",
       "      <td>1.228</td>\n",
       "      <td>0.218</td>\n",
       "    </tr>\n",
       "    <tr>\n",
       "      <th>4</th>\n",
       "      <td>5m_or_more</td>\n",
       "      <td>1</td>\n",
       "      <td>1</td>\n",
       "      <td>12262.567083</td>\n",
       "      <td>12262.567083</td>\n",
       "      <td>NaN</td>\n",
       "      <td>1.000</td>\n",
       "      <td>0.091</td>\n",
       "    </tr>\n",
       "  </tbody>\n",
       "</table>\n",
       "</div>"
      ],
      "text/plain": [
       "  total_claimed_wealth_usd  total_gt_users  unique_gt_users  \\\n",
       "0                 0_to_50k             309              248   \n",
       "1                 1m_to_5m              16               10   \n",
       "2               200k_to_1m              60               48   \n",
       "3              50k_to_200k              97               79   \n",
       "4               5m_or_more               1                1   \n",
       "\n",
       "   total_golden_thematic_purchase_usd  avg_golden_thematic_purchase_usd  \\\n",
       "0                       106913.787951                        368.668234   \n",
       "1                        72265.301926                       4817.686795   \n",
       "2                        56699.446291                       1012.490112   \n",
       "3                       198829.519484                       2137.951822   \n",
       "4                        12262.567083                      12262.567083   \n",
       "\n",
       "   total_golden_thematic_sell_usd  retention_rate  engagement_rate  \n",
       "0                     8442.350923           1.246            0.203  \n",
       "1                      553.648586           1.600            0.333  \n",
       "2                      851.145269           1.250            0.261  \n",
       "3                   138926.075113           1.228            0.218  \n",
       "4                             NaN           1.000            0.091  "
      ]
     },
     "execution_count": 42,
     "metadata": {},
     "output_type": "execute_result"
    }
   ],
   "source": [
    "users_metrics_by_weatlh = query_table(\n",
    "    '''\n",
    "WITH all_users AS \n",
    "(\n",
    "   SELECT\n",
    "      total_claimed_wealth_usd,\n",
    "      COUNT(DISTINCT user_id) AS vl_all_users \n",
    "   FROM\n",
    "      first_week_result_general \n",
    "   GROUP BY\n",
    "      1 \n",
    ")\n",
    ",\n",
    "golden_users AS \n",
    "(\n",
    "   SELECT\n",
    "      total_claimed_wealth_usd,\n",
    "      COUNT(user_id) AS total_gt_users,\n",
    "      COUNT(DISTINCT user_id) AS unique_gt_users,\n",
    "      SUM(golden_thematic_purchase_usd) AS total_golden_thematic_purchase_usd,\n",
    "      AVG(golden_thematic_purchase_usd) AS avg_golden_thematic_purchase_usd,\n",
    "      SUM(golden_thematic_sell_usd) AS total_golden_thematic_sell_usd,\n",
    "      ROUND(CAST(COUNT(user_id) AS float) / COUNT(DISTINCT user_id), 3) AS retention_rate \n",
    "   FROM\n",
    "      first_week_result_golden_users \n",
    "   GROUP BY\n",
    "      1\n",
    ")\n",
    "SELECT\n",
    "   g.*,\n",
    "   ROUND(CAST(g.unique_gt_users AS float) / vl_all_users, 3) AS engagement_rate \n",
    "FROM\n",
    "   golden_users AS g \n",
    "   LEFT JOIN\n",
    "      all_users AS a \n",
    "      ON g.total_claimed_wealth_usd = a.total_claimed_wealth_usd\n",
    "            ''')\n",
    "\n",
    "users_metrics_by_weatlh"
   ]
  },
  {
   "cell_type": "markdown",
   "metadata": {},
   "source": [
    "####  Claimed Wealth Metrics Charts"
   ]
  },
  {
   "cell_type": "code",
   "execution_count": 43,
   "metadata": {},
   "outputs": [
    {
     "data": {
      "application/vnd.plotly.v1+json": {
       "config": {
        "plotlyServerURL": "https://plot.ly"
       },
       "data": [
        {
         "alignmentgroup": "True",
         "hovertemplate": "Claimed Wealth=%{x}<br>Total Users=%{text}<extra></extra>",
         "legendgroup": "",
         "marker": {
          "color": "green",
          "pattern": {
           "shape": ""
          }
         },
         "name": "",
         "offsetgroup": "",
         "orientation": "v",
         "showlegend": false,
         "text": [
          248,
          79,
          48,
          10,
          1
         ],
         "textposition": "auto",
         "type": "bar",
         "x": [
          "0_to_50k",
          "50k_to_200k",
          "200k_to_1m",
          "1m_to_5m",
          "5m_or_more"
         ],
         "xaxis": "x",
         "y": [
          248,
          79,
          48,
          10,
          1
         ],
         "yaxis": "y"
        }
       ],
       "layout": {
        "barmode": "relative",
        "legend": {
         "tracegroupgap": 0
        },
        "template": {
         "data": {
          "bar": [
           {
            "error_x": {
             "color": "#2a3f5f"
            },
            "error_y": {
             "color": "#2a3f5f"
            },
            "marker": {
             "line": {
              "color": "#E5ECF6",
              "width": 0.5
             },
             "pattern": {
              "fillmode": "overlay",
              "size": 10,
              "solidity": 0.2
             }
            },
            "type": "bar"
           }
          ],
          "barpolar": [
           {
            "marker": {
             "line": {
              "color": "#E5ECF6",
              "width": 0.5
             },
             "pattern": {
              "fillmode": "overlay",
              "size": 10,
              "solidity": 0.2
             }
            },
            "type": "barpolar"
           }
          ],
          "carpet": [
           {
            "aaxis": {
             "endlinecolor": "#2a3f5f",
             "gridcolor": "white",
             "linecolor": "white",
             "minorgridcolor": "white",
             "startlinecolor": "#2a3f5f"
            },
            "baxis": {
             "endlinecolor": "#2a3f5f",
             "gridcolor": "white",
             "linecolor": "white",
             "minorgridcolor": "white",
             "startlinecolor": "#2a3f5f"
            },
            "type": "carpet"
           }
          ],
          "choropleth": [
           {
            "colorbar": {
             "outlinewidth": 0,
             "ticks": ""
            },
            "type": "choropleth"
           }
          ],
          "contour": [
           {
            "colorbar": {
             "outlinewidth": 0,
             "ticks": ""
            },
            "colorscale": [
             [
              0,
              "#0d0887"
             ],
             [
              0.1111111111111111,
              "#46039f"
             ],
             [
              0.2222222222222222,
              "#7201a8"
             ],
             [
              0.3333333333333333,
              "#9c179e"
             ],
             [
              0.4444444444444444,
              "#bd3786"
             ],
             [
              0.5555555555555556,
              "#d8576b"
             ],
             [
              0.6666666666666666,
              "#ed7953"
             ],
             [
              0.7777777777777778,
              "#fb9f3a"
             ],
             [
              0.8888888888888888,
              "#fdca26"
             ],
             [
              1,
              "#f0f921"
             ]
            ],
            "type": "contour"
           }
          ],
          "contourcarpet": [
           {
            "colorbar": {
             "outlinewidth": 0,
             "ticks": ""
            },
            "type": "contourcarpet"
           }
          ],
          "heatmap": [
           {
            "colorbar": {
             "outlinewidth": 0,
             "ticks": ""
            },
            "colorscale": [
             [
              0,
              "#0d0887"
             ],
             [
              0.1111111111111111,
              "#46039f"
             ],
             [
              0.2222222222222222,
              "#7201a8"
             ],
             [
              0.3333333333333333,
              "#9c179e"
             ],
             [
              0.4444444444444444,
              "#bd3786"
             ],
             [
              0.5555555555555556,
              "#d8576b"
             ],
             [
              0.6666666666666666,
              "#ed7953"
             ],
             [
              0.7777777777777778,
              "#fb9f3a"
             ],
             [
              0.8888888888888888,
              "#fdca26"
             ],
             [
              1,
              "#f0f921"
             ]
            ],
            "type": "heatmap"
           }
          ],
          "heatmapgl": [
           {
            "colorbar": {
             "outlinewidth": 0,
             "ticks": ""
            },
            "colorscale": [
             [
              0,
              "#0d0887"
             ],
             [
              0.1111111111111111,
              "#46039f"
             ],
             [
              0.2222222222222222,
              "#7201a8"
             ],
             [
              0.3333333333333333,
              "#9c179e"
             ],
             [
              0.4444444444444444,
              "#bd3786"
             ],
             [
              0.5555555555555556,
              "#d8576b"
             ],
             [
              0.6666666666666666,
              "#ed7953"
             ],
             [
              0.7777777777777778,
              "#fb9f3a"
             ],
             [
              0.8888888888888888,
              "#fdca26"
             ],
             [
              1,
              "#f0f921"
             ]
            ],
            "type": "heatmapgl"
           }
          ],
          "histogram": [
           {
            "marker": {
             "pattern": {
              "fillmode": "overlay",
              "size": 10,
              "solidity": 0.2
             }
            },
            "type": "histogram"
           }
          ],
          "histogram2d": [
           {
            "colorbar": {
             "outlinewidth": 0,
             "ticks": ""
            },
            "colorscale": [
             [
              0,
              "#0d0887"
             ],
             [
              0.1111111111111111,
              "#46039f"
             ],
             [
              0.2222222222222222,
              "#7201a8"
             ],
             [
              0.3333333333333333,
              "#9c179e"
             ],
             [
              0.4444444444444444,
              "#bd3786"
             ],
             [
              0.5555555555555556,
              "#d8576b"
             ],
             [
              0.6666666666666666,
              "#ed7953"
             ],
             [
              0.7777777777777778,
              "#fb9f3a"
             ],
             [
              0.8888888888888888,
              "#fdca26"
             ],
             [
              1,
              "#f0f921"
             ]
            ],
            "type": "histogram2d"
           }
          ],
          "histogram2dcontour": [
           {
            "colorbar": {
             "outlinewidth": 0,
             "ticks": ""
            },
            "colorscale": [
             [
              0,
              "#0d0887"
             ],
             [
              0.1111111111111111,
              "#46039f"
             ],
             [
              0.2222222222222222,
              "#7201a8"
             ],
             [
              0.3333333333333333,
              "#9c179e"
             ],
             [
              0.4444444444444444,
              "#bd3786"
             ],
             [
              0.5555555555555556,
              "#d8576b"
             ],
             [
              0.6666666666666666,
              "#ed7953"
             ],
             [
              0.7777777777777778,
              "#fb9f3a"
             ],
             [
              0.8888888888888888,
              "#fdca26"
             ],
             [
              1,
              "#f0f921"
             ]
            ],
            "type": "histogram2dcontour"
           }
          ],
          "mesh3d": [
           {
            "colorbar": {
             "outlinewidth": 0,
             "ticks": ""
            },
            "type": "mesh3d"
           }
          ],
          "parcoords": [
           {
            "line": {
             "colorbar": {
              "outlinewidth": 0,
              "ticks": ""
             }
            },
            "type": "parcoords"
           }
          ],
          "pie": [
           {
            "automargin": true,
            "type": "pie"
           }
          ],
          "scatter": [
           {
            "fillpattern": {
             "fillmode": "overlay",
             "size": 10,
             "solidity": 0.2
            },
            "type": "scatter"
           }
          ],
          "scatter3d": [
           {
            "line": {
             "colorbar": {
              "outlinewidth": 0,
              "ticks": ""
             }
            },
            "marker": {
             "colorbar": {
              "outlinewidth": 0,
              "ticks": ""
             }
            },
            "type": "scatter3d"
           }
          ],
          "scattercarpet": [
           {
            "marker": {
             "colorbar": {
              "outlinewidth": 0,
              "ticks": ""
             }
            },
            "type": "scattercarpet"
           }
          ],
          "scattergeo": [
           {
            "marker": {
             "colorbar": {
              "outlinewidth": 0,
              "ticks": ""
             }
            },
            "type": "scattergeo"
           }
          ],
          "scattergl": [
           {
            "marker": {
             "colorbar": {
              "outlinewidth": 0,
              "ticks": ""
             }
            },
            "type": "scattergl"
           }
          ],
          "scattermapbox": [
           {
            "marker": {
             "colorbar": {
              "outlinewidth": 0,
              "ticks": ""
             }
            },
            "type": "scattermapbox"
           }
          ],
          "scatterpolar": [
           {
            "marker": {
             "colorbar": {
              "outlinewidth": 0,
              "ticks": ""
             }
            },
            "type": "scatterpolar"
           }
          ],
          "scatterpolargl": [
           {
            "marker": {
             "colorbar": {
              "outlinewidth": 0,
              "ticks": ""
             }
            },
            "type": "scatterpolargl"
           }
          ],
          "scatterternary": [
           {
            "marker": {
             "colorbar": {
              "outlinewidth": 0,
              "ticks": ""
             }
            },
            "type": "scatterternary"
           }
          ],
          "surface": [
           {
            "colorbar": {
             "outlinewidth": 0,
             "ticks": ""
            },
            "colorscale": [
             [
              0,
              "#0d0887"
             ],
             [
              0.1111111111111111,
              "#46039f"
             ],
             [
              0.2222222222222222,
              "#7201a8"
             ],
             [
              0.3333333333333333,
              "#9c179e"
             ],
             [
              0.4444444444444444,
              "#bd3786"
             ],
             [
              0.5555555555555556,
              "#d8576b"
             ],
             [
              0.6666666666666666,
              "#ed7953"
             ],
             [
              0.7777777777777778,
              "#fb9f3a"
             ],
             [
              0.8888888888888888,
              "#fdca26"
             ],
             [
              1,
              "#f0f921"
             ]
            ],
            "type": "surface"
           }
          ],
          "table": [
           {
            "cells": {
             "fill": {
              "color": "#EBF0F8"
             },
             "line": {
              "color": "white"
             }
            },
            "header": {
             "fill": {
              "color": "#C8D4E3"
             },
             "line": {
              "color": "white"
             }
            },
            "type": "table"
           }
          ]
         },
         "layout": {
          "annotationdefaults": {
           "arrowcolor": "#2a3f5f",
           "arrowhead": 0,
           "arrowwidth": 1
          },
          "autotypenumbers": "strict",
          "coloraxis": {
           "colorbar": {
            "outlinewidth": 0,
            "ticks": ""
           }
          },
          "colorscale": {
           "diverging": [
            [
             0,
             "#8e0152"
            ],
            [
             0.1,
             "#c51b7d"
            ],
            [
             0.2,
             "#de77ae"
            ],
            [
             0.3,
             "#f1b6da"
            ],
            [
             0.4,
             "#fde0ef"
            ],
            [
             0.5,
             "#f7f7f7"
            ],
            [
             0.6,
             "#e6f5d0"
            ],
            [
             0.7,
             "#b8e186"
            ],
            [
             0.8,
             "#7fbc41"
            ],
            [
             0.9,
             "#4d9221"
            ],
            [
             1,
             "#276419"
            ]
           ],
           "sequential": [
            [
             0,
             "#0d0887"
            ],
            [
             0.1111111111111111,
             "#46039f"
            ],
            [
             0.2222222222222222,
             "#7201a8"
            ],
            [
             0.3333333333333333,
             "#9c179e"
            ],
            [
             0.4444444444444444,
             "#bd3786"
            ],
            [
             0.5555555555555556,
             "#d8576b"
            ],
            [
             0.6666666666666666,
             "#ed7953"
            ],
            [
             0.7777777777777778,
             "#fb9f3a"
            ],
            [
             0.8888888888888888,
             "#fdca26"
            ],
            [
             1,
             "#f0f921"
            ]
           ],
           "sequentialminus": [
            [
             0,
             "#0d0887"
            ],
            [
             0.1111111111111111,
             "#46039f"
            ],
            [
             0.2222222222222222,
             "#7201a8"
            ],
            [
             0.3333333333333333,
             "#9c179e"
            ],
            [
             0.4444444444444444,
             "#bd3786"
            ],
            [
             0.5555555555555556,
             "#d8576b"
            ],
            [
             0.6666666666666666,
             "#ed7953"
            ],
            [
             0.7777777777777778,
             "#fb9f3a"
            ],
            [
             0.8888888888888888,
             "#fdca26"
            ],
            [
             1,
             "#f0f921"
            ]
           ]
          },
          "colorway": [
           "#636efa",
           "#EF553B",
           "#00cc96",
           "#ab63fa",
           "#FFA15A",
           "#19d3f3",
           "#FF6692",
           "#B6E880",
           "#FF97FF",
           "#FECB52"
          ],
          "font": {
           "color": "#2a3f5f"
          },
          "geo": {
           "bgcolor": "white",
           "lakecolor": "white",
           "landcolor": "#E5ECF6",
           "showlakes": true,
           "showland": true,
           "subunitcolor": "white"
          },
          "hoverlabel": {
           "align": "left"
          },
          "hovermode": "closest",
          "mapbox": {
           "style": "light"
          },
          "paper_bgcolor": "white",
          "plot_bgcolor": "#E5ECF6",
          "polar": {
           "angularaxis": {
            "gridcolor": "white",
            "linecolor": "white",
            "ticks": ""
           },
           "bgcolor": "#E5ECF6",
           "radialaxis": {
            "gridcolor": "white",
            "linecolor": "white",
            "ticks": ""
           }
          },
          "scene": {
           "xaxis": {
            "backgroundcolor": "#E5ECF6",
            "gridcolor": "white",
            "gridwidth": 2,
            "linecolor": "white",
            "showbackground": true,
            "ticks": "",
            "zerolinecolor": "white"
           },
           "yaxis": {
            "backgroundcolor": "#E5ECF6",
            "gridcolor": "white",
            "gridwidth": 2,
            "linecolor": "white",
            "showbackground": true,
            "ticks": "",
            "zerolinecolor": "white"
           },
           "zaxis": {
            "backgroundcolor": "#E5ECF6",
            "gridcolor": "white",
            "gridwidth": 2,
            "linecolor": "white",
            "showbackground": true,
            "ticks": "",
            "zerolinecolor": "white"
           }
          },
          "shapedefaults": {
           "line": {
            "color": "#2a3f5f"
           }
          },
          "ternary": {
           "aaxis": {
            "gridcolor": "white",
            "linecolor": "white",
            "ticks": ""
           },
           "baxis": {
            "gridcolor": "white",
            "linecolor": "white",
            "ticks": ""
           },
           "bgcolor": "#E5ECF6",
           "caxis": {
            "gridcolor": "white",
            "linecolor": "white",
            "ticks": ""
           }
          },
          "title": {
           "x": 0.05
          },
          "xaxis": {
           "automargin": true,
           "gridcolor": "white",
           "linecolor": "white",
           "ticks": "",
           "title": {
            "standoff": 15
           },
           "zerolinecolor": "white",
           "zerolinewidth": 2
          },
          "yaxis": {
           "automargin": true,
           "gridcolor": "white",
           "linecolor": "white",
           "ticks": "",
           "title": {
            "standoff": 15
           },
           "zerolinecolor": "white",
           "zerolinewidth": 2
          }
         }
        },
        "title": {
         "text": "Total Users by Wealth Group"
        },
        "xaxis": {
         "anchor": "y",
         "domain": [
          0,
          1
         ],
         "title": {
          "text": "Claimed Wealth"
         }
        },
        "yaxis": {
         "anchor": "x",
         "domain": [
          0,
          1
         ],
         "showgrid": false,
         "side": "left",
         "title": {
          "text": "Total Users"
         }
        }
       }
      }
     },
     "metadata": {},
     "output_type": "display_data"
    }
   ],
   "source": [
    "users_metrics_by_weatlh = users_metrics_by_weatlh.sort_values(by='unique_gt_users', ascending=False).round(2)\n",
    "\n",
    "fig = px.bar(users_metrics_by_weatlh, \n",
    "             x='total_claimed_wealth_usd', \n",
    "             y='unique_gt_users',\n",
    "             title='Total Users by Wealth Group',\n",
    "             labels={'total_claimed_wealth_usd': 'Claimed Wealth', 'unique_gt_users': 'Total Users'},\n",
    "             text='unique_gt_users',\n",
    "             color_discrete_sequence=['green'])\n",
    "fig.update_layout(yaxis=dict(title='Total Users', side='left', showgrid=False))\n",
    "\n",
    "fig.show()"
   ]
  },
  {
   "cell_type": "code",
   "execution_count": 44,
   "metadata": {},
   "outputs": [
    {
     "data": {
      "application/vnd.plotly.v1+json": {
       "config": {
        "plotlyServerURL": "https://plot.ly"
       },
       "data": [
        {
         "alignmentgroup": "True",
         "hovertemplate": "Total Claimed Wealth (USD)=%{x}<br>Total Purchase (USD)=%{text}<extra></extra>",
         "legendgroup": "",
         "marker": {
          "color": "green",
          "pattern": {
           "shape": ""
          }
         },
         "name": "",
         "offsetgroup": "",
         "orientation": "v",
         "showlegend": false,
         "text": [
          198829.52,
          106913.79,
          72265.3,
          56699.45,
          12262.57
         ],
         "textposition": "auto",
         "texttemplate": "%{y:$,.2f}",
         "type": "bar",
         "x": [
          "50k_to_200k",
          "0_to_50k",
          "1m_to_5m",
          "200k_to_1m",
          "5m_or_more"
         ],
         "xaxis": "x",
         "y": [
          198829.52,
          106913.79,
          72265.3,
          56699.45,
          12262.57
         ],
         "yaxis": "y"
        }
       ],
       "layout": {
        "barmode": "relative",
        "legend": {
         "tracegroupgap": 0
        },
        "template": {
         "data": {
          "bar": [
           {
            "error_x": {
             "color": "#2a3f5f"
            },
            "error_y": {
             "color": "#2a3f5f"
            },
            "marker": {
             "line": {
              "color": "#E5ECF6",
              "width": 0.5
             },
             "pattern": {
              "fillmode": "overlay",
              "size": 10,
              "solidity": 0.2
             }
            },
            "type": "bar"
           }
          ],
          "barpolar": [
           {
            "marker": {
             "line": {
              "color": "#E5ECF6",
              "width": 0.5
             },
             "pattern": {
              "fillmode": "overlay",
              "size": 10,
              "solidity": 0.2
             }
            },
            "type": "barpolar"
           }
          ],
          "carpet": [
           {
            "aaxis": {
             "endlinecolor": "#2a3f5f",
             "gridcolor": "white",
             "linecolor": "white",
             "minorgridcolor": "white",
             "startlinecolor": "#2a3f5f"
            },
            "baxis": {
             "endlinecolor": "#2a3f5f",
             "gridcolor": "white",
             "linecolor": "white",
             "minorgridcolor": "white",
             "startlinecolor": "#2a3f5f"
            },
            "type": "carpet"
           }
          ],
          "choropleth": [
           {
            "colorbar": {
             "outlinewidth": 0,
             "ticks": ""
            },
            "type": "choropleth"
           }
          ],
          "contour": [
           {
            "colorbar": {
             "outlinewidth": 0,
             "ticks": ""
            },
            "colorscale": [
             [
              0,
              "#0d0887"
             ],
             [
              0.1111111111111111,
              "#46039f"
             ],
             [
              0.2222222222222222,
              "#7201a8"
             ],
             [
              0.3333333333333333,
              "#9c179e"
             ],
             [
              0.4444444444444444,
              "#bd3786"
             ],
             [
              0.5555555555555556,
              "#d8576b"
             ],
             [
              0.6666666666666666,
              "#ed7953"
             ],
             [
              0.7777777777777778,
              "#fb9f3a"
             ],
             [
              0.8888888888888888,
              "#fdca26"
             ],
             [
              1,
              "#f0f921"
             ]
            ],
            "type": "contour"
           }
          ],
          "contourcarpet": [
           {
            "colorbar": {
             "outlinewidth": 0,
             "ticks": ""
            },
            "type": "contourcarpet"
           }
          ],
          "heatmap": [
           {
            "colorbar": {
             "outlinewidth": 0,
             "ticks": ""
            },
            "colorscale": [
             [
              0,
              "#0d0887"
             ],
             [
              0.1111111111111111,
              "#46039f"
             ],
             [
              0.2222222222222222,
              "#7201a8"
             ],
             [
              0.3333333333333333,
              "#9c179e"
             ],
             [
              0.4444444444444444,
              "#bd3786"
             ],
             [
              0.5555555555555556,
              "#d8576b"
             ],
             [
              0.6666666666666666,
              "#ed7953"
             ],
             [
              0.7777777777777778,
              "#fb9f3a"
             ],
             [
              0.8888888888888888,
              "#fdca26"
             ],
             [
              1,
              "#f0f921"
             ]
            ],
            "type": "heatmap"
           }
          ],
          "heatmapgl": [
           {
            "colorbar": {
             "outlinewidth": 0,
             "ticks": ""
            },
            "colorscale": [
             [
              0,
              "#0d0887"
             ],
             [
              0.1111111111111111,
              "#46039f"
             ],
             [
              0.2222222222222222,
              "#7201a8"
             ],
             [
              0.3333333333333333,
              "#9c179e"
             ],
             [
              0.4444444444444444,
              "#bd3786"
             ],
             [
              0.5555555555555556,
              "#d8576b"
             ],
             [
              0.6666666666666666,
              "#ed7953"
             ],
             [
              0.7777777777777778,
              "#fb9f3a"
             ],
             [
              0.8888888888888888,
              "#fdca26"
             ],
             [
              1,
              "#f0f921"
             ]
            ],
            "type": "heatmapgl"
           }
          ],
          "histogram": [
           {
            "marker": {
             "pattern": {
              "fillmode": "overlay",
              "size": 10,
              "solidity": 0.2
             }
            },
            "type": "histogram"
           }
          ],
          "histogram2d": [
           {
            "colorbar": {
             "outlinewidth": 0,
             "ticks": ""
            },
            "colorscale": [
             [
              0,
              "#0d0887"
             ],
             [
              0.1111111111111111,
              "#46039f"
             ],
             [
              0.2222222222222222,
              "#7201a8"
             ],
             [
              0.3333333333333333,
              "#9c179e"
             ],
             [
              0.4444444444444444,
              "#bd3786"
             ],
             [
              0.5555555555555556,
              "#d8576b"
             ],
             [
              0.6666666666666666,
              "#ed7953"
             ],
             [
              0.7777777777777778,
              "#fb9f3a"
             ],
             [
              0.8888888888888888,
              "#fdca26"
             ],
             [
              1,
              "#f0f921"
             ]
            ],
            "type": "histogram2d"
           }
          ],
          "histogram2dcontour": [
           {
            "colorbar": {
             "outlinewidth": 0,
             "ticks": ""
            },
            "colorscale": [
             [
              0,
              "#0d0887"
             ],
             [
              0.1111111111111111,
              "#46039f"
             ],
             [
              0.2222222222222222,
              "#7201a8"
             ],
             [
              0.3333333333333333,
              "#9c179e"
             ],
             [
              0.4444444444444444,
              "#bd3786"
             ],
             [
              0.5555555555555556,
              "#d8576b"
             ],
             [
              0.6666666666666666,
              "#ed7953"
             ],
             [
              0.7777777777777778,
              "#fb9f3a"
             ],
             [
              0.8888888888888888,
              "#fdca26"
             ],
             [
              1,
              "#f0f921"
             ]
            ],
            "type": "histogram2dcontour"
           }
          ],
          "mesh3d": [
           {
            "colorbar": {
             "outlinewidth": 0,
             "ticks": ""
            },
            "type": "mesh3d"
           }
          ],
          "parcoords": [
           {
            "line": {
             "colorbar": {
              "outlinewidth": 0,
              "ticks": ""
             }
            },
            "type": "parcoords"
           }
          ],
          "pie": [
           {
            "automargin": true,
            "type": "pie"
           }
          ],
          "scatter": [
           {
            "fillpattern": {
             "fillmode": "overlay",
             "size": 10,
             "solidity": 0.2
            },
            "type": "scatter"
           }
          ],
          "scatter3d": [
           {
            "line": {
             "colorbar": {
              "outlinewidth": 0,
              "ticks": ""
             }
            },
            "marker": {
             "colorbar": {
              "outlinewidth": 0,
              "ticks": ""
             }
            },
            "type": "scatter3d"
           }
          ],
          "scattercarpet": [
           {
            "marker": {
             "colorbar": {
              "outlinewidth": 0,
              "ticks": ""
             }
            },
            "type": "scattercarpet"
           }
          ],
          "scattergeo": [
           {
            "marker": {
             "colorbar": {
              "outlinewidth": 0,
              "ticks": ""
             }
            },
            "type": "scattergeo"
           }
          ],
          "scattergl": [
           {
            "marker": {
             "colorbar": {
              "outlinewidth": 0,
              "ticks": ""
             }
            },
            "type": "scattergl"
           }
          ],
          "scattermapbox": [
           {
            "marker": {
             "colorbar": {
              "outlinewidth": 0,
              "ticks": ""
             }
            },
            "type": "scattermapbox"
           }
          ],
          "scatterpolar": [
           {
            "marker": {
             "colorbar": {
              "outlinewidth": 0,
              "ticks": ""
             }
            },
            "type": "scatterpolar"
           }
          ],
          "scatterpolargl": [
           {
            "marker": {
             "colorbar": {
              "outlinewidth": 0,
              "ticks": ""
             }
            },
            "type": "scatterpolargl"
           }
          ],
          "scatterternary": [
           {
            "marker": {
             "colorbar": {
              "outlinewidth": 0,
              "ticks": ""
             }
            },
            "type": "scatterternary"
           }
          ],
          "surface": [
           {
            "colorbar": {
             "outlinewidth": 0,
             "ticks": ""
            },
            "colorscale": [
             [
              0,
              "#0d0887"
             ],
             [
              0.1111111111111111,
              "#46039f"
             ],
             [
              0.2222222222222222,
              "#7201a8"
             ],
             [
              0.3333333333333333,
              "#9c179e"
             ],
             [
              0.4444444444444444,
              "#bd3786"
             ],
             [
              0.5555555555555556,
              "#d8576b"
             ],
             [
              0.6666666666666666,
              "#ed7953"
             ],
             [
              0.7777777777777778,
              "#fb9f3a"
             ],
             [
              0.8888888888888888,
              "#fdca26"
             ],
             [
              1,
              "#f0f921"
             ]
            ],
            "type": "surface"
           }
          ],
          "table": [
           {
            "cells": {
             "fill": {
              "color": "#EBF0F8"
             },
             "line": {
              "color": "white"
             }
            },
            "header": {
             "fill": {
              "color": "#C8D4E3"
             },
             "line": {
              "color": "white"
             }
            },
            "type": "table"
           }
          ]
         },
         "layout": {
          "annotationdefaults": {
           "arrowcolor": "#2a3f5f",
           "arrowhead": 0,
           "arrowwidth": 1
          },
          "autotypenumbers": "strict",
          "coloraxis": {
           "colorbar": {
            "outlinewidth": 0,
            "ticks": ""
           }
          },
          "colorscale": {
           "diverging": [
            [
             0,
             "#8e0152"
            ],
            [
             0.1,
             "#c51b7d"
            ],
            [
             0.2,
             "#de77ae"
            ],
            [
             0.3,
             "#f1b6da"
            ],
            [
             0.4,
             "#fde0ef"
            ],
            [
             0.5,
             "#f7f7f7"
            ],
            [
             0.6,
             "#e6f5d0"
            ],
            [
             0.7,
             "#b8e186"
            ],
            [
             0.8,
             "#7fbc41"
            ],
            [
             0.9,
             "#4d9221"
            ],
            [
             1,
             "#276419"
            ]
           ],
           "sequential": [
            [
             0,
             "#0d0887"
            ],
            [
             0.1111111111111111,
             "#46039f"
            ],
            [
             0.2222222222222222,
             "#7201a8"
            ],
            [
             0.3333333333333333,
             "#9c179e"
            ],
            [
             0.4444444444444444,
             "#bd3786"
            ],
            [
             0.5555555555555556,
             "#d8576b"
            ],
            [
             0.6666666666666666,
             "#ed7953"
            ],
            [
             0.7777777777777778,
             "#fb9f3a"
            ],
            [
             0.8888888888888888,
             "#fdca26"
            ],
            [
             1,
             "#f0f921"
            ]
           ],
           "sequentialminus": [
            [
             0,
             "#0d0887"
            ],
            [
             0.1111111111111111,
             "#46039f"
            ],
            [
             0.2222222222222222,
             "#7201a8"
            ],
            [
             0.3333333333333333,
             "#9c179e"
            ],
            [
             0.4444444444444444,
             "#bd3786"
            ],
            [
             0.5555555555555556,
             "#d8576b"
            ],
            [
             0.6666666666666666,
             "#ed7953"
            ],
            [
             0.7777777777777778,
             "#fb9f3a"
            ],
            [
             0.8888888888888888,
             "#fdca26"
            ],
            [
             1,
             "#f0f921"
            ]
           ]
          },
          "colorway": [
           "#636efa",
           "#EF553B",
           "#00cc96",
           "#ab63fa",
           "#FFA15A",
           "#19d3f3",
           "#FF6692",
           "#B6E880",
           "#FF97FF",
           "#FECB52"
          ],
          "font": {
           "color": "#2a3f5f"
          },
          "geo": {
           "bgcolor": "white",
           "lakecolor": "white",
           "landcolor": "#E5ECF6",
           "showlakes": true,
           "showland": true,
           "subunitcolor": "white"
          },
          "hoverlabel": {
           "align": "left"
          },
          "hovermode": "closest",
          "mapbox": {
           "style": "light"
          },
          "paper_bgcolor": "white",
          "plot_bgcolor": "#E5ECF6",
          "polar": {
           "angularaxis": {
            "gridcolor": "white",
            "linecolor": "white",
            "ticks": ""
           },
           "bgcolor": "#E5ECF6",
           "radialaxis": {
            "gridcolor": "white",
            "linecolor": "white",
            "ticks": ""
           }
          },
          "scene": {
           "xaxis": {
            "backgroundcolor": "#E5ECF6",
            "gridcolor": "white",
            "gridwidth": 2,
            "linecolor": "white",
            "showbackground": true,
            "ticks": "",
            "zerolinecolor": "white"
           },
           "yaxis": {
            "backgroundcolor": "#E5ECF6",
            "gridcolor": "white",
            "gridwidth": 2,
            "linecolor": "white",
            "showbackground": true,
            "ticks": "",
            "zerolinecolor": "white"
           },
           "zaxis": {
            "backgroundcolor": "#E5ECF6",
            "gridcolor": "white",
            "gridwidth": 2,
            "linecolor": "white",
            "showbackground": true,
            "ticks": "",
            "zerolinecolor": "white"
           }
          },
          "shapedefaults": {
           "line": {
            "color": "#2a3f5f"
           }
          },
          "ternary": {
           "aaxis": {
            "gridcolor": "white",
            "linecolor": "white",
            "ticks": ""
           },
           "baxis": {
            "gridcolor": "white",
            "linecolor": "white",
            "ticks": ""
           },
           "bgcolor": "#E5ECF6",
           "caxis": {
            "gridcolor": "white",
            "linecolor": "white",
            "ticks": ""
           }
          },
          "title": {
           "x": 0.05
          },
          "xaxis": {
           "automargin": true,
           "gridcolor": "white",
           "linecolor": "white",
           "ticks": "",
           "title": {
            "standoff": 15
           },
           "zerolinecolor": "white",
           "zerolinewidth": 2
          },
          "yaxis": {
           "automargin": true,
           "gridcolor": "white",
           "linecolor": "white",
           "ticks": "",
           "title": {
            "standoff": 15
           },
           "zerolinecolor": "white",
           "zerolinewidth": 2
          }
         }
        },
        "title": {
         "text": "Total Purchase by Wealth Group"
        },
        "xaxis": {
         "anchor": "y",
         "domain": [
          0,
          1
         ],
         "title": {
          "text": "Total Claimed Wealth (USD)"
         }
        },
        "yaxis": {
         "anchor": "x",
         "domain": [
          0,
          1
         ],
         "showgrid": false,
         "side": "left",
         "tickformat": ",.2f",
         "tickprefix": "$",
         "title": {
          "text": "Total Purchase (USD)"
         }
        }
       }
      }
     },
     "metadata": {},
     "output_type": "display_data"
    }
   ],
   "source": [
    "users_metrics_by_weatlh = users_metrics_by_weatlh.sort_values(by='total_golden_thematic_purchase_usd', ascending=False).round(2)\n",
    "\n",
    "fig = px.bar(users_metrics_by_weatlh, \n",
    "             x='total_claimed_wealth_usd', \n",
    "             y='total_golden_thematic_purchase_usd',\n",
    "             title='Total Purchase by Wealth Group',\n",
    "             labels={'total_claimed_wealth_usd': 'Total Claimed Wealth (USD)', 'total_golden_thematic_purchase_usd': 'Total Purchase (USD)'},\n",
    "             text='total_golden_thematic_purchase_usd',\n",
    "             text_auto='$,.2f',\n",
    "             color_discrete_sequence=['green'])\n",
    "fig.update_layout(yaxis_tickprefix = '$', yaxis_tickformat = ',.2f')\n",
    "fig.update_layout(yaxis=dict(title='Total Purchase (USD)', side='left', showgrid=False))\n",
    "\n",
    "fig.show()"
   ]
  },
  {
   "cell_type": "markdown",
   "metadata": {},
   "source": [
    "#### By Age Metrics Table"
   ]
  },
  {
   "cell_type": "code",
   "execution_count": 45,
   "metadata": {},
   "outputs": [
    {
     "data": {
      "text/html": [
       "<div>\n",
       "<style scoped>\n",
       "    .dataframe tbody tr th:only-of-type {\n",
       "        vertical-align: middle;\n",
       "    }\n",
       "\n",
       "    .dataframe tbody tr th {\n",
       "        vertical-align: top;\n",
       "    }\n",
       "\n",
       "    .dataframe thead th {\n",
       "        text-align: right;\n",
       "    }\n",
       "</style>\n",
       "<table border=\"1\" class=\"dataframe\">\n",
       "  <thead>\n",
       "    <tr style=\"text-align: right;\">\n",
       "      <th></th>\n",
       "      <th>nm_age_bin</th>\n",
       "      <th>total_gt_users</th>\n",
       "      <th>unique_gt_users</th>\n",
       "      <th>retention_rate</th>\n",
       "      <th>total_golden_thematic_purchase_usd</th>\n",
       "      <th>avg_golden_thematic_purchase_usd</th>\n",
       "      <th>total_golden_thematic_sell_usd</th>\n",
       "      <th>engagement_rate</th>\n",
       "    </tr>\n",
       "  </thead>\n",
       "  <tbody>\n",
       "    <tr>\n",
       "      <th>0</th>\n",
       "      <td>17-22</td>\n",
       "      <td>31</td>\n",
       "      <td>28</td>\n",
       "      <td>1.107</td>\n",
       "      <td>6947.099214</td>\n",
       "      <td>239.555145</td>\n",
       "      <td>394.467656</td>\n",
       "      <td>0.160</td>\n",
       "    </tr>\n",
       "    <tr>\n",
       "      <th>1</th>\n",
       "      <td>22-28</td>\n",
       "      <td>71</td>\n",
       "      <td>53</td>\n",
       "      <td>1.340</td>\n",
       "      <td>19696.641950</td>\n",
       "      <td>312.645110</td>\n",
       "      <td>1400.328184</td>\n",
       "      <td>0.171</td>\n",
       "    </tr>\n",
       "    <tr>\n",
       "      <th>2</th>\n",
       "      <td>28-35</td>\n",
       "      <td>88</td>\n",
       "      <td>73</td>\n",
       "      <td>1.205</td>\n",
       "      <td>46776.821894</td>\n",
       "      <td>570.449047</td>\n",
       "      <td>3939.234413</td>\n",
       "      <td>0.206</td>\n",
       "    </tr>\n",
       "    <tr>\n",
       "      <th>3</th>\n",
       "      <td>35-45</td>\n",
       "      <td>114</td>\n",
       "      <td>87</td>\n",
       "      <td>1.310</td>\n",
       "      <td>65051.008943</td>\n",
       "      <td>607.953355</td>\n",
       "      <td>1920.392596</td>\n",
       "      <td>0.197</td>\n",
       "    </tr>\n",
       "    <tr>\n",
       "      <th>4</th>\n",
       "      <td>45-97</td>\n",
       "      <td>179</td>\n",
       "      <td>145</td>\n",
       "      <td>1.234</td>\n",
       "      <td>308499.050734</td>\n",
       "      <td>1772.983050</td>\n",
       "      <td>141118.797042</td>\n",
       "      <td>0.274</td>\n",
       "    </tr>\n",
       "  </tbody>\n",
       "</table>\n",
       "</div>"
      ],
      "text/plain": [
       "  nm_age_bin  total_gt_users  unique_gt_users  retention_rate  \\\n",
       "0      17-22              31               28           1.107   \n",
       "1      22-28              71               53           1.340   \n",
       "2      28-35              88               73           1.205   \n",
       "3      35-45             114               87           1.310   \n",
       "4      45-97             179              145           1.234   \n",
       "\n",
       "   total_golden_thematic_purchase_usd  avg_golden_thematic_purchase_usd  \\\n",
       "0                         6947.099214                        239.555145   \n",
       "1                        19696.641950                        312.645110   \n",
       "2                        46776.821894                        570.449047   \n",
       "3                        65051.008943                        607.953355   \n",
       "4                       308499.050734                       1772.983050   \n",
       "\n",
       "   total_golden_thematic_sell_usd  engagement_rate  \n",
       "0                      394.467656            0.160  \n",
       "1                     1400.328184            0.171  \n",
       "2                     3939.234413            0.206  \n",
       "3                     1920.392596            0.197  \n",
       "4                   141118.797042            0.274  "
      ]
     },
     "execution_count": 45,
     "metadata": {},
     "output_type": "execute_result"
    }
   ],
   "source": [
    "users_metric_by_age = query_table(\n",
    "    '''\n",
    "WITH all_users AS \n",
    "(\n",
    "   SELECT\n",
    "      nm_age_bin,\n",
    "      COUNT(DISTINCT user_id) AS vl_all_users \n",
    "   FROM\n",
    "      first_week_result_general\n",
    "   GROUP BY\n",
    "      1 \n",
    ")\n",
    ",\n",
    "golden_users AS \n",
    "(\n",
    "   SELECT\n",
    "      nm_age_bin,\n",
    "      COUNT(user_id) AS total_gt_users,\n",
    "      COUNT(DISTINCT user_id) AS unique_gt_users,\n",
    "      ROUND(CAST(COUNT(user_id) AS float) / COUNT(DISTINCT user_id), 3) AS retention_rate,\n",
    "      SUM(golden_thematic_purchase_usd) AS total_golden_thematic_purchase_usd,\n",
    "      AVG(golden_thematic_purchase_usd) AS avg_golden_thematic_purchase_usd,\n",
    "      SUM(golden_thematic_sell_usd) AS total_golden_thematic_sell_usd \n",
    "   FROM\n",
    "      first_week_result_golden_users\n",
    "   GROUP BY\n",
    "      1\n",
    ")\n",
    "SELECT\n",
    "   g.*,\n",
    "   ROUND(CAST(g.unique_gt_users AS float) / vl_all_users, 3) AS engagement_rate \n",
    "FROM\n",
    "   golden_users AS g \n",
    "   LEFT JOIN\n",
    "      all_users AS a \n",
    "      ON g.nm_age_bin = a.nm_age_bin   \n",
    "''')\n",
    "\n",
    "users_metric_by_age"
   ]
  },
  {
   "cell_type": "markdown",
   "metadata": {},
   "source": [
    "#### By Age Metrics Chart"
   ]
  },
  {
   "cell_type": "code",
   "execution_count": 46,
   "metadata": {},
   "outputs": [
    {
     "data": {
      "application/vnd.plotly.v1+json": {
       "config": {
        "plotlyServerURL": "https://plot.ly"
       },
       "data": [
        {
         "alignmentgroup": "True",
         "hovertemplate": "Age Group=%{x}<br>unique_gt_users=%{text}<extra></extra>",
         "legendgroup": "",
         "marker": {
          "color": "green",
          "pattern": {
           "shape": ""
          }
         },
         "name": "",
         "offsetgroup": "",
         "orientation": "v",
         "showlegend": false,
         "text": [
          28,
          53,
          73,
          87,
          145
         ],
         "textposition": "auto",
         "type": "bar",
         "x": [
          "17-22",
          "22-28",
          "28-35",
          "35-45",
          "45-97"
         ],
         "xaxis": "x",
         "y": [
          28,
          53,
          73,
          87,
          145
         ],
         "yaxis": "y"
        }
       ],
       "layout": {
        "barmode": "relative",
        "legend": {
         "tracegroupgap": 0
        },
        "template": {
         "data": {
          "bar": [
           {
            "error_x": {
             "color": "#2a3f5f"
            },
            "error_y": {
             "color": "#2a3f5f"
            },
            "marker": {
             "line": {
              "color": "#E5ECF6",
              "width": 0.5
             },
             "pattern": {
              "fillmode": "overlay",
              "size": 10,
              "solidity": 0.2
             }
            },
            "type": "bar"
           }
          ],
          "barpolar": [
           {
            "marker": {
             "line": {
              "color": "#E5ECF6",
              "width": 0.5
             },
             "pattern": {
              "fillmode": "overlay",
              "size": 10,
              "solidity": 0.2
             }
            },
            "type": "barpolar"
           }
          ],
          "carpet": [
           {
            "aaxis": {
             "endlinecolor": "#2a3f5f",
             "gridcolor": "white",
             "linecolor": "white",
             "minorgridcolor": "white",
             "startlinecolor": "#2a3f5f"
            },
            "baxis": {
             "endlinecolor": "#2a3f5f",
             "gridcolor": "white",
             "linecolor": "white",
             "minorgridcolor": "white",
             "startlinecolor": "#2a3f5f"
            },
            "type": "carpet"
           }
          ],
          "choropleth": [
           {
            "colorbar": {
             "outlinewidth": 0,
             "ticks": ""
            },
            "type": "choropleth"
           }
          ],
          "contour": [
           {
            "colorbar": {
             "outlinewidth": 0,
             "ticks": ""
            },
            "colorscale": [
             [
              0,
              "#0d0887"
             ],
             [
              0.1111111111111111,
              "#46039f"
             ],
             [
              0.2222222222222222,
              "#7201a8"
             ],
             [
              0.3333333333333333,
              "#9c179e"
             ],
             [
              0.4444444444444444,
              "#bd3786"
             ],
             [
              0.5555555555555556,
              "#d8576b"
             ],
             [
              0.6666666666666666,
              "#ed7953"
             ],
             [
              0.7777777777777778,
              "#fb9f3a"
             ],
             [
              0.8888888888888888,
              "#fdca26"
             ],
             [
              1,
              "#f0f921"
             ]
            ],
            "type": "contour"
           }
          ],
          "contourcarpet": [
           {
            "colorbar": {
             "outlinewidth": 0,
             "ticks": ""
            },
            "type": "contourcarpet"
           }
          ],
          "heatmap": [
           {
            "colorbar": {
             "outlinewidth": 0,
             "ticks": ""
            },
            "colorscale": [
             [
              0,
              "#0d0887"
             ],
             [
              0.1111111111111111,
              "#46039f"
             ],
             [
              0.2222222222222222,
              "#7201a8"
             ],
             [
              0.3333333333333333,
              "#9c179e"
             ],
             [
              0.4444444444444444,
              "#bd3786"
             ],
             [
              0.5555555555555556,
              "#d8576b"
             ],
             [
              0.6666666666666666,
              "#ed7953"
             ],
             [
              0.7777777777777778,
              "#fb9f3a"
             ],
             [
              0.8888888888888888,
              "#fdca26"
             ],
             [
              1,
              "#f0f921"
             ]
            ],
            "type": "heatmap"
           }
          ],
          "heatmapgl": [
           {
            "colorbar": {
             "outlinewidth": 0,
             "ticks": ""
            },
            "colorscale": [
             [
              0,
              "#0d0887"
             ],
             [
              0.1111111111111111,
              "#46039f"
             ],
             [
              0.2222222222222222,
              "#7201a8"
             ],
             [
              0.3333333333333333,
              "#9c179e"
             ],
             [
              0.4444444444444444,
              "#bd3786"
             ],
             [
              0.5555555555555556,
              "#d8576b"
             ],
             [
              0.6666666666666666,
              "#ed7953"
             ],
             [
              0.7777777777777778,
              "#fb9f3a"
             ],
             [
              0.8888888888888888,
              "#fdca26"
             ],
             [
              1,
              "#f0f921"
             ]
            ],
            "type": "heatmapgl"
           }
          ],
          "histogram": [
           {
            "marker": {
             "pattern": {
              "fillmode": "overlay",
              "size": 10,
              "solidity": 0.2
             }
            },
            "type": "histogram"
           }
          ],
          "histogram2d": [
           {
            "colorbar": {
             "outlinewidth": 0,
             "ticks": ""
            },
            "colorscale": [
             [
              0,
              "#0d0887"
             ],
             [
              0.1111111111111111,
              "#46039f"
             ],
             [
              0.2222222222222222,
              "#7201a8"
             ],
             [
              0.3333333333333333,
              "#9c179e"
             ],
             [
              0.4444444444444444,
              "#bd3786"
             ],
             [
              0.5555555555555556,
              "#d8576b"
             ],
             [
              0.6666666666666666,
              "#ed7953"
             ],
             [
              0.7777777777777778,
              "#fb9f3a"
             ],
             [
              0.8888888888888888,
              "#fdca26"
             ],
             [
              1,
              "#f0f921"
             ]
            ],
            "type": "histogram2d"
           }
          ],
          "histogram2dcontour": [
           {
            "colorbar": {
             "outlinewidth": 0,
             "ticks": ""
            },
            "colorscale": [
             [
              0,
              "#0d0887"
             ],
             [
              0.1111111111111111,
              "#46039f"
             ],
             [
              0.2222222222222222,
              "#7201a8"
             ],
             [
              0.3333333333333333,
              "#9c179e"
             ],
             [
              0.4444444444444444,
              "#bd3786"
             ],
             [
              0.5555555555555556,
              "#d8576b"
             ],
             [
              0.6666666666666666,
              "#ed7953"
             ],
             [
              0.7777777777777778,
              "#fb9f3a"
             ],
             [
              0.8888888888888888,
              "#fdca26"
             ],
             [
              1,
              "#f0f921"
             ]
            ],
            "type": "histogram2dcontour"
           }
          ],
          "mesh3d": [
           {
            "colorbar": {
             "outlinewidth": 0,
             "ticks": ""
            },
            "type": "mesh3d"
           }
          ],
          "parcoords": [
           {
            "line": {
             "colorbar": {
              "outlinewidth": 0,
              "ticks": ""
             }
            },
            "type": "parcoords"
           }
          ],
          "pie": [
           {
            "automargin": true,
            "type": "pie"
           }
          ],
          "scatter": [
           {
            "fillpattern": {
             "fillmode": "overlay",
             "size": 10,
             "solidity": 0.2
            },
            "type": "scatter"
           }
          ],
          "scatter3d": [
           {
            "line": {
             "colorbar": {
              "outlinewidth": 0,
              "ticks": ""
             }
            },
            "marker": {
             "colorbar": {
              "outlinewidth": 0,
              "ticks": ""
             }
            },
            "type": "scatter3d"
           }
          ],
          "scattercarpet": [
           {
            "marker": {
             "colorbar": {
              "outlinewidth": 0,
              "ticks": ""
             }
            },
            "type": "scattercarpet"
           }
          ],
          "scattergeo": [
           {
            "marker": {
             "colorbar": {
              "outlinewidth": 0,
              "ticks": ""
             }
            },
            "type": "scattergeo"
           }
          ],
          "scattergl": [
           {
            "marker": {
             "colorbar": {
              "outlinewidth": 0,
              "ticks": ""
             }
            },
            "type": "scattergl"
           }
          ],
          "scattermapbox": [
           {
            "marker": {
             "colorbar": {
              "outlinewidth": 0,
              "ticks": ""
             }
            },
            "type": "scattermapbox"
           }
          ],
          "scatterpolar": [
           {
            "marker": {
             "colorbar": {
              "outlinewidth": 0,
              "ticks": ""
             }
            },
            "type": "scatterpolar"
           }
          ],
          "scatterpolargl": [
           {
            "marker": {
             "colorbar": {
              "outlinewidth": 0,
              "ticks": ""
             }
            },
            "type": "scatterpolargl"
           }
          ],
          "scatterternary": [
           {
            "marker": {
             "colorbar": {
              "outlinewidth": 0,
              "ticks": ""
             }
            },
            "type": "scatterternary"
           }
          ],
          "surface": [
           {
            "colorbar": {
             "outlinewidth": 0,
             "ticks": ""
            },
            "colorscale": [
             [
              0,
              "#0d0887"
             ],
             [
              0.1111111111111111,
              "#46039f"
             ],
             [
              0.2222222222222222,
              "#7201a8"
             ],
             [
              0.3333333333333333,
              "#9c179e"
             ],
             [
              0.4444444444444444,
              "#bd3786"
             ],
             [
              0.5555555555555556,
              "#d8576b"
             ],
             [
              0.6666666666666666,
              "#ed7953"
             ],
             [
              0.7777777777777778,
              "#fb9f3a"
             ],
             [
              0.8888888888888888,
              "#fdca26"
             ],
             [
              1,
              "#f0f921"
             ]
            ],
            "type": "surface"
           }
          ],
          "table": [
           {
            "cells": {
             "fill": {
              "color": "#EBF0F8"
             },
             "line": {
              "color": "white"
             }
            },
            "header": {
             "fill": {
              "color": "#C8D4E3"
             },
             "line": {
              "color": "white"
             }
            },
            "type": "table"
           }
          ]
         },
         "layout": {
          "annotationdefaults": {
           "arrowcolor": "#2a3f5f",
           "arrowhead": 0,
           "arrowwidth": 1
          },
          "autotypenumbers": "strict",
          "coloraxis": {
           "colorbar": {
            "outlinewidth": 0,
            "ticks": ""
           }
          },
          "colorscale": {
           "diverging": [
            [
             0,
             "#8e0152"
            ],
            [
             0.1,
             "#c51b7d"
            ],
            [
             0.2,
             "#de77ae"
            ],
            [
             0.3,
             "#f1b6da"
            ],
            [
             0.4,
             "#fde0ef"
            ],
            [
             0.5,
             "#f7f7f7"
            ],
            [
             0.6,
             "#e6f5d0"
            ],
            [
             0.7,
             "#b8e186"
            ],
            [
             0.8,
             "#7fbc41"
            ],
            [
             0.9,
             "#4d9221"
            ],
            [
             1,
             "#276419"
            ]
           ],
           "sequential": [
            [
             0,
             "#0d0887"
            ],
            [
             0.1111111111111111,
             "#46039f"
            ],
            [
             0.2222222222222222,
             "#7201a8"
            ],
            [
             0.3333333333333333,
             "#9c179e"
            ],
            [
             0.4444444444444444,
             "#bd3786"
            ],
            [
             0.5555555555555556,
             "#d8576b"
            ],
            [
             0.6666666666666666,
             "#ed7953"
            ],
            [
             0.7777777777777778,
             "#fb9f3a"
            ],
            [
             0.8888888888888888,
             "#fdca26"
            ],
            [
             1,
             "#f0f921"
            ]
           ],
           "sequentialminus": [
            [
             0,
             "#0d0887"
            ],
            [
             0.1111111111111111,
             "#46039f"
            ],
            [
             0.2222222222222222,
             "#7201a8"
            ],
            [
             0.3333333333333333,
             "#9c179e"
            ],
            [
             0.4444444444444444,
             "#bd3786"
            ],
            [
             0.5555555555555556,
             "#d8576b"
            ],
            [
             0.6666666666666666,
             "#ed7953"
            ],
            [
             0.7777777777777778,
             "#fb9f3a"
            ],
            [
             0.8888888888888888,
             "#fdca26"
            ],
            [
             1,
             "#f0f921"
            ]
           ]
          },
          "colorway": [
           "#636efa",
           "#EF553B",
           "#00cc96",
           "#ab63fa",
           "#FFA15A",
           "#19d3f3",
           "#FF6692",
           "#B6E880",
           "#FF97FF",
           "#FECB52"
          ],
          "font": {
           "color": "#2a3f5f"
          },
          "geo": {
           "bgcolor": "white",
           "lakecolor": "white",
           "landcolor": "#E5ECF6",
           "showlakes": true,
           "showland": true,
           "subunitcolor": "white"
          },
          "hoverlabel": {
           "align": "left"
          },
          "hovermode": "closest",
          "mapbox": {
           "style": "light"
          },
          "paper_bgcolor": "white",
          "plot_bgcolor": "#E5ECF6",
          "polar": {
           "angularaxis": {
            "gridcolor": "white",
            "linecolor": "white",
            "ticks": ""
           },
           "bgcolor": "#E5ECF6",
           "radialaxis": {
            "gridcolor": "white",
            "linecolor": "white",
            "ticks": ""
           }
          },
          "scene": {
           "xaxis": {
            "backgroundcolor": "#E5ECF6",
            "gridcolor": "white",
            "gridwidth": 2,
            "linecolor": "white",
            "showbackground": true,
            "ticks": "",
            "zerolinecolor": "white"
           },
           "yaxis": {
            "backgroundcolor": "#E5ECF6",
            "gridcolor": "white",
            "gridwidth": 2,
            "linecolor": "white",
            "showbackground": true,
            "ticks": "",
            "zerolinecolor": "white"
           },
           "zaxis": {
            "backgroundcolor": "#E5ECF6",
            "gridcolor": "white",
            "gridwidth": 2,
            "linecolor": "white",
            "showbackground": true,
            "ticks": "",
            "zerolinecolor": "white"
           }
          },
          "shapedefaults": {
           "line": {
            "color": "#2a3f5f"
           }
          },
          "ternary": {
           "aaxis": {
            "gridcolor": "white",
            "linecolor": "white",
            "ticks": ""
           },
           "baxis": {
            "gridcolor": "white",
            "linecolor": "white",
            "ticks": ""
           },
           "bgcolor": "#E5ECF6",
           "caxis": {
            "gridcolor": "white",
            "linecolor": "white",
            "ticks": ""
           }
          },
          "title": {
           "x": 0.05
          },
          "xaxis": {
           "automargin": true,
           "gridcolor": "white",
           "linecolor": "white",
           "ticks": "",
           "title": {
            "standoff": 15
           },
           "zerolinecolor": "white",
           "zerolinewidth": 2
          },
          "yaxis": {
           "automargin": true,
           "gridcolor": "white",
           "linecolor": "white",
           "ticks": "",
           "title": {
            "standoff": 15
           },
           "zerolinecolor": "white",
           "zerolinewidth": 2
          }
         }
        },
        "title": {
         "text": "Total Users by Age Group"
        },
        "xaxis": {
         "anchor": "y",
         "domain": [
          0,
          1
         ],
         "title": {
          "text": "Age Group"
         }
        },
        "yaxis": {
         "anchor": "x",
         "domain": [
          0,
          1
         ],
         "showgrid": false,
         "side": "left",
         "title": {
          "text": "Total Users"
         }
        }
       }
      }
     },
     "metadata": {},
     "output_type": "display_data"
    }
   ],
   "source": [
    "users_metric_by_age = users_metric_by_age.sort_values(by='nm_age_bin', ascending=True).round(2)\n",
    "\n",
    "fig = px.bar(users_metric_by_age, \n",
    "             x='nm_age_bin', \n",
    "             y='unique_gt_users',\n",
    "             title='Total Users by Age Group',\n",
    "             labels={'total_claimed_wealth_usd': 'Total Claimed Wealth (USD)', 'nm_age_bin': 'Age Group'},\n",
    "             text='unique_gt_users',\n",
    "             color_discrete_sequence=['green'])\n",
    "fig.update_layout(yaxis=dict(title='Total Users', side='left', showgrid=False))\n",
    "\n",
    "fig.show()"
   ]
  },
  {
   "cell_type": "code",
   "execution_count": 47,
   "metadata": {},
   "outputs": [
    {
     "data": {
      "application/vnd.plotly.v1+json": {
       "config": {
        "plotlyServerURL": "https://plot.ly"
       },
       "data": [
        {
         "alignmentgroup": "True",
         "hovertemplate": "Age Group=%{x}<br>Total Purchase (USD)=%{text}<extra></extra>",
         "legendgroup": "",
         "marker": {
          "color": "green",
          "pattern": {
           "shape": ""
          }
         },
         "name": "",
         "offsetgroup": "",
         "orientation": "v",
         "showlegend": false,
         "text": [
          6947.1,
          19696.64,
          46776.82,
          65051.01,
          308499.05
         ],
         "textposition": "auto",
         "texttemplate": "%{y:$,.2f}",
         "type": "bar",
         "x": [
          "17-22",
          "22-28",
          "28-35",
          "35-45",
          "45-97"
         ],
         "xaxis": "x",
         "y": [
          6947.1,
          19696.64,
          46776.82,
          65051.01,
          308499.05
         ],
         "yaxis": "y"
        }
       ],
       "layout": {
        "barmode": "relative",
        "legend": {
         "tracegroupgap": 0
        },
        "template": {
         "data": {
          "bar": [
           {
            "error_x": {
             "color": "#2a3f5f"
            },
            "error_y": {
             "color": "#2a3f5f"
            },
            "marker": {
             "line": {
              "color": "#E5ECF6",
              "width": 0.5
             },
             "pattern": {
              "fillmode": "overlay",
              "size": 10,
              "solidity": 0.2
             }
            },
            "type": "bar"
           }
          ],
          "barpolar": [
           {
            "marker": {
             "line": {
              "color": "#E5ECF6",
              "width": 0.5
             },
             "pattern": {
              "fillmode": "overlay",
              "size": 10,
              "solidity": 0.2
             }
            },
            "type": "barpolar"
           }
          ],
          "carpet": [
           {
            "aaxis": {
             "endlinecolor": "#2a3f5f",
             "gridcolor": "white",
             "linecolor": "white",
             "minorgridcolor": "white",
             "startlinecolor": "#2a3f5f"
            },
            "baxis": {
             "endlinecolor": "#2a3f5f",
             "gridcolor": "white",
             "linecolor": "white",
             "minorgridcolor": "white",
             "startlinecolor": "#2a3f5f"
            },
            "type": "carpet"
           }
          ],
          "choropleth": [
           {
            "colorbar": {
             "outlinewidth": 0,
             "ticks": ""
            },
            "type": "choropleth"
           }
          ],
          "contour": [
           {
            "colorbar": {
             "outlinewidth": 0,
             "ticks": ""
            },
            "colorscale": [
             [
              0,
              "#0d0887"
             ],
             [
              0.1111111111111111,
              "#46039f"
             ],
             [
              0.2222222222222222,
              "#7201a8"
             ],
             [
              0.3333333333333333,
              "#9c179e"
             ],
             [
              0.4444444444444444,
              "#bd3786"
             ],
             [
              0.5555555555555556,
              "#d8576b"
             ],
             [
              0.6666666666666666,
              "#ed7953"
             ],
             [
              0.7777777777777778,
              "#fb9f3a"
             ],
             [
              0.8888888888888888,
              "#fdca26"
             ],
             [
              1,
              "#f0f921"
             ]
            ],
            "type": "contour"
           }
          ],
          "contourcarpet": [
           {
            "colorbar": {
             "outlinewidth": 0,
             "ticks": ""
            },
            "type": "contourcarpet"
           }
          ],
          "heatmap": [
           {
            "colorbar": {
             "outlinewidth": 0,
             "ticks": ""
            },
            "colorscale": [
             [
              0,
              "#0d0887"
             ],
             [
              0.1111111111111111,
              "#46039f"
             ],
             [
              0.2222222222222222,
              "#7201a8"
             ],
             [
              0.3333333333333333,
              "#9c179e"
             ],
             [
              0.4444444444444444,
              "#bd3786"
             ],
             [
              0.5555555555555556,
              "#d8576b"
             ],
             [
              0.6666666666666666,
              "#ed7953"
             ],
             [
              0.7777777777777778,
              "#fb9f3a"
             ],
             [
              0.8888888888888888,
              "#fdca26"
             ],
             [
              1,
              "#f0f921"
             ]
            ],
            "type": "heatmap"
           }
          ],
          "heatmapgl": [
           {
            "colorbar": {
             "outlinewidth": 0,
             "ticks": ""
            },
            "colorscale": [
             [
              0,
              "#0d0887"
             ],
             [
              0.1111111111111111,
              "#46039f"
             ],
             [
              0.2222222222222222,
              "#7201a8"
             ],
             [
              0.3333333333333333,
              "#9c179e"
             ],
             [
              0.4444444444444444,
              "#bd3786"
             ],
             [
              0.5555555555555556,
              "#d8576b"
             ],
             [
              0.6666666666666666,
              "#ed7953"
             ],
             [
              0.7777777777777778,
              "#fb9f3a"
             ],
             [
              0.8888888888888888,
              "#fdca26"
             ],
             [
              1,
              "#f0f921"
             ]
            ],
            "type": "heatmapgl"
           }
          ],
          "histogram": [
           {
            "marker": {
             "pattern": {
              "fillmode": "overlay",
              "size": 10,
              "solidity": 0.2
             }
            },
            "type": "histogram"
           }
          ],
          "histogram2d": [
           {
            "colorbar": {
             "outlinewidth": 0,
             "ticks": ""
            },
            "colorscale": [
             [
              0,
              "#0d0887"
             ],
             [
              0.1111111111111111,
              "#46039f"
             ],
             [
              0.2222222222222222,
              "#7201a8"
             ],
             [
              0.3333333333333333,
              "#9c179e"
             ],
             [
              0.4444444444444444,
              "#bd3786"
             ],
             [
              0.5555555555555556,
              "#d8576b"
             ],
             [
              0.6666666666666666,
              "#ed7953"
             ],
             [
              0.7777777777777778,
              "#fb9f3a"
             ],
             [
              0.8888888888888888,
              "#fdca26"
             ],
             [
              1,
              "#f0f921"
             ]
            ],
            "type": "histogram2d"
           }
          ],
          "histogram2dcontour": [
           {
            "colorbar": {
             "outlinewidth": 0,
             "ticks": ""
            },
            "colorscale": [
             [
              0,
              "#0d0887"
             ],
             [
              0.1111111111111111,
              "#46039f"
             ],
             [
              0.2222222222222222,
              "#7201a8"
             ],
             [
              0.3333333333333333,
              "#9c179e"
             ],
             [
              0.4444444444444444,
              "#bd3786"
             ],
             [
              0.5555555555555556,
              "#d8576b"
             ],
             [
              0.6666666666666666,
              "#ed7953"
             ],
             [
              0.7777777777777778,
              "#fb9f3a"
             ],
             [
              0.8888888888888888,
              "#fdca26"
             ],
             [
              1,
              "#f0f921"
             ]
            ],
            "type": "histogram2dcontour"
           }
          ],
          "mesh3d": [
           {
            "colorbar": {
             "outlinewidth": 0,
             "ticks": ""
            },
            "type": "mesh3d"
           }
          ],
          "parcoords": [
           {
            "line": {
             "colorbar": {
              "outlinewidth": 0,
              "ticks": ""
             }
            },
            "type": "parcoords"
           }
          ],
          "pie": [
           {
            "automargin": true,
            "type": "pie"
           }
          ],
          "scatter": [
           {
            "fillpattern": {
             "fillmode": "overlay",
             "size": 10,
             "solidity": 0.2
            },
            "type": "scatter"
           }
          ],
          "scatter3d": [
           {
            "line": {
             "colorbar": {
              "outlinewidth": 0,
              "ticks": ""
             }
            },
            "marker": {
             "colorbar": {
              "outlinewidth": 0,
              "ticks": ""
             }
            },
            "type": "scatter3d"
           }
          ],
          "scattercarpet": [
           {
            "marker": {
             "colorbar": {
              "outlinewidth": 0,
              "ticks": ""
             }
            },
            "type": "scattercarpet"
           }
          ],
          "scattergeo": [
           {
            "marker": {
             "colorbar": {
              "outlinewidth": 0,
              "ticks": ""
             }
            },
            "type": "scattergeo"
           }
          ],
          "scattergl": [
           {
            "marker": {
             "colorbar": {
              "outlinewidth": 0,
              "ticks": ""
             }
            },
            "type": "scattergl"
           }
          ],
          "scattermapbox": [
           {
            "marker": {
             "colorbar": {
              "outlinewidth": 0,
              "ticks": ""
             }
            },
            "type": "scattermapbox"
           }
          ],
          "scatterpolar": [
           {
            "marker": {
             "colorbar": {
              "outlinewidth": 0,
              "ticks": ""
             }
            },
            "type": "scatterpolar"
           }
          ],
          "scatterpolargl": [
           {
            "marker": {
             "colorbar": {
              "outlinewidth": 0,
              "ticks": ""
             }
            },
            "type": "scatterpolargl"
           }
          ],
          "scatterternary": [
           {
            "marker": {
             "colorbar": {
              "outlinewidth": 0,
              "ticks": ""
             }
            },
            "type": "scatterternary"
           }
          ],
          "surface": [
           {
            "colorbar": {
             "outlinewidth": 0,
             "ticks": ""
            },
            "colorscale": [
             [
              0,
              "#0d0887"
             ],
             [
              0.1111111111111111,
              "#46039f"
             ],
             [
              0.2222222222222222,
              "#7201a8"
             ],
             [
              0.3333333333333333,
              "#9c179e"
             ],
             [
              0.4444444444444444,
              "#bd3786"
             ],
             [
              0.5555555555555556,
              "#d8576b"
             ],
             [
              0.6666666666666666,
              "#ed7953"
             ],
             [
              0.7777777777777778,
              "#fb9f3a"
             ],
             [
              0.8888888888888888,
              "#fdca26"
             ],
             [
              1,
              "#f0f921"
             ]
            ],
            "type": "surface"
           }
          ],
          "table": [
           {
            "cells": {
             "fill": {
              "color": "#EBF0F8"
             },
             "line": {
              "color": "white"
             }
            },
            "header": {
             "fill": {
              "color": "#C8D4E3"
             },
             "line": {
              "color": "white"
             }
            },
            "type": "table"
           }
          ]
         },
         "layout": {
          "annotationdefaults": {
           "arrowcolor": "#2a3f5f",
           "arrowhead": 0,
           "arrowwidth": 1
          },
          "autotypenumbers": "strict",
          "coloraxis": {
           "colorbar": {
            "outlinewidth": 0,
            "ticks": ""
           }
          },
          "colorscale": {
           "diverging": [
            [
             0,
             "#8e0152"
            ],
            [
             0.1,
             "#c51b7d"
            ],
            [
             0.2,
             "#de77ae"
            ],
            [
             0.3,
             "#f1b6da"
            ],
            [
             0.4,
             "#fde0ef"
            ],
            [
             0.5,
             "#f7f7f7"
            ],
            [
             0.6,
             "#e6f5d0"
            ],
            [
             0.7,
             "#b8e186"
            ],
            [
             0.8,
             "#7fbc41"
            ],
            [
             0.9,
             "#4d9221"
            ],
            [
             1,
             "#276419"
            ]
           ],
           "sequential": [
            [
             0,
             "#0d0887"
            ],
            [
             0.1111111111111111,
             "#46039f"
            ],
            [
             0.2222222222222222,
             "#7201a8"
            ],
            [
             0.3333333333333333,
             "#9c179e"
            ],
            [
             0.4444444444444444,
             "#bd3786"
            ],
            [
             0.5555555555555556,
             "#d8576b"
            ],
            [
             0.6666666666666666,
             "#ed7953"
            ],
            [
             0.7777777777777778,
             "#fb9f3a"
            ],
            [
             0.8888888888888888,
             "#fdca26"
            ],
            [
             1,
             "#f0f921"
            ]
           ],
           "sequentialminus": [
            [
             0,
             "#0d0887"
            ],
            [
             0.1111111111111111,
             "#46039f"
            ],
            [
             0.2222222222222222,
             "#7201a8"
            ],
            [
             0.3333333333333333,
             "#9c179e"
            ],
            [
             0.4444444444444444,
             "#bd3786"
            ],
            [
             0.5555555555555556,
             "#d8576b"
            ],
            [
             0.6666666666666666,
             "#ed7953"
            ],
            [
             0.7777777777777778,
             "#fb9f3a"
            ],
            [
             0.8888888888888888,
             "#fdca26"
            ],
            [
             1,
             "#f0f921"
            ]
           ]
          },
          "colorway": [
           "#636efa",
           "#EF553B",
           "#00cc96",
           "#ab63fa",
           "#FFA15A",
           "#19d3f3",
           "#FF6692",
           "#B6E880",
           "#FF97FF",
           "#FECB52"
          ],
          "font": {
           "color": "#2a3f5f"
          },
          "geo": {
           "bgcolor": "white",
           "lakecolor": "white",
           "landcolor": "#E5ECF6",
           "showlakes": true,
           "showland": true,
           "subunitcolor": "white"
          },
          "hoverlabel": {
           "align": "left"
          },
          "hovermode": "closest",
          "mapbox": {
           "style": "light"
          },
          "paper_bgcolor": "white",
          "plot_bgcolor": "#E5ECF6",
          "polar": {
           "angularaxis": {
            "gridcolor": "white",
            "linecolor": "white",
            "ticks": ""
           },
           "bgcolor": "#E5ECF6",
           "radialaxis": {
            "gridcolor": "white",
            "linecolor": "white",
            "ticks": ""
           }
          },
          "scene": {
           "xaxis": {
            "backgroundcolor": "#E5ECF6",
            "gridcolor": "white",
            "gridwidth": 2,
            "linecolor": "white",
            "showbackground": true,
            "ticks": "",
            "zerolinecolor": "white"
           },
           "yaxis": {
            "backgroundcolor": "#E5ECF6",
            "gridcolor": "white",
            "gridwidth": 2,
            "linecolor": "white",
            "showbackground": true,
            "ticks": "",
            "zerolinecolor": "white"
           },
           "zaxis": {
            "backgroundcolor": "#E5ECF6",
            "gridcolor": "white",
            "gridwidth": 2,
            "linecolor": "white",
            "showbackground": true,
            "ticks": "",
            "zerolinecolor": "white"
           }
          },
          "shapedefaults": {
           "line": {
            "color": "#2a3f5f"
           }
          },
          "ternary": {
           "aaxis": {
            "gridcolor": "white",
            "linecolor": "white",
            "ticks": ""
           },
           "baxis": {
            "gridcolor": "white",
            "linecolor": "white",
            "ticks": ""
           },
           "bgcolor": "#E5ECF6",
           "caxis": {
            "gridcolor": "white",
            "linecolor": "white",
            "ticks": ""
           }
          },
          "title": {
           "x": 0.05
          },
          "xaxis": {
           "automargin": true,
           "gridcolor": "white",
           "linecolor": "white",
           "ticks": "",
           "title": {
            "standoff": 15
           },
           "zerolinecolor": "white",
           "zerolinewidth": 2
          },
          "yaxis": {
           "automargin": true,
           "gridcolor": "white",
           "linecolor": "white",
           "ticks": "",
           "title": {
            "standoff": 15
           },
           "zerolinecolor": "white",
           "zerolinewidth": 2
          }
         }
        },
        "title": {
         "text": "Total Purchase by Age Group"
        },
        "xaxis": {
         "anchor": "y",
         "domain": [
          0,
          1
         ],
         "title": {
          "text": "Age Group"
         }
        },
        "yaxis": {
         "anchor": "x",
         "domain": [
          0,
          1
         ],
         "showgrid": false,
         "side": "left",
         "tickformat": ",.2f",
         "tickprefix": "$",
         "title": {
          "text": "Total Purchase (USD)"
         }
        }
       }
      }
     },
     "metadata": {},
     "output_type": "display_data"
    }
   ],
   "source": [
    "users_metric_by_age = users_metric_by_age.sort_values(by='nm_age_bin', ascending=True).round(2)\n",
    "\n",
    "fig = px.bar(users_metric_by_age, \n",
    "             x='nm_age_bin', \n",
    "             y='total_golden_thematic_purchase_usd',\n",
    "             title='Total Purchase by Age Group',\n",
    "             labels={'nm_age_bin': 'Age Group', 'total_golden_thematic_purchase_usd': 'Total Purchase (USD)'},\n",
    "             text='total_golden_thematic_purchase_usd',\n",
    "             text_auto='$,.2f',\n",
    "             color_discrete_sequence=['green'])\n",
    "fig.update_layout(yaxis_tickprefix = '$', yaxis_tickformat = ',.2f')\n",
    "fig.update_layout(yaxis=dict(title='Total Purchase (USD)', side='left', showgrid=False))\n",
    "\n",
    "fig.show()"
   ]
  },
  {
   "cell_type": "markdown",
   "metadata": {},
   "source": [
    "### Multivariate Analysis"
   ]
  },
  {
   "cell_type": "code",
   "execution_count": 52,
   "metadata": {},
   "outputs": [
    {
     "data": {
      "text/html": [
       "<div>\n",
       "<style scoped>\n",
       "    .dataframe tbody tr th:only-of-type {\n",
       "        vertical-align: middle;\n",
       "    }\n",
       "\n",
       "    .dataframe tbody tr th {\n",
       "        vertical-align: top;\n",
       "    }\n",
       "\n",
       "    .dataframe thead th {\n",
       "        text-align: right;\n",
       "    }\n",
       "</style>\n",
       "<table border=\"1\" class=\"dataframe\">\n",
       "  <thead>\n",
       "    <tr style=\"text-align: right;\">\n",
       "      <th></th>\n",
       "      <th>country_code</th>\n",
       "      <th>total_claimed_wealth_usd</th>\n",
       "      <th>nm_age_bin</th>\n",
       "      <th>total_gt_users</th>\n",
       "      <th>unique_gt_users</th>\n",
       "      <th>retention_rate</th>\n",
       "      <th>total_golden_thematic_purchase_usd</th>\n",
       "      <th>avg_golden_thematic_purchase_usd</th>\n",
       "      <th>total_golden_thematic_sell_usd</th>\n",
       "      <th>engagement_rate</th>\n",
       "    </tr>\n",
       "  </thead>\n",
       "  <tbody>\n",
       "    <tr>\n",
       "      <th>0</th>\n",
       "      <td>FR</td>\n",
       "      <td>0_to_50k</td>\n",
       "      <td>45-97</td>\n",
       "      <td>28</td>\n",
       "      <td>25</td>\n",
       "      <td>1.120</td>\n",
       "      <td>15501.966004</td>\n",
       "      <td>553.641643</td>\n",
       "      <td>1334.514806</td>\n",
       "      <td>0.362</td>\n",
       "    </tr>\n",
       "    <tr>\n",
       "      <th>1</th>\n",
       "      <td>CH</td>\n",
       "      <td>0_to_50k</td>\n",
       "      <td>22-28</td>\n",
       "      <td>32</td>\n",
       "      <td>21</td>\n",
       "      <td>1.524</td>\n",
       "      <td>12508.979831</td>\n",
       "      <td>416.965994</td>\n",
       "      <td>349.537140</td>\n",
       "      <td>0.288</td>\n",
       "    </tr>\n",
       "    <tr>\n",
       "      <th>2</th>\n",
       "      <td>FR</td>\n",
       "      <td>0_to_50k</td>\n",
       "      <td>22-28</td>\n",
       "      <td>25</td>\n",
       "      <td>21</td>\n",
       "      <td>1.190</td>\n",
       "      <td>3729.460925</td>\n",
       "      <td>169.520951</td>\n",
       "      <td>40.609164</td>\n",
       "      <td>0.328</td>\n",
       "    </tr>\n",
       "    <tr>\n",
       "      <th>3</th>\n",
       "      <td>CH</td>\n",
       "      <td>0_to_50k</td>\n",
       "      <td>28-35</td>\n",
       "      <td>24</td>\n",
       "      <td>18</td>\n",
       "      <td>1.333</td>\n",
       "      <td>9939.839953</td>\n",
       "      <td>451.810907</td>\n",
       "      <td>379.428995</td>\n",
       "      <td>0.295</td>\n",
       "    </tr>\n",
       "    <tr>\n",
       "      <th>4</th>\n",
       "      <td>FR</td>\n",
       "      <td>50k_to_200k</td>\n",
       "      <td>45-97</td>\n",
       "      <td>18</td>\n",
       "      <td>17</td>\n",
       "      <td>1.059</td>\n",
       "      <td>11304.724495</td>\n",
       "      <td>628.040250</td>\n",
       "      <td>3526.935606</td>\n",
       "      <td>0.531</td>\n",
       "    </tr>\n",
       "    <tr>\n",
       "      <th>...</th>\n",
       "      <td>...</td>\n",
       "      <td>...</td>\n",
       "      <td>...</td>\n",
       "      <td>...</td>\n",
       "      <td>...</td>\n",
       "      <td>...</td>\n",
       "      <td>...</td>\n",
       "      <td>...</td>\n",
       "      <td>...</td>\n",
       "      <td>...</td>\n",
       "    </tr>\n",
       "    <tr>\n",
       "      <th>90</th>\n",
       "      <td>RO</td>\n",
       "      <td>0_to_50k</td>\n",
       "      <td>35-45</td>\n",
       "      <td>2</td>\n",
       "      <td>1</td>\n",
       "      <td>2.000</td>\n",
       "      <td>253.969163</td>\n",
       "      <td>253.969163</td>\n",
       "      <td>250.610567</td>\n",
       "      <td>0.333</td>\n",
       "    </tr>\n",
       "    <tr>\n",
       "      <th>91</th>\n",
       "      <td>RO</td>\n",
       "      <td>50k_to_200k</td>\n",
       "      <td>45-97</td>\n",
       "      <td>4</td>\n",
       "      <td>1</td>\n",
       "      <td>4.000</td>\n",
       "      <td>5368.558906</td>\n",
       "      <td>1342.139727</td>\n",
       "      <td>NaN</td>\n",
       "      <td>1.000</td>\n",
       "    </tr>\n",
       "    <tr>\n",
       "      <th>92</th>\n",
       "      <td>SE</td>\n",
       "      <td>200k_to_1m</td>\n",
       "      <td>45-97</td>\n",
       "      <td>2</td>\n",
       "      <td>1</td>\n",
       "      <td>2.000</td>\n",
       "      <td>806.964249</td>\n",
       "      <td>403.482125</td>\n",
       "      <td>NaN</td>\n",
       "      <td>1.000</td>\n",
       "    </tr>\n",
       "    <tr>\n",
       "      <th>93</th>\n",
       "      <td>SI</td>\n",
       "      <td>0_to_50k</td>\n",
       "      <td>35-45</td>\n",
       "      <td>2</td>\n",
       "      <td>1</td>\n",
       "      <td>2.000</td>\n",
       "      <td>1649.764509</td>\n",
       "      <td>824.882255</td>\n",
       "      <td>NaN</td>\n",
       "      <td>1.000</td>\n",
       "    </tr>\n",
       "    <tr>\n",
       "      <th>94</th>\n",
       "      <td>SI</td>\n",
       "      <td>0_to_50k</td>\n",
       "      <td>45-97</td>\n",
       "      <td>2</td>\n",
       "      <td>1</td>\n",
       "      <td>2.000</td>\n",
       "      <td>119.423641</td>\n",
       "      <td>119.423641</td>\n",
       "      <td>117.781007</td>\n",
       "      <td>1.000</td>\n",
       "    </tr>\n",
       "  </tbody>\n",
       "</table>\n",
       "<p>95 rows × 10 columns</p>\n",
       "</div>"
      ],
      "text/plain": [
       "   country_code total_claimed_wealth_usd nm_age_bin  total_gt_users  \\\n",
       "0            FR                 0_to_50k      45-97              28   \n",
       "1            CH                 0_to_50k      22-28              32   \n",
       "2            FR                 0_to_50k      22-28              25   \n",
       "3            CH                 0_to_50k      28-35              24   \n",
       "4            FR              50k_to_200k      45-97              18   \n",
       "..          ...                      ...        ...             ...   \n",
       "90           RO                 0_to_50k      35-45               2   \n",
       "91           RO              50k_to_200k      45-97               4   \n",
       "92           SE               200k_to_1m      45-97               2   \n",
       "93           SI                 0_to_50k      35-45               2   \n",
       "94           SI                 0_to_50k      45-97               2   \n",
       "\n",
       "    unique_gt_users  retention_rate  total_golden_thematic_purchase_usd  \\\n",
       "0                25           1.120                        15501.966004   \n",
       "1                21           1.524                        12508.979831   \n",
       "2                21           1.190                         3729.460925   \n",
       "3                18           1.333                         9939.839953   \n",
       "4                17           1.059                        11304.724495   \n",
       "..              ...             ...                                 ...   \n",
       "90                1           2.000                          253.969163   \n",
       "91                1           4.000                         5368.558906   \n",
       "92                1           2.000                          806.964249   \n",
       "93                1           2.000                         1649.764509   \n",
       "94                1           2.000                          119.423641   \n",
       "\n",
       "    avg_golden_thematic_purchase_usd  total_golden_thematic_sell_usd  \\\n",
       "0                         553.641643                     1334.514806   \n",
       "1                         416.965994                      349.537140   \n",
       "2                         169.520951                       40.609164   \n",
       "3                         451.810907                      379.428995   \n",
       "4                         628.040250                     3526.935606   \n",
       "..                               ...                             ...   \n",
       "90                        253.969163                      250.610567   \n",
       "91                       1342.139727                             NaN   \n",
       "92                        403.482125                             NaN   \n",
       "93                        824.882255                             NaN   \n",
       "94                        119.423641                      117.781007   \n",
       "\n",
       "    engagement_rate  \n",
       "0             0.362  \n",
       "1             0.288  \n",
       "2             0.328  \n",
       "3             0.295  \n",
       "4             0.531  \n",
       "..              ...  \n",
       "90            0.333  \n",
       "91            1.000  \n",
       "92            1.000  \n",
       "93            1.000  \n",
       "94            1.000  \n",
       "\n",
       "[95 rows x 10 columns]"
      ]
     },
     "execution_count": 52,
     "metadata": {},
     "output_type": "execute_result"
    }
   ],
   "source": [
    "users_metric_by_all_groups = query_table(\n",
    "    '''\n",
    "WITH all_users AS \n",
    "(\n",
    "   SELECT\n",
    "      country_code,\n",
    "      total_claimed_wealth_usd,\n",
    "      nm_age_bin,\n",
    "      COUNT(DISTINCT user_id) AS vl_all_users \n",
    "   FROM\n",
    "      first_week_result_general\n",
    "   GROUP BY\n",
    "      1, 2, 3\n",
    "),\n",
    "golden_users AS (\n",
    "SELECT\n",
    "   country_code,\n",
    "   total_claimed_wealth_usd,\n",
    "   nm_age_bin,\n",
    "   COUNT(user_id) AS total_gt_users,\n",
    "   COUNT(DISTINCT user_id) AS unique_gt_users,\n",
    "   ROUND(CAST(COUNT(user_id) AS float) / COUNT(DISTINCT user_id), 3) AS retention_rate,\n",
    "   SUM(golden_thematic_purchase_usd) AS total_golden_thematic_purchase_usd,\n",
    "   AVG(golden_thematic_purchase_usd) AS avg_golden_thematic_purchase_usd,\n",
    "   SUM(golden_thematic_sell_usd) AS total_golden_thematic_sell_usd \n",
    "FROM\n",
    "   first_week_result_golden_users\n",
    "GROUP BY\n",
    "   1, 2, 3\n",
    "ORDER BY\n",
    "   5 DESC\n",
    ")\n",
    "\n",
    "SELECT\n",
    "   g.*,\n",
    "   ROUND(CAST(g.unique_gt_users AS float) / vl_all_users, 3) AS engagement_rate \n",
    "FROM\n",
    "   golden_users AS g \n",
    "   LEFT JOIN\n",
    "      all_users AS a \n",
    "      ON g.country_code = a.country_code \n",
    "      AND g.total_claimed_wealth_usd = a.total_claimed_wealth_usd   \n",
    "      AND g.nm_age_bin = a.nm_age_bin \n",
    "''')\n",
    "\n",
    "users_metric_by_all_groups"
   ]
  }
 ],
 "metadata": {
  "kernelspec": {
   "display_name": "Python 3",
   "language": "python",
   "name": "python3"
  },
  "language_info": {
   "codemirror_mode": {
    "name": "ipython",
    "version": 3
   },
   "file_extension": ".py",
   "mimetype": "text/x-python",
   "name": "python",
   "nbconvert_exporter": "python",
   "pygments_lexer": "ipython3",
   "version": "3.11.0"
  }
 },
 "nbformat": 4,
 "nbformat_minor": 2
}
